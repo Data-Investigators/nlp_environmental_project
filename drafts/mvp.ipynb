{
 "cells": [
  {
   "cell_type": "markdown",
   "metadata": {},
   "source": [
    "# NLP Project - Predicting Programming Language"
   ]
  },
  {
   "cell_type": "markdown",
   "metadata": {},
   "source": [
    "*Welcome to the Ryan's Codeup Data Science MVP template! The sections in this notebook are here to help you organize your data science project into a clear workflow. The text in the markdown cells is there to help you understand the goals at each stage. Follow their instructions to move your work along, and then delete the prompts when you're done.*\n",
    "\n",
    "*Finish the mvp workflow and then go back and think critically about what you might of missed. The point isn't to doubt yourself; the purpose here is to check your blind spots and see if you can't find more information or insights that will help you to deliver better results.*\n",
    "\n",
    "*Better yet, and this cannot be stressed enough, don't ask **yourself** these questions, but bring them up in conversation with peers, experts in other fields, or even complete strangers -- anyone with a different point of view is going to be able to help you to see what things you are taking for granted.*"
   ]
  },
  {
   "cell_type": "markdown",
   "metadata": {},
   "source": [
    "## Summary\n",
    "\n",
    "*What are you going to do and how are you going to do it? Write out your thoughts here in a way that you can easily explain your work to members on your team.*\n",
    "\n",
    "*This is your space to put together the elevator pitch for your project, and then follow it up with a plan of attack. It's going to be short, but that doesn't mean you won't need to spend much time putting it together -- this is a process of dropping the bad ideas until you're left with something that you are confident you can work with.*\n",
    "\n",
    "*Don't take shortcuts here; coming up with a useful question and a straightforward work plan is going to make the rest of your project flow much more smoothly from start to finish.*\n",
    "\n",
    "*One final, and very important, point: the main reason for thinking about this stage as how you're going to describe your work to others is that you should be talking about work with others!!! The more you work on your project in isolation, the better your ideas will sound to you -- even the bad ones. Listening to your ideas spoken out loud in your own voice is an excellent sanity check, and feedback from your peers is your most valuable resource.*\n",
    "\n",
    "**You don't have to answer every question, but answer each that you can now and then come back later. Also, if the question doesn't apply, remove it.**"
   ]
  },
  {
   "cell_type": "markdown",
   "metadata": {},
   "source": [
    "### Problem Statement\n",
    "\n",
    "*Think about the problem you are trying to solve as a business case. After you've built your model, who is going to use it and what will they do with it? Who are your customers and stakeholders and what is their need? The need is not the data they are trying to understand -- think of the need as a specific action they would like to take or a question they want to answer.*\n",
    "    \n",
    "    - For this project, you will be scraping data from GitHub repository README files. The goal will be to build a model that can predict what programming language a repository is, given the text of the README file.\n",
    "    \n",
    "*What is your model going to **do** in the real world? If you can answer this, and if you keep that answer in mind as you complete your work, you will have a much clearer view of where to go at each step.*\n",
    "\n",
    "* Who are your customers?\n",
    "    - general audience\n",
    "* What is the problem?\n",
    "    - want to predict program language from words in readme content\n",
    "* What solution do you propose?\n",
    "    - Explore readme content for common words and phrases to identify features \n",
    "    - Model on Bag or Words and TF-IDF \n",
    "* How will you know if your work is good?\n",
    "    - ideally model F1 score and/or precission will be better than baseline\n",
    "\n",
    "*Also, think critacally here. If someone was paying you to do this work, what would they want you to build.*"
   ]
  },
  {
   "cell_type": "markdown",
   "metadata": {},
   "source": [
    "### Work Plan\n",
    "\n",
    "**Assignment**\n",
    "- For this project, you will be scraping data from GitHub repository README files. The goal will be to build a model that can predict what programming language a repository is, given the text of the README file.\n",
    "\n",
    "**Approach**\n",
    "- Using webscraping collect readme text and programming language from a minimum of 100 GitHub repositories\n",
    "- Explore the collected information to determine features for modeling\n",
    "- Verify dataset is not imbalanced, correct with over/under sampling if needed\n",
    "- Create a Baseline Model using most frequent language in dataset as prediction\n",
    "- Use BOW (Bag of Words) and TF-IDF machine learning algorithms to improve prediction accuracy/F1 score/precision/recall\n",
    "- Identify conclusions and next steps\n"
   ]
  },
  {
   "cell_type": "markdown",
   "metadata": {},
   "source": [
    "## Imports\n",
    "\n",
    "*Keep all your imports in one place. This will make it much easier to see everything that you are using*"
   ]
  },
  {
   "cell_type": "code",
   "execution_count": 1,
   "metadata": {},
   "outputs": [],
   "source": [
    "import acquire_ry\n",
    "import ry_prepare\n",
    "import ry_wrangle\n",
    "import explore\n",
    "import model as m\n",
    "\n",
    "explore.set_plotting_defaults()\n",
    "\n",
    "import pandas as pd\n",
    "import matplotlib.pyplot as plt\n",
    "import numpy as np\n",
    "import seaborn as sns\n",
    "import re\n",
    "import nltk\n",
    "import scipy.stats as stats\n",
    "\n",
    "from sklearn.feature_extraction.text import CountVectorizer\n",
    "from sklearn.feature_extraction.text import TfidfVectorizer\n",
    "from sklearn.naive_bayes import ComplementNB, MultinomialNB"
   ]
  },
  {
   "cell_type": "markdown",
   "metadata": {},
   "source": [
    "# Acquire the Data\n",
    "\n",
    "- Decided to search for repos with the word \"environmental\" to see if there was a language that was in more frequent use for these repos\n",
    "- Created function to fetch all urls from the first search page and return them as a list\n",
    "    - Discovered each search page contained links to 10 repos\n",
    "- With that list of urls then inspected the repo for the HTML needed to get the readme text and primary(first listed) programming language\n",
    "- Updated url function to iterate through search pages and return flattened list of urls\n",
    "    - had to only fetch info from repos with needed text (exclude empty or repos with text not in container)\n",
    "    - this returned 827 observations for 100 search pages (or 1,000 repos) scrapped\n",
    "- cached .json file for further use as function run time is very high\n",
    "- all functions stored in acquire.py file for future replication\n",
    "\n",
    "*After completing this step, be sure to edit the README data dictionary to include descriptions of where you obtained your data and what information it contains.*"
   ]
  },
  {
   "cell_type": "markdown",
   "metadata": {},
   "source": [
    "# Prepare the Data\n",
    "\n",
    "- load data from cached file\n",
    "- noted that over 10 different languages are present in the dataset\n",
    "    - decided to focus on the top 4 in our dataset = Python, JavaScript, HTML, Java\n",
    "    - added words column and doc_length column in preparation for Explore\n",
    "- cleaned data\n",
    "    - change all to lowercase, remove special characters by converting to ascii then returning to UTF-8, and replace anything that is not a letter, number, whitespace or a single quote\n",
    "    - Use NLTK TlktokTokenizer to seperate/tokenize text\n",
    "    - Remove stopwords from text with function that allows for additional words to exclude, or words to not exclude\n",
    "        - NOTE: during Exploration noticed words 'data', 'file', and 'environmental' appear in the top 5 words for all categories\n",
    "        - Added these words to the stopwords list to reduce noise\n",
    "     - Create column of stemmed text and separate column of lemmatized text for Exploration and Modeling\n",
    "- Split the dataset into train, validate, and test datasets and defined X and y sets for modeling, also return a separate set train_exp for Exploration"
   ]
  },
  {
   "cell_type": "code",
   "execution_count": 2,
   "metadata": {},
   "outputs": [
    {
     "name": "stdout",
     "output_type": "stream",
     "text": [
      "acquiring data\n",
      "preparing data\n",
      "splitting data\n",
      "complete\n",
      "X-train shape (234, 6) X_validate shape (79, 6) X_test shape (79, 6)\n"
     ]
    }
   ],
   "source": [
    "# full wrangle test\n",
    "train_exp, X_train, y_train, X_validate, y_validate, X_test, y_test = ry_wrangle.wrangle_github(cached=True)"
   ]
  },
  {
   "cell_type": "markdown",
   "metadata": {},
   "source": [
    "# Explore the Data\n",
    "\n",
    "- Check for imbalance in the dataset\n",
    "    - Balance looks ok, do not need to over/under sample\n",
    "- create list of words by language category\n",
    "- noticed words 'data', 'file', and 'environmental' appear in the top 5 words for all categories\n",
    "    - these words have been removed to reduce noise\n"
   ]
  },
  {
   "cell_type": "code",
   "execution_count": 3,
   "metadata": {},
   "outputs": [
    {
     "data": {
      "text/html": [
       "<div>\n",
       "<style scoped>\n",
       "    .dataframe tbody tr th:only-of-type {\n",
       "        vertical-align: middle;\n",
       "    }\n",
       "\n",
       "    .dataframe tbody tr th {\n",
       "        vertical-align: top;\n",
       "    }\n",
       "\n",
       "    .dataframe thead th {\n",
       "        text-align: right;\n",
       "    }\n",
       "</style>\n",
       "<table border=\"1\" class=\"dataframe\">\n",
       "  <thead>\n",
       "    <tr style=\"text-align: right;\">\n",
       "      <th></th>\n",
       "      <th>n</th>\n",
       "      <th>percent</th>\n",
       "    </tr>\n",
       "  </thead>\n",
       "  <tbody>\n",
       "    <tr>\n",
       "      <th>Python</th>\n",
       "      <td>83</td>\n",
       "      <td>0.354701</td>\n",
       "    </tr>\n",
       "    <tr>\n",
       "      <th>JavaScript</th>\n",
       "      <td>62</td>\n",
       "      <td>0.264957</td>\n",
       "    </tr>\n",
       "    <tr>\n",
       "      <th>HTML</th>\n",
       "      <td>49</td>\n",
       "      <td>0.209402</td>\n",
       "    </tr>\n",
       "    <tr>\n",
       "      <th>Java</th>\n",
       "      <td>40</td>\n",
       "      <td>0.170940</td>\n",
       "    </tr>\n",
       "  </tbody>\n",
       "</table>\n",
       "</div>"
      ],
      "text/plain": [
       "             n   percent\n",
       "Python      83  0.354701\n",
       "JavaScript  62  0.264957\n",
       "HTML        49  0.209402\n",
       "Java        40  0.170940"
      ]
     },
     "execution_count": 3,
     "metadata": {},
     "output_type": "execute_result"
    }
   ],
   "source": [
    "# check balance of dataset for under/over sampling\n",
    "explore.check_proportion(train_exp)\n",
    "# balance is not bad, will not need to over/under sample"
   ]
  },
  {
   "cell_type": "code",
   "execution_count": 4,
   "metadata": {},
   "outputs": [],
   "source": [
    "# create a list of words for each language category and remove single letter words\n",
    "python_words, js_words, html_words, java_words = explore.create_lang_word_list(train_exp)\n",
    "# get the count of words by category\n",
    "python_freq, js_freq, html_freq, java_freq = explore.get_count_word_freq(python_words, js_words, html_words, java_words)"
   ]
  },
  {
   "cell_type": "code",
   "execution_count": 5,
   "metadata": {},
   "outputs": [
    {
     "data": {
      "text/plain": [
       "00                     226\n",
       "using                  121\n",
       "install                104\n",
       "sensor                 100\n",
       "database                97\n",
       "                      ... \n",
       "dane                     1\n",
       "webblasaraktiverade      1\n",
       "jensen                   1\n",
       "hopefully                1\n",
       "egpython                 1\n",
       "Length: 6976, dtype: int64"
      ]
     },
     "execution_count": 5,
     "metadata": {},
     "output_type": "execute_result"
    }
   ],
   "source": [
    "python_freq\n",
    "# note: 4 most common = '00', 'file', 'data', 'environmental'\n",
    "# results after reduced noise"
   ]
  },
  {
   "cell_type": "code",
   "execution_count": 6,
   "metadata": {},
   "outputs": [
    {
     "data": {
      "text/plain": [
       "system          81\n",
       "project         77\n",
       "device          75\n",
       "sensor          75\n",
       "install         74\n",
       "                ..\n",
       "unpriviliged     1\n",
       "arbitrary        1\n",
       "francesco        1\n",
       "homepiepaper     1\n",
       "libconfig        1\n",
       "Length: 4331, dtype: int64"
      ]
     },
     "execution_count": 6,
     "metadata": {},
     "output_type": "execute_result"
    }
   ],
   "source": [
    "js_freq\n",
    "# note: 'data', 'file', 'environmental' are in top 5 words\n",
    "# results after reduced noise"
   ]
  },
  {
   "cell_type": "code",
   "execution_count": 7,
   "metadata": {},
   "outputs": [
    {
     "data": {
      "text/plain": [
       "worcester      47\n",
       "nd             46\n",
       "retrieved      42\n",
       "description    41\n",
       "source         41\n",
       "               ..\n",
       "employing       1\n",
       "11122019        1\n",
       "datasheet       1\n",
       "ubuntu          1\n",
       "739             1\n",
       "Length: 2495, dtype: int64"
      ]
     },
     "execution_count": 7,
     "metadata": {},
     "output_type": "execute_result"
    }
   ],
   "source": [
    "html_freq\n",
    "# note: 'data', 'file', 'environmental' are top 3 words\n",
    "# results after reduced noise"
   ]
  },
  {
   "cell_type": "code",
   "execution_count": 8,
   "metadata": {},
   "outputs": [
    {
     "data": {
      "text/plain": [
       "property         103\n",
       "&#9;              85\n",
       "new               42\n",
       "environment       37\n",
       "configuration     32\n",
       "                ... \n",
       "overridden         1\n",
       "realtime           1\n",
       "visualize          1\n",
       "update             1\n",
       "retains            1\n",
       "Length: 1806, dtype: int64"
      ]
     },
     "execution_count": 8,
     "metadata": {},
     "output_type": "execute_result"
    }
   ],
   "source": [
    "java_freq\n",
    "# note: 'data', 'file', 'environmental' are in top 5 words\n",
    "# results after reduced noise"
   ]
  },
  {
   "cell_type": "code",
   "execution_count": 9,
   "metadata": {},
   "outputs": [
    {
     "data": {
      "text/html": [
       "<div>\n",
       "<style scoped>\n",
       "    .dataframe tbody tr th:only-of-type {\n",
       "        vertical-align: middle;\n",
       "    }\n",
       "\n",
       "    .dataframe tbody tr th {\n",
       "        vertical-align: top;\n",
       "    }\n",
       "\n",
       "    .dataframe thead th {\n",
       "        text-align: right;\n",
       "    }\n",
       "</style>\n",
       "<table border=\"1\" class=\"dataframe\">\n",
       "  <thead>\n",
       "    <tr style=\"text-align: right;\">\n",
       "      <th></th>\n",
       "      <th>Python</th>\n",
       "      <th>JavaScript</th>\n",
       "      <th>HTML</th>\n",
       "      <th>Java</th>\n",
       "      <th>all_words</th>\n",
       "    </tr>\n",
       "  </thead>\n",
       "  <tbody>\n",
       "    <tr>\n",
       "      <th>&amp;#9;</th>\n",
       "      <td>29</td>\n",
       "      <td>4</td>\n",
       "      <td>3</td>\n",
       "      <td>85</td>\n",
       "      <td>121</td>\n",
       "    </tr>\n",
       "    <tr>\n",
       "      <th>&amp;#9;&amp;#9;</th>\n",
       "      <td>0</td>\n",
       "      <td>0</td>\n",
       "      <td>0</td>\n",
       "      <td>1</td>\n",
       "      <td>1</td>\n",
       "    </tr>\n",
       "    <tr>\n",
       "      <th>&amp;#9;download</th>\n",
       "      <td>1</td>\n",
       "      <td>0</td>\n",
       "      <td>0</td>\n",
       "      <td>0</td>\n",
       "      <td>1</td>\n",
       "    </tr>\n",
       "    <tr>\n",
       "      <th>00</th>\n",
       "      <td>226</td>\n",
       "      <td>0</td>\n",
       "      <td>0</td>\n",
       "      <td>0</td>\n",
       "      <td>226</td>\n",
       "    </tr>\n",
       "    <tr>\n",
       "      <th>000</th>\n",
       "      <td>1</td>\n",
       "      <td>0</td>\n",
       "      <td>0</td>\n",
       "      <td>0</td>\n",
       "      <td>1</td>\n",
       "    </tr>\n",
       "  </tbody>\n",
       "</table>\n",
       "</div>"
      ],
      "text/plain": [
       "              Python  JavaScript  HTML  Java  all_words\n",
       "&#9;              29           4     3    85        121\n",
       "&#9;&#9;           0           0     0     1          1\n",
       "&#9;download       1           0     0     0          1\n",
       "00               226           0     0     0        226\n",
       "000                1           0     0     0          1"
      ]
     },
     "execution_count": 9,
     "metadata": {},
     "output_type": "execute_result"
    }
   ],
   "source": [
    "# combine list of word counts into df for further exploration\n",
    "word_counts = explore.create_df_word_counts(python_freq, js_freq, html_freq, java_freq)\n",
    "word_counts.head()"
   ]
  },
  {
   "cell_type": "markdown",
   "metadata": {},
   "source": [
    "Next, compute proportion of each string that for each language.    \n",
    "Because the languages are relatively balanced, we should see about the same proportion as the distibution in the dataset. If we see significantly higher or lower proportion, then that word might be a good feature in predicting that language.    \n",
    "A chi-square test could confirm or deny significance if needed.\n",
    "\n"
   ]
  },
  {
   "cell_type": "code",
   "execution_count": 10,
   "metadata": {},
   "outputs": [
    {
     "data": {
      "text/html": [
       "<div>\n",
       "<style scoped>\n",
       "    .dataframe tbody tr th:only-of-type {\n",
       "        vertical-align: middle;\n",
       "    }\n",
       "\n",
       "    .dataframe tbody tr th {\n",
       "        vertical-align: top;\n",
       "    }\n",
       "\n",
       "    .dataframe thead th {\n",
       "        text-align: right;\n",
       "    }\n",
       "</style>\n",
       "<table border=\"1\" class=\"dataframe\">\n",
       "  <thead>\n",
       "    <tr style=\"text-align: right;\">\n",
       "      <th></th>\n",
       "      <th>Python</th>\n",
       "      <th>JavaScript</th>\n",
       "      <th>HTML</th>\n",
       "      <th>Java</th>\n",
       "      <th>all_words</th>\n",
       "      <th>prop_python</th>\n",
       "      <th>prop_js</th>\n",
       "      <th>prop_html</th>\n",
       "      <th>prop_java</th>\n",
       "    </tr>\n",
       "  </thead>\n",
       "  <tbody>\n",
       "    <tr>\n",
       "      <th>&amp;#9;</th>\n",
       "      <td>29</td>\n",
       "      <td>4</td>\n",
       "      <td>3</td>\n",
       "      <td>85</td>\n",
       "      <td>121</td>\n",
       "      <td>0.239669</td>\n",
       "      <td>0.033058</td>\n",
       "      <td>0.024793</td>\n",
       "      <td>0.702479</td>\n",
       "    </tr>\n",
       "    <tr>\n",
       "      <th>&amp;#9;&amp;#9;</th>\n",
       "      <td>0</td>\n",
       "      <td>0</td>\n",
       "      <td>0</td>\n",
       "      <td>1</td>\n",
       "      <td>1</td>\n",
       "      <td>0.000000</td>\n",
       "      <td>0.000000</td>\n",
       "      <td>0.000000</td>\n",
       "      <td>1.000000</td>\n",
       "    </tr>\n",
       "    <tr>\n",
       "      <th>&amp;#9;download</th>\n",
       "      <td>1</td>\n",
       "      <td>0</td>\n",
       "      <td>0</td>\n",
       "      <td>0</td>\n",
       "      <td>1</td>\n",
       "      <td>1.000000</td>\n",
       "      <td>0.000000</td>\n",
       "      <td>0.000000</td>\n",
       "      <td>0.000000</td>\n",
       "    </tr>\n",
       "    <tr>\n",
       "      <th>00</th>\n",
       "      <td>226</td>\n",
       "      <td>0</td>\n",
       "      <td>0</td>\n",
       "      <td>0</td>\n",
       "      <td>226</td>\n",
       "      <td>1.000000</td>\n",
       "      <td>0.000000</td>\n",
       "      <td>0.000000</td>\n",
       "      <td>0.000000</td>\n",
       "    </tr>\n",
       "    <tr>\n",
       "      <th>000</th>\n",
       "      <td>1</td>\n",
       "      <td>0</td>\n",
       "      <td>0</td>\n",
       "      <td>0</td>\n",
       "      <td>1</td>\n",
       "      <td>1.000000</td>\n",
       "      <td>0.000000</td>\n",
       "      <td>0.000000</td>\n",
       "      <td>0.000000</td>\n",
       "    </tr>\n",
       "    <tr>\n",
       "      <th>000000</th>\n",
       "      <td>0</td>\n",
       "      <td>5</td>\n",
       "      <td>0</td>\n",
       "      <td>0</td>\n",
       "      <td>5</td>\n",
       "      <td>0.000000</td>\n",
       "      <td>1.000000</td>\n",
       "      <td>0.000000</td>\n",
       "      <td>0.000000</td>\n",
       "    </tr>\n",
       "    <tr>\n",
       "      <th>0000dd</th>\n",
       "      <td>0</td>\n",
       "      <td>1</td>\n",
       "      <td>0</td>\n",
       "      <td>0</td>\n",
       "      <td>1</td>\n",
       "      <td>0.000000</td>\n",
       "      <td>1.000000</td>\n",
       "      <td>0.000000</td>\n",
       "      <td>0.000000</td>\n",
       "    </tr>\n",
       "    <tr>\n",
       "      <th>0023</th>\n",
       "      <td>1</td>\n",
       "      <td>0</td>\n",
       "      <td>0</td>\n",
       "      <td>0</td>\n",
       "      <td>1</td>\n",
       "      <td>1.000000</td>\n",
       "      <td>0.000000</td>\n",
       "      <td>0.000000</td>\n",
       "      <td>0.000000</td>\n",
       "    </tr>\n",
       "    <tr>\n",
       "      <th>003</th>\n",
       "      <td>1</td>\n",
       "      <td>0</td>\n",
       "      <td>0</td>\n",
       "      <td>0</td>\n",
       "      <td>1</td>\n",
       "      <td>1.000000</td>\n",
       "      <td>0.000000</td>\n",
       "      <td>0.000000</td>\n",
       "      <td>0.000000</td>\n",
       "    </tr>\n",
       "    <tr>\n",
       "      <th>005</th>\n",
       "      <td>1</td>\n",
       "      <td>0</td>\n",
       "      <td>0</td>\n",
       "      <td>0</td>\n",
       "      <td>1</td>\n",
       "      <td>1.000000</td>\n",
       "      <td>0.000000</td>\n",
       "      <td>0.000000</td>\n",
       "      <td>0.000000</td>\n",
       "    </tr>\n",
       "  </tbody>\n",
       "</table>\n",
       "</div>"
      ],
      "text/plain": [
       "              Python  JavaScript  HTML  Java  all_words  prop_python  \\\n",
       "&#9;              29           4     3    85        121     0.239669   \n",
       "&#9;&#9;           0           0     0     1          1     0.000000   \n",
       "&#9;download       1           0     0     0          1     1.000000   \n",
       "00               226           0     0     0        226     1.000000   \n",
       "000                1           0     0     0          1     1.000000   \n",
       "000000             0           5     0     0          5     0.000000   \n",
       "0000dd             0           1     0     0          1     0.000000   \n",
       "0023               1           0     0     0          1     1.000000   \n",
       "003                1           0     0     0          1     1.000000   \n",
       "005                1           0     0     0          1     1.000000   \n",
       "\n",
       "               prop_js  prop_html  prop_java  \n",
       "&#9;          0.033058   0.024793   0.702479  \n",
       "&#9;&#9;      0.000000   0.000000   1.000000  \n",
       "&#9;download  0.000000   0.000000   0.000000  \n",
       "00            0.000000   0.000000   0.000000  \n",
       "000           0.000000   0.000000   0.000000  \n",
       "000000        1.000000   0.000000   0.000000  \n",
       "0000dd        1.000000   0.000000   0.000000  \n",
       "0023          0.000000   0.000000   0.000000  \n",
       "003           0.000000   0.000000   0.000000  \n",
       "005           0.000000   0.000000   0.000000  "
      ]
     },
     "execution_count": 10,
     "metadata": {},
     "output_type": "execute_result"
    }
   ],
   "source": [
    "word_counts = explore.word_counts_proportion(word_counts)\n",
    "word_counts.head(10)"
   ]
  },
  {
   "cell_type": "markdown",
   "metadata": {},
   "source": [
    "**Takeaways**\n",
    "\n",
    "- `&#9;` highest frequency is Java, present in others but much lower, might work for feature? or remove for noise?\n",
    "- all instances of '00' are Python\n",
    "- all instances of '000000' are JavaScript\n",
    "\n",
    "not sure that these are good takeaways or features yet\n",
    "\n",
    "\n",
    "For now, though, we will filter out rows with strings that only occur less a certain amount, as they are likely not going to provide much information. Let's first look at the distribution of counts to decide where that cutoff will be."
   ]
  },
  {
   "cell_type": "code",
   "execution_count": 11,
   "metadata": {},
   "outputs": [
    {
     "name": "stdout",
     "output_type": "stream",
     "text": [
      "The number of words that occur n times: \n"
     ]
    },
    {
     "data": {
      "text/plain": [
       "1     6423\n",
       "2     1821\n",
       "3      709\n",
       "4      421\n",
       "5      279\n",
       "6      208\n",
       "7      153\n",
       "8      121\n",
       "9      109\n",
       "11      80\n",
       "10      79\n",
       "12      73\n",
       "13      59\n",
       "14      45\n",
       "16      45\n",
       "15      38\n",
       "19      37\n",
       "22      33\n",
       "17      32\n",
       "20      26\n",
       "Name: all_words, dtype: int64"
      ]
     },
     "execution_count": 11,
     "metadata": {},
     "output_type": "execute_result"
    }
   ],
   "source": [
    "print(\"The number of words that occur n times: \")\n",
    "word_counts['all_words'].value_counts().head(20)"
   ]
  },
  {
   "cell_type": "code",
   "execution_count": 12,
   "metadata": {},
   "outputs": [
    {
     "name": "stdout",
     "output_type": "stream",
     "text": [
      "<class 'pandas.core.frame.DataFrame'>\n",
      "Index: 428 entries, &#9; to zero\n",
      "Data columns (total 9 columns):\n",
      " #   Column       Non-Null Count  Dtype  \n",
      "---  ------       --------------  -----  \n",
      " 0   Python       428 non-null    int64  \n",
      " 1   JavaScript   428 non-null    int64  \n",
      " 2   HTML         428 non-null    int64  \n",
      " 3   Java         428 non-null    int64  \n",
      " 4   all_words    428 non-null    int64  \n",
      " 5   prop_python  428 non-null    float64\n",
      " 6   prop_js      428 non-null    float64\n",
      " 7   prop_html    428 non-null    float64\n",
      " 8   prop_java    428 non-null    float64\n",
      "dtypes: float64(4), int64(5)\n",
      "memory usage: 33.4+ KB\n"
     ]
    }
   ],
   "source": [
    "# filter out all words that occur less than 20 times\n",
    "word_counts = word_counts[word_counts['all_words'] >= 20]\n",
    "word_counts.info()"
   ]
  },
  {
   "cell_type": "markdown",
   "metadata": {},
   "source": [
    "## Feature Selection Words\n",
    "This leaves us with 428 words which seems like a good amount (better than 603 with only 15 as cutoff).\n",
    "\n",
    "We can now use this data set to answer some interesting questions:\n",
    "\n",
    "Are there words that should be added to the stopword list?\n",
    "- added 'file', 'data', 'environmental' to the list\n",
    "- only remaining shared word in Top 5 is 'sensor' and only shared by Python and JavaScript\n",
    "\n",
    "Are there any words that are unique to one language that could be a feature?\n",
    "- Yes, have the variables of these words but unsure how to use them as a feature\n"
   ]
  },
  {
   "cell_type": "code",
   "execution_count": 13,
   "metadata": {},
   "outputs": [],
   "source": [
    "python_feature = word_counts[word_counts.prop_python == 1.0].sort_values(by='Python', ascending=False)\n",
    "# These words occur exclusively in Python readme texts. They might be a good list for a Python feature?\n",
    "python_feature_list = python_feature.index.to_list()"
   ]
  },
  {
   "cell_type": "code",
   "execution_count": 14,
   "metadata": {},
   "outputs": [
    {
     "data": {
      "text/plain": [
       "['00',\n",
       " 'de',\n",
       " 'mycodo',\n",
       " 'classification',\n",
       " 'cnn',\n",
       " 'barque',\n",
       " 'grasp',\n",
       " 'la',\n",
       " 'convolutional',\n",
       " 'outlier']"
      ]
     },
     "execution_count": 14,
     "metadata": {},
     "output_type": "execute_result"
    }
   ],
   "source": [
    "python_feature_list"
   ]
  },
  {
   "cell_type": "code",
   "execution_count": 15,
   "metadata": {},
   "outputs": [],
   "source": [
    "# repeat for other languages\n",
    "js_feature = word_counts[word_counts.prop_js == 1.0].sort_values(by='JavaScript', ascending=False)\n",
    "js_feature_list = js_feature.index.to_list()"
   ]
  },
  {
   "cell_type": "code",
   "execution_count": 16,
   "metadata": {},
   "outputs": [
    {
     "data": {
      "text/plain": [
       "['gps', 'epaper', 'waved']"
      ]
     },
     "execution_count": 16,
     "metadata": {},
     "output_type": "execute_result"
    }
   ],
   "source": [
    "js_feature_list"
   ]
  },
  {
   "cell_type": "code",
   "execution_count": 17,
   "metadata": {},
   "outputs": [],
   "source": [
    "html_feature = word_counts[word_counts.prop_html == 1.0].sort_values(by='HTML', ascending=False)\n",
    "html_feature_list = html_feature.index.to_list()"
   ]
  },
  {
   "cell_type": "code",
   "execution_count": 18,
   "metadata": {},
   "outputs": [
    {
     "data": {
      "text/plain": [
       "['worcester']"
      ]
     },
     "execution_count": 18,
     "metadata": {},
     "output_type": "execute_result"
    }
   ],
   "source": [
    "html_feature_list"
   ]
  },
  {
   "cell_type": "code",
   "execution_count": 80,
   "metadata": {},
   "outputs": [],
   "source": [
    "java_feature = word_counts[word_counts.prop_java == 1.0].sort_values(by='Java', ascending=False)\n",
    "java_feature_list = java_feature.index.to_list()"
   ]
  },
  {
   "cell_type": "code",
   "execution_count": 81,
   "metadata": {},
   "outputs": [
    {
     "data": {
      "text/plain": [
       "['propertiesmergerbuilder',\n",
       " 'bean',\n",
       " 'environmentspecificpropertiesmergerbuilder',\n",
       " 'mergerbuilder']"
      ]
     },
     "execution_count": 81,
     "metadata": {},
     "output_type": "execute_result"
    }
   ],
   "source": [
    "java_feature_list"
   ]
  },
  {
   "cell_type": "markdown",
   "metadata": {},
   "source": [
    "## Visualize"
   ]
  },
  {
   "cell_type": "code",
   "execution_count": 21,
   "metadata": {},
   "outputs": [
    {
     "data": {
      "text/plain": [
       "<Figure size 864x576 with 0 Axes>"
      ]
     },
     "metadata": {},
     "output_type": "display_data"
    },
    {
     "data": {
      "image/png": "[encoded data removed]",
      "text/plain": [
       "<Figure size 936x504 with 1 Axes>"
      ]
     },
     "metadata": {},
     "output_type": "display_data"
    }
   ],
   "source": [
    "# visualize the % of the term in each language\n",
    "explore.proportion_visualization(word_counts)"
   ]
  },
  {
   "cell_type": "markdown",
   "metadata": {},
   "source": [
    "## Bigrams"
   ]
  },
  {
   "cell_type": "code",
   "execution_count": 22,
   "metadata": {},
   "outputs": [
    {
     "data": {
      "image/png": "[encoded data removed]",
      "text/plain": [
       "<Figure size 720x720 with 4 Axes>"
      ]
     },
     "metadata": {},
     "output_type": "display_data"
    }
   ],
   "source": [
    "python_bigrams, js_bigrams, html_bigrams, java_bigrams = explore.create_bigrams(python_words, js_words, html_words, java_words)\n",
    "explore.plot_bigrams(python_bigrams, js_bigrams, html_bigrams, java_bigrams)"
   ]
  },
  {
   "cell_type": "markdown",
   "metadata": {},
   "source": [
    "## Statistical Testing\n",
    "\n",
    "- Is the average word count significantly different from the population mean for each language?\n",
    "- Using a one sample, 2 tail t-test determine if the mean word count (doc_length) for each language is significantly different from the population (overall mean)\n",
    "\n",
    "Ho: There is no significant difference     \n",
    "Ha: There is a significant difference     \n",
    "alpha: .05\n",
    "\n",
    "**Conclusions**\n",
    "- For Python, JavaScript, and Java there is no significant difference in the readme length vs the overall mean length\n",
    "- For HTML there is a significant difference"
   ]
  },
  {
   "cell_type": "code",
   "execution_count": 23,
   "metadata": {},
   "outputs": [
    {
     "data": {
      "image/png": "[encoded data removed]",
      "text/plain": [
       "<Figure size 936x504 with 1 Axes>"
      ]
     },
     "metadata": {},
     "output_type": "display_data"
    }
   ],
   "source": [
    "# Visualize programming language by readme length\n",
    "explore.sns_boxplot(train_exp)"
   ]
  },
  {
   "cell_type": "code",
   "execution_count": 24,
   "metadata": {},
   "outputs": [],
   "source": [
    "# create sample variables for stats test\n",
    "python_sample = train_exp[train_exp.language=='Python'].doc_length\n",
    "js_sample = train_exp[train_exp.language=='JavaScript'].doc_length\n",
    "html_sample = train_exp[train_exp.language=='HTML'].doc_length\n",
    "java_sample = train_exp[train_exp.language=='Java'].doc_length\n",
    "overall_mean = train_exp.doc_length.mean()"
   ]
  },
  {
   "cell_type": "code",
   "execution_count": 25,
   "metadata": {},
   "outputs": [
    {
     "name": "stdout",
     "output_type": "stream",
     "text": [
      "False\n"
     ]
    },
    {
     "data": {
      "text/plain": [
       "(1.3646833174208424, 0.1760858155624954)"
      ]
     },
     "execution_count": 25,
     "metadata": {},
     "output_type": "execute_result"
    }
   ],
   "source": [
    "# Python vs. overall mean\n",
    "explore.ttest_1samp(python_sample, overall_mean)\n",
    "# We fail to reject the null hypothesis and conclude there is no significant difference."
   ]
  },
  {
   "cell_type": "code",
   "execution_count": 26,
   "metadata": {},
   "outputs": [
    {
     "name": "stdout",
     "output_type": "stream",
     "text": [
      "False\n"
     ]
    },
    {
     "data": {
      "text/plain": [
       "(0.39910939021510883, 0.6912064458483929)"
      ]
     },
     "execution_count": 26,
     "metadata": {},
     "output_type": "execute_result"
    }
   ],
   "source": [
    "# JavaScript vs. overall mean\n",
    "explore.ttest_1samp(js_sample, overall_mean)\n",
    "# We fail to reject the null hypothesis and conclude there is no significant difference."
   ]
  },
  {
   "cell_type": "code",
   "execution_count": 27,
   "metadata": {},
   "outputs": [
    {
     "name": "stdout",
     "output_type": "stream",
     "text": [
      "True\n"
     ]
    },
    {
     "data": {
      "text/plain": [
       "(-2.12158663408183, 0.03906197489424692)"
      ]
     },
     "execution_count": 27,
     "metadata": {},
     "output_type": "execute_result"
    }
   ],
   "source": [
    "# HTML vs. overall mean\n",
    "explore.ttest_1samp(html_sample, overall_mean)\n",
    "# We reject the null hypothesis and conclude there is a significant difference for HTML readme files."
   ]
  },
  {
   "cell_type": "code",
   "execution_count": 28,
   "metadata": {},
   "outputs": [
    {
     "name": "stdout",
     "output_type": "stream",
     "text": [
      "False\n"
     ]
    },
    {
     "data": {
      "text/plain": [
       "(-1.8057327766409508, 0.07868308420925468)"
      ]
     },
     "execution_count": 28,
     "metadata": {},
     "output_type": "execute_result"
    }
   ],
   "source": [
    "# Java vs. overall mean\n",
    "explore.ttest_1samp(java_sample, overall_mean)\n",
    "# We fail to reject the null hypothesis and conclude there is no significant difference."
   ]
  },
  {
   "cell_type": "markdown",
   "metadata": {},
   "source": [
    "# Model the Data\n",
    "\n",
    "### Feature Extraction\n",
    "**Bag of Words**\n",
    "Create CountVectorizer, which create bag-of-words model. We call vectorization the general process of turning a collection of text documents into numerical feature vectors. This specific strategy (tokenization, counting and normalization) is called the Bag of Words or “Bag of n-grams” representation. Documents are described by word occurrences while completely ignoring the relative position information of the words in the document. https://scikit-learn.org/stable/modules/feature_extraction.html\n",
    "\n",
    "**TF-IDF**\n",
    "A word that has a high frequency in a document will have a high TF. If it appears in many other documents, than the information the word provides, or uniqueness of that word, is lowered. This is done mathematically by multiplying by the IDF, which will approach 0 and the number of documents with the word increases. Using TfidfVectorizer converts a collection of raw documents to a matrix of TF-IDF features.\n",
    "\n",
    "### Train Validation Test Split\n",
    "- Data split already\n",
    "- Data has been cleaned\n",
    "\n",
    "**Open Question**\n",
    "How would you use unique word lists as features for model instead of extracting features?"
   ]
  },
  {
   "cell_type": "markdown",
   "metadata": {},
   "source": [
    "## Create Bag of Words for Modeling"
   ]
  },
  {
   "cell_type": "code",
   "execution_count": 41,
   "metadata": {},
   "outputs": [
    {
     "data": {
      "text/html": [
       "<div>\n",
       "<style scoped>\n",
       "    .dataframe tbody tr th:only-of-type {\n",
       "        vertical-align: middle;\n",
       "    }\n",
       "\n",
       "    .dataframe tbody tr th {\n",
       "        vertical-align: top;\n",
       "    }\n",
       "\n",
       "    .dataframe thead th {\n",
       "        text-align: right;\n",
       "    }\n",
       "</style>\n",
       "<table border=\"1\" class=\"dataframe\">\n",
       "  <thead>\n",
       "    <tr style=\"text-align: right;\">\n",
       "      <th></th>\n",
       "      <th>content</th>\n",
       "      <th>clean</th>\n",
       "      <th>stemmed</th>\n",
       "      <th>lemmatized</th>\n",
       "      <th>words</th>\n",
       "      <th>doc_length</th>\n",
       "      <th>predicted</th>\n",
       "      <th>pred_tfidf</th>\n",
       "    </tr>\n",
       "  </thead>\n",
       "  <tbody>\n",
       "    <tr>\n",
       "      <th>26</th>\n",
       "      <td>Environmental_Data_Analytics\\nData analytics c...</td>\n",
       "      <td>environmentaldataanalytics analytics course du...</td>\n",
       "      <td>environmentaldataanalyt analyt cours duke univ...</td>\n",
       "      <td>environmentaldataanalytics analytics course du...</td>\n",
       "      <td>[environmentaldataanalytics, analytics, course...</td>\n",
       "      <td>73</td>\n",
       "      <td>JavaScript</td>\n",
       "      <td>HTML</td>\n",
       "    </tr>\n",
       "    <tr>\n",
       "      <th>36</th>\n",
       "      <td>MinCED - Mining CRISPRs in Environmental Datas...</td>\n",
       "      <td>minced mining crisprs datasets minced program ...</td>\n",
       "      <td>minc mine crispr dataset minc program find clu...</td>\n",
       "      <td>minced mining crisprs datasets minced program ...</td>\n",
       "      <td>[minced, mining, crisprs, datasets, minced, pr...</td>\n",
       "      <td>215</td>\n",
       "      <td>JavaScript</td>\n",
       "      <td>HTML</td>\n",
       "    </tr>\n",
       "    <tr>\n",
       "      <th>35</th>\n",
       "      <td>Open Simulation Interface (OSI)\\n\\nThe Open Si...</td>\n",
       "      <td>open simulation interface osi open simulation ...</td>\n",
       "      <td>open simul interfac osi open simul interfac 1 ...</td>\n",
       "      <td>open simulation interface osi open simulation ...</td>\n",
       "      <td>[open, simulation, interface, osi, open, simul...</td>\n",
       "      <td>258</td>\n",
       "      <td>Python</td>\n",
       "      <td>Python</td>\n",
       "    </tr>\n",
       "    <tr>\n",
       "      <th>156</th>\n",
       "      <td>Community Water Model (CWatM)\\nIIASA\\n13rd Oct...</td>\n",
       "      <td>community water model cwatm iiasa 13rd october...</td>\n",
       "      <td>commun water model cwatm iiasa 13rd octob 2020...</td>\n",
       "      <td>community water model cwatm iiasa 13rd october...</td>\n",
       "      <td>[community, water, model, cwatm, iiasa, 13rd, ...</td>\n",
       "      <td>241</td>\n",
       "      <td>Java</td>\n",
       "      <td>Python</td>\n",
       "    </tr>\n",
       "    <tr>\n",
       "      <th>546</th>\n",
       "      <td>EnvironmentalGame\\nThis game was developed for...</td>\n",
       "      <td>environmentalgame game developed ' environment...</td>\n",
       "      <td>environmentalgam game develop ' environ scienc...</td>\n",
       "      <td>environmentalgame game developed ' environment...</td>\n",
       "      <td>[environmentalgame, game, developedenvironment...</td>\n",
       "      <td>9</td>\n",
       "      <td>Python</td>\n",
       "      <td>Python</td>\n",
       "    </tr>\n",
       "  </tbody>\n",
       "</table>\n",
       "</div>"
      ],
      "text/plain": [
       "                                               content  \\\n",
       "26   Environmental_Data_Analytics\\nData analytics c...   \n",
       "36   MinCED - Mining CRISPRs in Environmental Datas...   \n",
       "35   Open Simulation Interface (OSI)\\n\\nThe Open Si...   \n",
       "156  Community Water Model (CWatM)\\nIIASA\\n13rd Oct...   \n",
       "546  EnvironmentalGame\\nThis game was developed for...   \n",
       "\n",
       "                                                 clean  \\\n",
       "26   environmentaldataanalytics analytics course du...   \n",
       "36   minced mining crisprs datasets minced program ...   \n",
       "35   open simulation interface osi open simulation ...   \n",
       "156  community water model cwatm iiasa 13rd october...   \n",
       "546  environmentalgame game developed ' environment...   \n",
       "\n",
       "                                               stemmed  \\\n",
       "26   environmentaldataanalyt analyt cours duke univ...   \n",
       "36   minc mine crispr dataset minc program find clu...   \n",
       "35   open simul interfac osi open simul interfac 1 ...   \n",
       "156  commun water model cwatm iiasa 13rd octob 2020...   \n",
       "546  environmentalgam game develop ' environ scienc...   \n",
       "\n",
       "                                            lemmatized  \\\n",
       "26   environmentaldataanalytics analytics course du...   \n",
       "36   minced mining crisprs datasets minced program ...   \n",
       "35   open simulation interface osi open simulation ...   \n",
       "156  community water model cwatm iiasa 13rd october...   \n",
       "546  environmentalgame game developed ' environment...   \n",
       "\n",
       "                                                 words  doc_length  \\\n",
       "26   [environmentaldataanalytics, analytics, course...          73   \n",
       "36   [minced, mining, crisprs, datasets, minced, pr...         215   \n",
       "35   [open, simulation, interface, osi, open, simul...         258   \n",
       "156  [community, water, model, cwatm, iiasa, 13rd, ...         241   \n",
       "546  [environmentalgame, game, developedenvironment...           9   \n",
       "\n",
       "      predicted pred_tfidf  \n",
       "26   JavaScript       HTML  \n",
       "36   JavaScript       HTML  \n",
       "35       Python     Python  \n",
       "156        Java     Python  \n",
       "546      Python     Python  "
      ]
     },
     "execution_count": 41,
     "metadata": {},
     "output_type": "execute_result"
    }
   ],
   "source": [
    "X_train.head()"
   ]
  },
  {
   "cell_type": "code",
   "execution_count": 63,
   "metadata": {},
   "outputs": [],
   "source": [
    "# Create CountVectorizer, which create bag-of-words model.\n",
    "# stop_words : Specify language to remove stopwords. \n",
    "# min_df: ignore terms that have a document frequency strictly \n",
    "# lower than the given threshold. This value is also called cut-off in the literature. \n",
    "# If float, the parameter represents a proportion of documents, integer absolute counts. \n",
    "# ngram_range: the lower and upper boundary of the range of n-values for \n",
    "# different word n-grams or char n-grams to be extracted. \n",
    "\n",
    "vectorizer = CountVectorizer(stop_words='english', \n",
    "                             min_df=20, \n",
    "                             ngram_range=(1,2), \n",
    "                             binary=True)\n",
    "\n",
    "# Learn vocabulary in sentences. \n",
    "vectorizer.fit(X_train.stemmed)\n",
    "\n",
    "# Get dictionary. \n",
    "vectorizer.get_feature_names()\n",
    "\n",
    "# Transform each sentences in vector space.\n",
    "bow = vectorizer.transform(X_train.stemmed)\n",
    "X_bow = bow"
   ]
  },
  {
   "cell_type": "markdown",
   "metadata": {},
   "source": [
    "## Create TF-IDF for Modeling"
   ]
  },
  {
   "cell_type": "code",
   "execution_count": 64,
   "metadata": {},
   "outputs": [],
   "source": [
    "tfidf = TfidfVectorizer(stop_words='english', min_df=20, \n",
    "                             ngram_range=(1,2), \n",
    "                             binary=True)\n",
    "\n",
    "tfidf_sparse_matrix = tfidf.fit_transform(X_train.stemmed)\n",
    "tfidf_sparse_matrix\n",
    "\n",
    "# Transform to document-term matrix\n",
    "vector_spaces = tfidf.transform(X_train.stemmed)\n",
    "vector_spaces.toarray()\n",
    "\n",
    "X_tfidf = tfidf_sparse_matrix"
   ]
  },
  {
   "cell_type": "code",
   "execution_count": 82,
   "metadata": {},
   "outputs": [
    {
     "data": {
      "text/plain": [
       "['00',\n",
       " 'de',\n",
       " 'mycodo',\n",
       " 'classification',\n",
       " 'cnn',\n",
       " 'barque',\n",
       " 'grasp',\n",
       " 'la',\n",
       " 'convolutional',\n",
       " 'outlier',\n",
       " 'gps',\n",
       " 'epaper',\n",
       " 'waved',\n",
       " 'worcester',\n",
       " 'propertiesmergerbuilder',\n",
       " 'bean',\n",
       " 'environmentspecificpropertiesmergerbuilder',\n",
       " 'mergerbuilder']"
      ]
     },
     "execution_count": 82,
     "metadata": {},
     "output_type": "execute_result"
    }
   ],
   "source": [
    "# limited word list\n",
    "unique_list = python_feature_list + js_feature_list + html_feature_list + java_feature_list\n",
    "unique_list"
   ]
  },
  {
   "cell_type": "markdown",
   "metadata": {},
   "source": [
    "## Establish Baseline"
   ]
  },
  {
   "cell_type": "code",
   "execution_count": 31,
   "metadata": {},
   "outputs": [
    {
     "data": {
      "text/plain": [
       "0.35"
      ]
     },
     "execution_count": 31,
     "metadata": {},
     "output_type": "execute_result"
    }
   ],
   "source": [
    "# Getting baseline\n",
    "baseline = len(train_exp[train_exp.language == 'Python']) / len(train_exp)\n",
    "round(baseline,2)"
   ]
  },
  {
   "cell_type": "markdown",
   "metadata": {},
   "source": [
    "## Build and Train Model\n",
    "\n",
    "Will use both BOW and TF-IDF methods for the following models:\n",
    "- Logistic Regression\n",
    "- Decision Tree\n",
    "- Random Forest\n",
    "- K Nearest Neighbors\n",
    "\n",
    "For Naive Bayes will use the TF-IDF vectorization only. But will try both Multinomial and Complement models. Naive Bayes is recommended for text classification, but the ComplementNB is recommended for imbalanced datasets."
   ]
  },
  {
   "cell_type": "code",
   "execution_count": 86,
   "metadata": {},
   "outputs": [
    {
     "ename": "ValueError",
     "evalue": "Found input variables with inconsistent numbers of samples: [18, 234]",
     "output_type": "error",
     "traceback": [
      "\u001b[0;31m---------------------------------------------------------------------------\u001b[0m",
      "\u001b[0;31mValueError\u001b[0m                                Traceback (most recent call last)",
      "\u001b[0;32m<ipython-input-86-bee8e9160ab7>\u001b[0m in \u001b[0;36m<module>\u001b[0;34m\u001b[0m\n\u001b[1;32m      1\u001b[0m \u001b[0;31m# Logistic Regression\u001b[0m\u001b[0;34m\u001b[0m\u001b[0;34m\u001b[0m\u001b[0;34m\u001b[0m\u001b[0m\n\u001b[0;32m----> 2\u001b[0;31m \u001b[0mlm_bow\u001b[0m\u001b[0;34m,\u001b[0m \u001b[0mlm_tfidf\u001b[0m \u001b[0;34m=\u001b[0m \u001b[0mm\u001b[0m\u001b[0;34m.\u001b[0m\u001b[0mlogistic_regression\u001b[0m\u001b[0;34m(\u001b[0m\u001b[0mX_train\u001b[0m\u001b[0;34m,\u001b[0m \u001b[0my_train\u001b[0m\u001b[0;34m,\u001b[0m \u001b[0mX_bow\u001b[0m \u001b[0;34m=\u001b[0m \u001b[0munique_bow\u001b[0m\u001b[0;34m,\u001b[0m \u001b[0mX_tfidf\u001b[0m \u001b[0;34m=\u001b[0m \u001b[0munique_tfidf\u001b[0m\u001b[0;34m)\u001b[0m\u001b[0;34m\u001b[0m\u001b[0;34m\u001b[0m\u001b[0m\n\u001b[0m",
      "\u001b[0;32m~/codeup-data-science/nlp_environmental_project/drafts/model.py\u001b[0m in \u001b[0;36mlogistic_regression\u001b[0;34m(X_train, y_train, X_bow, X_tfidf)\u001b[0m\n\u001b[1;32m     21\u001b[0m \u001b[0;34m\u001b[0m\u001b[0m\n\u001b[1;32m     22\u001b[0m     \u001b[0;31m# Array of the predicitons\u001b[0m\u001b[0;34m\u001b[0m\u001b[0;34m\u001b[0m\u001b[0;34m\u001b[0m\u001b[0m\n\u001b[0;32m---> 23\u001b[0;31m     \u001b[0mlm_bow\u001b[0m \u001b[0;34m=\u001b[0m \u001b[0mlm\u001b[0m\u001b[0;34m.\u001b[0m\u001b[0mfit\u001b[0m\u001b[0;34m(\u001b[0m\u001b[0mX_bow\u001b[0m\u001b[0;34m,\u001b[0m \u001b[0my_train\u001b[0m\u001b[0;34m)\u001b[0m\u001b[0;34m\u001b[0m\u001b[0;34m\u001b[0m\u001b[0m\n\u001b[0m\u001b[1;32m     24\u001b[0m     \u001b[0mX_train\u001b[0m\u001b[0;34m[\u001b[0m\u001b[0;34m'predicted'\u001b[0m\u001b[0;34m]\u001b[0m \u001b[0;34m=\u001b[0m \u001b[0mlm_bow\u001b[0m\u001b[0;34m.\u001b[0m\u001b[0mpredict\u001b[0m\u001b[0;34m(\u001b[0m\u001b[0mX_bow\u001b[0m\u001b[0;34m)\u001b[0m\u001b[0;34m\u001b[0m\u001b[0;34m\u001b[0m\u001b[0m\n\u001b[1;32m     25\u001b[0m \u001b[0;34m\u001b[0m\u001b[0m\n",
      "\u001b[0;32m/usr/local/anaconda3/lib/python3.7/site-packages/sklearn/linear_model/_logistic.py\u001b[0m in \u001b[0;36mfit\u001b[0;34m(self, X, y, sample_weight)\u001b[0m\n\u001b[1;32m   1342\u001b[0m         X, y = self._validate_data(X, y, accept_sparse='csr', dtype=_dtype,\n\u001b[1;32m   1343\u001b[0m                                    \u001b[0morder\u001b[0m\u001b[0;34m=\u001b[0m\u001b[0;34m\"C\"\u001b[0m\u001b[0;34m,\u001b[0m\u001b[0;34m\u001b[0m\u001b[0;34m\u001b[0m\u001b[0m\n\u001b[0;32m-> 1344\u001b[0;31m                                    accept_large_sparse=solver != 'liblinear')\n\u001b[0m\u001b[1;32m   1345\u001b[0m         \u001b[0mcheck_classification_targets\u001b[0m\u001b[0;34m(\u001b[0m\u001b[0my\u001b[0m\u001b[0;34m)\u001b[0m\u001b[0;34m\u001b[0m\u001b[0;34m\u001b[0m\u001b[0m\n\u001b[1;32m   1346\u001b[0m         \u001b[0mself\u001b[0m\u001b[0;34m.\u001b[0m\u001b[0mclasses_\u001b[0m \u001b[0;34m=\u001b[0m \u001b[0mnp\u001b[0m\u001b[0;34m.\u001b[0m\u001b[0munique\u001b[0m\u001b[0;34m(\u001b[0m\u001b[0my\u001b[0m\u001b[0;34m)\u001b[0m\u001b[0;34m\u001b[0m\u001b[0;34m\u001b[0m\u001b[0m\n",
      "\u001b[0;32m/usr/local/anaconda3/lib/python3.7/site-packages/sklearn/base.py\u001b[0m in \u001b[0;36m_validate_data\u001b[0;34m(self, X, y, reset, validate_separately, **check_params)\u001b[0m\n\u001b[1;32m    430\u001b[0m                 \u001b[0my\u001b[0m \u001b[0;34m=\u001b[0m \u001b[0mcheck_array\u001b[0m\u001b[0;34m(\u001b[0m\u001b[0my\u001b[0m\u001b[0;34m,\u001b[0m \u001b[0;34m**\u001b[0m\u001b[0mcheck_y_params\u001b[0m\u001b[0;34m)\u001b[0m\u001b[0;34m\u001b[0m\u001b[0;34m\u001b[0m\u001b[0m\n\u001b[1;32m    431\u001b[0m             \u001b[0;32melse\u001b[0m\u001b[0;34m:\u001b[0m\u001b[0;34m\u001b[0m\u001b[0;34m\u001b[0m\u001b[0m\n\u001b[0;32m--> 432\u001b[0;31m                 \u001b[0mX\u001b[0m\u001b[0;34m,\u001b[0m \u001b[0my\u001b[0m \u001b[0;34m=\u001b[0m \u001b[0mcheck_X_y\u001b[0m\u001b[0;34m(\u001b[0m\u001b[0mX\u001b[0m\u001b[0;34m,\u001b[0m \u001b[0my\u001b[0m\u001b[0;34m,\u001b[0m \u001b[0;34m**\u001b[0m\u001b[0mcheck_params\u001b[0m\u001b[0;34m)\u001b[0m\u001b[0;34m\u001b[0m\u001b[0;34m\u001b[0m\u001b[0m\n\u001b[0m\u001b[1;32m    433\u001b[0m             \u001b[0mout\u001b[0m \u001b[0;34m=\u001b[0m \u001b[0mX\u001b[0m\u001b[0;34m,\u001b[0m \u001b[0my\u001b[0m\u001b[0;34m\u001b[0m\u001b[0;34m\u001b[0m\u001b[0m\n\u001b[1;32m    434\u001b[0m \u001b[0;34m\u001b[0m\u001b[0m\n",
      "\u001b[0;32m/usr/local/anaconda3/lib/python3.7/site-packages/sklearn/utils/validation.py\u001b[0m in \u001b[0;36minner_f\u001b[0;34m(*args, **kwargs)\u001b[0m\n\u001b[1;32m     70\u001b[0m                           FutureWarning)\n\u001b[1;32m     71\u001b[0m         \u001b[0mkwargs\u001b[0m\u001b[0;34m.\u001b[0m\u001b[0mupdate\u001b[0m\u001b[0;34m(\u001b[0m\u001b[0;34m{\u001b[0m\u001b[0mk\u001b[0m\u001b[0;34m:\u001b[0m \u001b[0marg\u001b[0m \u001b[0;32mfor\u001b[0m \u001b[0mk\u001b[0m\u001b[0;34m,\u001b[0m \u001b[0marg\u001b[0m \u001b[0;32min\u001b[0m \u001b[0mzip\u001b[0m\u001b[0;34m(\u001b[0m\u001b[0msig\u001b[0m\u001b[0;34m.\u001b[0m\u001b[0mparameters\u001b[0m\u001b[0;34m,\u001b[0m \u001b[0margs\u001b[0m\u001b[0;34m)\u001b[0m\u001b[0;34m}\u001b[0m\u001b[0;34m)\u001b[0m\u001b[0;34m\u001b[0m\u001b[0;34m\u001b[0m\u001b[0m\n\u001b[0;32m---> 72\u001b[0;31m         \u001b[0;32mreturn\u001b[0m \u001b[0mf\u001b[0m\u001b[0;34m(\u001b[0m\u001b[0;34m**\u001b[0m\u001b[0mkwargs\u001b[0m\u001b[0;34m)\u001b[0m\u001b[0;34m\u001b[0m\u001b[0;34m\u001b[0m\u001b[0m\n\u001b[0m\u001b[1;32m     73\u001b[0m     \u001b[0;32mreturn\u001b[0m \u001b[0minner_f\u001b[0m\u001b[0;34m\u001b[0m\u001b[0;34m\u001b[0m\u001b[0m\n\u001b[1;32m     74\u001b[0m \u001b[0;34m\u001b[0m\u001b[0m\n",
      "\u001b[0;32m/usr/local/anaconda3/lib/python3.7/site-packages/sklearn/utils/validation.py\u001b[0m in \u001b[0;36mcheck_X_y\u001b[0;34m(X, y, accept_sparse, accept_large_sparse, dtype, order, copy, force_all_finite, ensure_2d, allow_nd, multi_output, ensure_min_samples, ensure_min_features, y_numeric, estimator)\u001b[0m\n\u001b[1;32m    810\u001b[0m         \u001b[0my\u001b[0m \u001b[0;34m=\u001b[0m \u001b[0my\u001b[0m\u001b[0;34m.\u001b[0m\u001b[0mastype\u001b[0m\u001b[0;34m(\u001b[0m\u001b[0mnp\u001b[0m\u001b[0;34m.\u001b[0m\u001b[0mfloat64\u001b[0m\u001b[0;34m)\u001b[0m\u001b[0;34m\u001b[0m\u001b[0;34m\u001b[0m\u001b[0m\n\u001b[1;32m    811\u001b[0m \u001b[0;34m\u001b[0m\u001b[0m\n\u001b[0;32m--> 812\u001b[0;31m     \u001b[0mcheck_consistent_length\u001b[0m\u001b[0;34m(\u001b[0m\u001b[0mX\u001b[0m\u001b[0;34m,\u001b[0m \u001b[0my\u001b[0m\u001b[0;34m)\u001b[0m\u001b[0;34m\u001b[0m\u001b[0;34m\u001b[0m\u001b[0m\n\u001b[0m\u001b[1;32m    813\u001b[0m \u001b[0;34m\u001b[0m\u001b[0m\n\u001b[1;32m    814\u001b[0m     \u001b[0;32mreturn\u001b[0m \u001b[0mX\u001b[0m\u001b[0;34m,\u001b[0m \u001b[0my\u001b[0m\u001b[0;34m\u001b[0m\u001b[0;34m\u001b[0m\u001b[0m\n",
      "\u001b[0;32m/usr/local/anaconda3/lib/python3.7/site-packages/sklearn/utils/validation.py\u001b[0m in \u001b[0;36mcheck_consistent_length\u001b[0;34m(*arrays)\u001b[0m\n\u001b[1;32m    254\u001b[0m     \u001b[0;32mif\u001b[0m \u001b[0mlen\u001b[0m\u001b[0;34m(\u001b[0m\u001b[0muniques\u001b[0m\u001b[0;34m)\u001b[0m \u001b[0;34m>\u001b[0m \u001b[0;36m1\u001b[0m\u001b[0;34m:\u001b[0m\u001b[0;34m\u001b[0m\u001b[0;34m\u001b[0m\u001b[0m\n\u001b[1;32m    255\u001b[0m         raise ValueError(\"Found input variables with inconsistent numbers of\"\n\u001b[0;32m--> 256\u001b[0;31m                          \" samples: %r\" % [int(l) for l in lengths])\n\u001b[0m\u001b[1;32m    257\u001b[0m \u001b[0;34m\u001b[0m\u001b[0m\n\u001b[1;32m    258\u001b[0m \u001b[0;34m\u001b[0m\u001b[0m\n",
      "\u001b[0;31mValueError\u001b[0m: Found input variables with inconsistent numbers of samples: [18, 234]"
     ]
    }
   ],
   "source": [
    "# Logistic Regression\n",
    "lm_bow, lm_tfidf = m.logistic_regression(X_train, y_train, X_bow = unique_bow, X_tfidf = unique_tfidf)"
   ]
  },
  {
   "cell_type": "code",
   "execution_count": 66,
   "metadata": {},
   "outputs": [
    {
     "name": "stdout",
     "output_type": "stream",
     "text": [
      "X_bow Accuracy: 50%\n",
      "\n",
      "-----------------------\n",
      "X_bow Confusion Matrix: \n",
      "\n",
      " predicted   HTML  Java  JavaScript  Python\n",
      "language                                  \n",
      "HTML          41     0           2       6\n",
      "Java          30     3           2       5\n",
      "JavaScript    29     1          23       9\n",
      "Python        30     0           4      49\n",
      "\n",
      "-----------------------\n",
      "X_bow Decesion Tree Classification Report:\n",
      "               precision    recall  f1-score   support\n",
      "\n",
      "        HTML       0.32      0.84      0.46        49\n",
      "        Java       0.75      0.07      0.14        40\n",
      "  JavaScript       0.74      0.37      0.49        62\n",
      "      Python       0.71      0.59      0.64        83\n",
      "\n",
      "    accuracy                           0.50       234\n",
      "   macro avg       0.63      0.47      0.43       234\n",
      "weighted avg       0.64      0.50      0.48       234\n",
      "\n",
      "-----------------------\n",
      "TF-IDF Accuracy: 47%\n",
      "\n",
      "-----------------------\n",
      "TF-IDF Confusion Matrix: \n",
      "\n",
      " pred_tfidf  HTML  Java  JavaScript  Python\n",
      "language                                  \n",
      "HTML          47     0           0       2\n",
      "Java          35     2           2       1\n",
      "JavaScript    38     0          22       2\n",
      "Python        41     1           2      39\n",
      "\n",
      "-----------------------\n",
      "TF-IDF Decesion Tree Classification Report:\n",
      "               precision    recall  f1-score   support\n",
      "\n",
      "        HTML       0.29      0.96      0.45        49\n",
      "        Java       0.67      0.05      0.09        40\n",
      "  JavaScript       0.85      0.35      0.50        62\n",
      "      Python       0.89      0.47      0.61        83\n",
      "\n",
      "    accuracy                           0.47       234\n",
      "   macro avg       0.67      0.46      0.41       234\n",
      "weighted avg       0.71      0.47      0.46       234\n",
      "\n"
     ]
    }
   ],
   "source": [
    "# Decision Tree\n",
    "m.decesion_tree(X_train, y_train, X_bow, X_tfidf, k=3)"
   ]
  },
  {
   "cell_type": "code",
   "execution_count": 67,
   "metadata": {},
   "outputs": [
    {
     "name": "stdout",
     "output_type": "stream",
     "text": [
      "X_bow Accuracy: 62%\n",
      "\n",
      "-----------------------\n",
      "X_bow Confusion Matrix: \n",
      "\n",
      " predicted   HTML  Java  JavaScript  Python\n",
      "language                                  \n",
      "HTML          27     0           5      17\n",
      "Java          16     2           5      17\n",
      "JavaScript    10     0          41      11\n",
      "Python         7     0           1      75\n",
      "\n",
      "-----------------------\n",
      "X_bow Random Forest Classification Report:\n",
      "               precision    recall  f1-score   support\n",
      "\n",
      "        HTML       0.45      0.55      0.50        49\n",
      "        Java       1.00      0.05      0.10        40\n",
      "  JavaScript       0.79      0.66      0.72        62\n",
      "      Python       0.62      0.90      0.74        83\n",
      "\n",
      "    accuracy                           0.62       234\n",
      "   macro avg       0.72      0.54      0.51       234\n",
      "weighted avg       0.70      0.62      0.57       234\n",
      "\n",
      "-----------------------\n",
      "TF-IDF Accuracy: 64%\n",
      "\n",
      "-----------------------\n",
      "TF-IDF Confusion Matrix: \n",
      "\n",
      " pred_tfidf  HTML  Java  JavaScript  Python\n",
      "language                                  \n",
      "HTML          21     0           6      22\n",
      "Java           0     2           5      33\n",
      "JavaScript     0     0          44      18\n",
      "Python         0     0           1      82\n",
      "\n",
      "-----------------------\n",
      "TF-IDF Random Forest Classification Report:\n",
      "               precision    recall  f1-score   support\n",
      "\n",
      "        HTML       1.00      0.43      0.60        49\n",
      "        Java       1.00      0.05      0.10        40\n",
      "  JavaScript       0.79      0.71      0.75        62\n",
      "      Python       0.53      0.99      0.69        83\n",
      "\n",
      "    accuracy                           0.64       234\n",
      "   macro avg       0.83      0.54      0.53       234\n",
      "weighted avg       0.78      0.64      0.58       234\n",
      "\n"
     ]
    }
   ],
   "source": [
    "# Random Forest\n",
    "rf_bow, rf_tfidf = m.random_forest(X_train, y_train, X_bow, X_tfidf, k=4)"
   ]
  },
  {
   "cell_type": "code",
   "execution_count": 68,
   "metadata": {},
   "outputs": [
    {
     "name": "stdout",
     "output_type": "stream",
     "text": [
      "X_bow Accuracy: 50%\n",
      "\n",
      "-----------------------\n",
      "X_bow Confusion Matrix: \n",
      "\n",
      " predicted   HTML  Java  JavaScript  Python\n",
      "language                                  \n",
      "HTML          20    18           4       7\n",
      "Java           5    30           0       5\n",
      "JavaScript    10    22          24       6\n",
      "Python        11    20          10      42\n",
      "\n",
      "-----------------------\n",
      "X_bow KNN Classification Report:\n",
      "               precision    recall  f1-score   support\n",
      "\n",
      "        HTML       0.43      0.41      0.42        49\n",
      "        Java       0.33      0.75      0.46        40\n",
      "  JavaScript       0.63      0.39      0.48        62\n",
      "      Python       0.70      0.51      0.59        83\n",
      "\n",
      "    accuracy                           0.50       234\n",
      "   macro avg       0.52      0.51      0.49       234\n",
      "weighted avg       0.56      0.50      0.50       234\n",
      "\n",
      "-----------------------\n",
      "TF-IDF Accuracy: 37%\n",
      "\n",
      "-----------------------\n",
      "TF-IDF Confusion Matrix: \n",
      "\n",
      " pred_tfidf  HTML  Java  JavaScript  Python\n",
      "language                                  \n",
      "HTML          15    30           1       3\n",
      "Java           0    39           0       1\n",
      "JavaScript     1    49           8       4\n",
      "Python         2    54           3      24\n",
      "\n",
      "-----------------------\n",
      "TF-IDF KNN Classification Report:\n",
      "               precision    recall  f1-score   support\n",
      "\n",
      "        HTML       0.83      0.31      0.45        49\n",
      "        Java       0.23      0.97      0.37        40\n",
      "  JavaScript       0.67      0.13      0.22        62\n",
      "      Python       0.75      0.29      0.42        83\n",
      "\n",
      "    accuracy                           0.37       234\n",
      "   macro avg       0.62      0.42      0.36       234\n",
      "weighted avg       0.66      0.37      0.36       234\n",
      "\n"
     ]
    }
   ],
   "source": [
    "# KNN\n",
    "m.knn(X_train, y_train, X_bow, X_tfidf, k=5)"
   ]
  },
  {
   "cell_type": "code",
   "execution_count": 69,
   "metadata": {},
   "outputs": [
    {
     "name": "stdout",
     "output_type": "stream",
     "text": [
      "TF-IDF Accuracy: 58%\n",
      "\n",
      "-----------------------\n",
      "TF-IDF Confusion Matrix: \n",
      "\n",
      " pred_tfidf  HTML  Java  JavaScript  Python\n",
      "language                                  \n",
      "HTML          13     0           5      31\n",
      "Java           1     4           4      31\n",
      "JavaScript     0     0          39      23\n",
      "Python         1     0           2      80\n",
      "\n",
      "-----------------------\n",
      "TF-IDF Multinomial Niave Bayes Classification Report:\n",
      "               precision    recall  f1-score   support\n",
      "\n",
      "        HTML       0.87      0.27      0.41        49\n",
      "        Java       1.00      0.10      0.18        40\n",
      "  JavaScript       0.78      0.63      0.70        62\n",
      "      Python       0.48      0.96      0.65        83\n",
      "\n",
      "    accuracy                           0.58       234\n",
      "   macro avg       0.78      0.49      0.48       234\n",
      "weighted avg       0.73      0.58      0.53       234\n",
      "\n"
     ]
    }
   ],
   "source": [
    "# MultinomialNB\n",
    "m.multinomial_naive_bayes(X_train, y_train, X_tfidf)"
   ]
  },
  {
   "cell_type": "code",
   "execution_count": 70,
   "metadata": {},
   "outputs": [
    {
     "name": "stdout",
     "output_type": "stream",
     "text": [
      "TF-IDF Accuracy: 71%\n",
      "\n",
      "-----------------------\n",
      "TF-IDF Confusion Matrix: \n",
      "\n",
      " pred_tfidf  HTML  Java  JavaScript  Python\n",
      "language                                  \n",
      "HTML          41     1           4       3\n",
      "Java          16    17           3       4\n",
      "JavaScript     8     2          46       6\n",
      "Python        10     4           6      63\n",
      "\n",
      "-----------------------\n",
      "TF-IDF Complement Niave Bayes Classification Report:\n",
      "               precision    recall  f1-score   support\n",
      "\n",
      "        HTML       0.55      0.84      0.66        49\n",
      "        Java       0.71      0.42      0.53        40\n",
      "  JavaScript       0.78      0.74      0.76        62\n",
      "      Python       0.83      0.76      0.79        83\n",
      "\n",
      "    accuracy                           0.71       234\n",
      "   macro avg       0.72      0.69      0.69       234\n",
      "weighted avg       0.74      0.71      0.71       234\n",
      "\n"
     ]
    }
   ],
   "source": [
    "# ComplementNB \n",
    "cnb_tfidf = m.complement_naive_bayes(X_train, y_train, X_tfidf)"
   ]
  },
  {
   "cell_type": "markdown",
   "metadata": {},
   "source": [
    "## Validate\n",
    "\n",
    "The 3 top performing algorithms were moved on to the validate dataset to test on unseen data.\n",
    "- Logistic Regression (BOW and TF-IDF)\n",
    "- Random Forest (BOW and TF-IDF)\n",
    "- Complement Naive Bayes (TF-IDF)\n"
   ]
  },
  {
   "cell_type": "code",
   "execution_count": 71,
   "metadata": {},
   "outputs": [],
   "source": [
    "# vectorizer = CountVectorizer(stop_words='english', \n",
    "#                              min_df=20, \n",
    "#                              ngram_range=(1,2), \n",
    "#                              binary=True)\n",
    "\n",
    "# # Learn vocabulary in sentences. \n",
    "# vectorizer.fit(X_validate.clean)\n",
    "\n",
    "# # Get dictionary. \n",
    "# vectorizer.get_feature_names()\n",
    "\n",
    "# Transform each sentences in vector space.\n",
    "V_bow = vectorizer.transform(X_validate.lemmatized)"
   ]
  },
  {
   "cell_type": "code",
   "execution_count": 72,
   "metadata": {},
   "outputs": [],
   "source": [
    "# tfidf = TfidfVectorizer(stop_words='english', min_df=20, \n",
    "#                              ngram_range=(1,2), \n",
    "#                              binary=True)\n",
    "\n",
    "tfidf_sparse_matrix = tfidf.transform(X_validate.lemmatized)\n",
    "\n",
    "\n",
    "V_tfidf = tfidf_sparse_matrix"
   ]
  },
  {
   "cell_type": "code",
   "execution_count": 73,
   "metadata": {},
   "outputs": [
    {
     "name": "stdout",
     "output_type": "stream",
     "text": [
      "X_bow Accuracy: 49%\n",
      "\n",
      "-----------------------\n",
      "X_bow Confusion Matrix: \n",
      "\n",
      " predicted   HTML  Java  JavaScript  Python\n",
      "language                                  \n",
      "HTML           5     0           5       6\n",
      "Java           6     1           3       4\n",
      "JavaScript     1     0          12       8\n",
      "Python         1     0           6      21\n",
      "\n",
      "-----------------------\n",
      "X_bow Logistic Regression Classification Report:\n",
      "               precision    recall  f1-score   support\n",
      "\n",
      "        HTML       0.38      0.31      0.34        16\n",
      "        Java       1.00      0.07      0.13        14\n",
      "  JavaScript       0.46      0.57      0.51        21\n",
      "      Python       0.54      0.75      0.63        28\n",
      "\n",
      "    accuracy                           0.49        79\n",
      "   macro avg       0.60      0.43      0.40        79\n",
      "weighted avg       0.57      0.49      0.45        79\n",
      "\n",
      "-----------------------\n",
      "TF-IDF Accuracy: 53%\n",
      "\n",
      "-----------------------\n",
      "TF-IDF Confusion Matrix: \n",
      "\n",
      " pred_tfidf  HTML  Java  JavaScript  Python\n",
      "language                                  \n",
      "HTML           6     0           4       6\n",
      "Java           6     1           3       4\n",
      "JavaScript     1     0          15       5\n",
      "Python         3     0           5      20\n",
      "\n",
      "-----------------------\n",
      "TF-IDF Logistic Regression Classification Report:\n",
      "               precision    recall  f1-score   support\n",
      "\n",
      "        HTML       0.38      0.38      0.38        16\n",
      "        Java       1.00      0.07      0.13        14\n",
      "  JavaScript       0.56      0.71      0.63        21\n",
      "      Python       0.57      0.71      0.63        28\n",
      "\n",
      "    accuracy                           0.53        79\n",
      "   macro avg       0.63      0.47      0.44        79\n",
      "weighted avg       0.60      0.53      0.49        79\n",
      "\n"
     ]
    }
   ],
   "source": [
    "# Logistic Regression\n",
    "m.validate_logistic_regression(X_validate, y_validate, V_bow, V_tfidf, lm_bow, lm_tfidf)"
   ]
  },
  {
   "cell_type": "code",
   "execution_count": 74,
   "metadata": {},
   "outputs": [
    {
     "name": "stdout",
     "output_type": "stream",
     "text": [
      "X_bow Accuracy: 42%\n",
      "\n",
      "-----------------------\n",
      "X_bow Confusion Matrix: \n",
      "\n",
      " predicted   HTML  JavaScript  Python\n",
      "language                            \n",
      "HTML           1           4      11\n",
      "Java           1           3      10\n",
      "JavaScript     0           7      14\n",
      "Python         0           3      25\n",
      "\n",
      "-----------------------\n",
      "X_bow Random Forest Classification Report:\n",
      "               precision    recall  f1-score   support\n",
      "\n",
      "        HTML       0.50      0.06      0.11        16\n",
      "        Java       0.00      0.00      0.00        14\n",
      "  JavaScript       0.41      0.33      0.37        21\n",
      "      Python       0.42      0.89      0.57        28\n",
      "\n",
      "    accuracy                           0.42        79\n",
      "   macro avg       0.33      0.32      0.26        79\n",
      "weighted avg       0.36      0.42      0.32        79\n",
      "\n",
      "-----------------------\n",
      "TF-IDF Accuracy: 43%\n",
      "\n",
      "-----------------------\n",
      "TF-IDF Confusion Matrix: \n",
      "\n",
      " pred_tfidf  HTML  JavaScript  Python\n",
      "language                            \n",
      "HTML           1           4      11\n",
      "Java           1           2      11\n",
      "JavaScript     0           7      14\n",
      "Python         0           2      26\n",
      "\n",
      "-----------------------\n",
      "TF-IDF Random Forest Classification Report:\n",
      "               precision    recall  f1-score   support\n",
      "\n",
      "        HTML       0.50      0.06      0.11        16\n",
      "        Java       0.00      0.00      0.00        14\n",
      "  JavaScript       0.47      0.33      0.39        21\n",
      "      Python       0.42      0.93      0.58        28\n",
      "\n",
      "    accuracy                           0.43        79\n",
      "   macro avg       0.35      0.33      0.27        79\n",
      "weighted avg       0.37      0.43      0.33        79\n",
      "\n"
     ]
    }
   ],
   "source": [
    "# Random Forest\n",
    "k=4\n",
    "m.validate_random_forest(X_validate, y_validate, V_bow, V_tfidf, k, rf_bow, rf_tfidf)"
   ]
  },
  {
   "cell_type": "code",
   "execution_count": 75,
   "metadata": {},
   "outputs": [
    {
     "name": "stdout",
     "output_type": "stream",
     "text": [
      "TF-IDF Accuracy: 47%\n",
      "\n",
      "-----------------------\n",
      "TF-IDF Confusion Matrix: \n",
      "\n",
      " pred_tfidf  HTML  Java  JavaScript  Python\n",
      "language                                  \n",
      "HTML           6     1           5       4\n",
      "Java           8     1           3       2\n",
      "JavaScript     4     0          12       5\n",
      "Python         2     0           8      18\n",
      "\n",
      "-----------------------\n",
      "TF-IDF Complement Niave Bayes Classification Report:\n",
      "               precision    recall  f1-score   support\n",
      "\n",
      "        HTML       0.30      0.38      0.33        16\n",
      "        Java       0.50      0.07      0.12        14\n",
      "  JavaScript       0.43      0.57      0.49        21\n",
      "      Python       0.62      0.64      0.63        28\n",
      "\n",
      "    accuracy                           0.47        79\n",
      "   macro avg       0.46      0.42      0.39        79\n",
      "weighted avg       0.48      0.47      0.44        79\n",
      "\n"
     ]
    }
   ],
   "source": [
    "# ComplementNB\n",
    "m.validate_complement_naive_bayes(X_validate, y_validate, V_tfidf, cnb_tfidf)"
   ]
  },
  {
   "cell_type": "markdown",
   "metadata": {},
   "source": [
    "## Test\n",
    "\n",
    "The Top performing model was moved on to the test dataset.\n",
    "- Random Forest (TF-IDF)"
   ]
  },
  {
   "cell_type": "code",
   "execution_count": 76,
   "metadata": {},
   "outputs": [],
   "source": [
    "\n",
    "# tfidf = TfidfVectorizer(stop_words='english', min_df=20, \n",
    "#                              ngram_range=(1,2), \n",
    "#                              binary=True)\n",
    "T_bow = vectorizer.transform(X_validate.lemmatized)\n",
    "tfidf_sparse_matrix = tfidf.transform(X_test.clean)\n",
    "\n",
    "T_tfidf = tfidf_sparse_matrix"
   ]
  },
  {
   "cell_type": "code",
   "execution_count": 77,
   "metadata": {},
   "outputs": [
    {
     "name": "stdout",
     "output_type": "stream",
     "text": [
      "X_bow Accuracy: 38%\n",
      "\n",
      "-----------------------\n",
      "X_bow Confusion Matrix: \n",
      "\n",
      " predicted   HTML  Java  JavaScript  Python\n",
      "language                                  \n",
      "HTML           3     0           7       6\n",
      "Java           4     0           4       6\n",
      "JavaScript     1     0          10      10\n",
      "Python         5     1           5      17\n",
      "\n",
      "-----------------------\n",
      "X_bow Logistic Regression Classification Report:\n",
      "               precision    recall  f1-score   support\n",
      "\n",
      "        HTML       0.23      0.19      0.21        16\n",
      "        Java       0.00      0.00      0.00        14\n",
      "  JavaScript       0.38      0.48      0.43        21\n",
      "      Python       0.44      0.61      0.51        28\n",
      "\n",
      "    accuracy                           0.38        79\n",
      "   macro avg       0.26      0.32      0.28        79\n",
      "weighted avg       0.30      0.38      0.33        79\n",
      "\n",
      "-----------------------\n",
      "TF-IDF Accuracy: 41%\n",
      "\n",
      "-----------------------\n",
      "TF-IDF Confusion Matrix: \n",
      "\n",
      " pred_tfidf  HTML  Java  JavaScript  Python\n",
      "language                                  \n",
      "HTML           5     1           7       3\n",
      "Java           4     1           7       2\n",
      "JavaScript     5     1          12       3\n",
      "Python         6     0           8      14\n",
      "\n",
      "-----------------------\n",
      "TF-IDF Logistic Regression Classification Report:\n",
      "               precision    recall  f1-score   support\n",
      "\n",
      "        HTML       0.25      0.31      0.28        16\n",
      "        Java       0.33      0.07      0.12        14\n",
      "  JavaScript       0.35      0.57      0.44        21\n",
      "      Python       0.64      0.50      0.56        28\n",
      "\n",
      "    accuracy                           0.41        79\n",
      "   macro avg       0.39      0.36      0.35        79\n",
      "weighted avg       0.43      0.41      0.39        79\n",
      "\n"
     ]
    }
   ],
   "source": [
    "# Logistic Regression\n",
    "m.test_logistic_regression(X_test, y_test, T_bow, T_tfidf, lm_bow, lm_tfidf)"
   ]
  },
  {
   "cell_type": "code",
   "execution_count": 78,
   "metadata": {},
   "outputs": [
    {
     "name": "stdout",
     "output_type": "stream",
     "text": [
      "TF-IDF Accuracy: 38%\n",
      "\n",
      "-----------------------\n",
      "TF-IDF Confusion Matrix: \n",
      "\n",
      " pred_tfidf  HTML  JavaScript  Python\n",
      "language                            \n",
      "HTML           1           4      11\n",
      "Java           0           4      10\n",
      "JavaScript     2           3      16\n",
      "Python         1           1      26\n",
      "\n",
      "-----------------------\n",
      "TF-IDF Random Forest Classification Report:\n",
      "               precision    recall  f1-score   support\n",
      "\n",
      "        HTML       0.25      0.06      0.10        16\n",
      "        Java       0.00      0.00      0.00        14\n",
      "  JavaScript       0.25      0.14      0.18        21\n",
      "      Python       0.41      0.93      0.57        28\n",
      "\n",
      "    accuracy                           0.38        79\n",
      "   macro avg       0.23      0.28      0.21        79\n",
      "weighted avg       0.26      0.38      0.27        79\n",
      "\n"
     ]
    }
   ],
   "source": [
    "# Random Forest\n",
    "k=4\n",
    "m.test_random_forest(X_test, y_test, T_tfidf, k, rf_tfidf)"
   ]
  },
  {
   "cell_type": "markdown",
   "metadata": {},
   "source": [
    "# Interpret the Model\n",
    "\n",
    "Write up the things you learned, and how well your model performed. Be sure address the model's strengths and weaknesses. What types of data does it handle well? What types of observations tend to give it a hard time? What future work would you or someone reading this might want to do, building on the lessons learned and tools developed in this project?"
   ]
  },
  {
   "cell_type": "code",
   "execution_count": null,
   "metadata": {},
   "outputs": [],
   "source": []
  },
  {
   "cell_type": "markdown",
   "metadata": {},
   "source": [
    "#### Report Metrics in Context\n",
    "How did the model perform on the key metrics you chose to demonstrate its usefulness? What counts as good or bad performance? How well do humans perform on this task? How well would you expect to do with random dice rolls? What are the costs associated with missed predictions?"
   ]
  },
  {
   "cell_type": "code",
   "execution_count": null,
   "metadata": {},
   "outputs": [],
   "source": []
  },
  {
   "cell_type": "markdown",
   "metadata": {},
   "source": [
    "#### Inspect Errors\n",
    "\n",
    "Look at some of the observations with missed predictions. (Do this in your validation set, never look at individual records in your test set!) Are there common patterns among the observations with bad results? Do you have data that you can include in your model that will capture these patterns or is this a task that will need another research project to solve?\n",
    "\n",
    "This is your last step in the iteration cycle; if you can't find anything else you can work on here with your present data, project scope, and deadlines, then it's time to wrap things up."
   ]
  },
  {
   "cell_type": "code",
   "execution_count": null,
   "metadata": {},
   "outputs": [],
   "source": []
  },
  {
   "cell_type": "markdown",
   "metadata": {},
   "source": [
    "#### Strengths and Weaknesses\n",
    "\n",
    "Once you've gone through your iteration cycles and are finished with this version of the model, or this particular project, provide an assessment of what types of observations are handled well by your model, and what circumstances seem to give it trouble. This will point you and others towards more questions for future projects."
   ]
  },
  {
   "cell_type": "code",
   "execution_count": null,
   "metadata": {},
   "outputs": [],
   "source": []
  },
  {
   "cell_type": "markdown",
   "metadata": {},
   "source": [
    "# Next Steps: What Can We Do Now?\n",
    "\n",
    "Reporting a model's results is good, and is the main objective of any data science project. But a project is one thing, a career is another. A question is one thing, but science is another. If you've carried out your research with a mindset of curiosity and creativity, then by now you should have plenty more, and much better informed, questions about this topic than what you started with.\n",
    "\n",
    "So in addition to reporting on the question you investigated and the answers you found, think of the needs of your team, your users, and your peers in the industry, and make some recommendations that answer these two questions:\n",
    "\n",
    "What are some unanswered questions in my project where more information (additional data sources, deeper understanding, other models or tools) might help improve these results?\n",
    "What are other needs or problems where my model or my approach may be useful?"
   ]
  },
  {
   "cell_type": "code",
   "execution_count": null,
   "metadata": {},
   "outputs": [],
   "source": []
  }
 ],
 "metadata": {
  "kernelspec": {
   "display_name": "Python 3",
   "language": "python",
   "name": "python3"
  },
  "language_info": {
   "codemirror_mode": {
    "name": "ipython",
    "version": 3
   },
   "file_extension": ".py",
   "mimetype": "text/x-python",
   "name": "python",
   "nbconvert_exporter": "python",
   "pygments_lexer": "ipython3",
   "version": "3.7.9"
  },
  "toc": {
   "base_numbering": 1,
   "nav_menu": {},
   "number_sections": true,
   "sideBar": true,
   "skip_h1_title": false,
   "title_cell": "Table of Contents",
   "title_sidebar": "Contents",
   "toc_cell": false,
   "toc_position": {
    "height": "calc(100% - 180px)",
    "left": "10px",
    "top": "150px",
    "width": "280.188px"
   },
   "toc_section_display": true,
   "toc_window_display": true
  }
 },
 "nbformat": 4,
 "nbformat_minor": 4
}
