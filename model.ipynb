{
 "cells": [
  {
   "cell_type": "code",
   "execution_count": 1,
   "metadata": {},
   "outputs": [],
   "source": [
    "from pprint import pprint\n",
    "\n",
    "import pandas as pd\n",
    "import numpy as np\n",
    "\n",
    "%matplotlib inline\n",
    "import matplotlib.pyplot as plt\n",
    "\n",
    "import ry_prepare as p\n",
    "import acquire_ry as a\n",
    "import unicodedata\n",
    "import re\n",
    "import json\n",
    "\n",
    "import nltk\n",
    "from nltk.tokenize.toktok import ToktokTokenizer\n",
    "from nltk.corpus import stopwords\n",
    "import ry_wrangle as w"
   ]
  },
  {
   "cell_type": "code",
   "execution_count": 2,
   "metadata": {},
   "outputs": [],
   "source": [
    "df = a.get_github(cached=True)"
   ]
  },
  {
   "cell_type": "code",
   "execution_count": 3,
   "metadata": {},
   "outputs": [
    {
     "data": {
      "text/html": [
       "<div>\n",
       "<style scoped>\n",
       "    .dataframe tbody tr th:only-of-type {\n",
       "        vertical-align: middle;\n",
       "    }\n",
       "\n",
       "    .dataframe tbody tr th {\n",
       "        vertical-align: top;\n",
       "    }\n",
       "\n",
       "    .dataframe thead th {\n",
       "        text-align: right;\n",
       "    }\n",
       "</style>\n",
       "<table border=\"1\" class=\"dataframe\">\n",
       "  <thead>\n",
       "    <tr style=\"text-align: right;\">\n",
       "      <th></th>\n",
       "      <th>language</th>\n",
       "      <th>content</th>\n",
       "    </tr>\n",
       "  </thead>\n",
       "  <tbody>\n",
       "    <tr>\n",
       "      <th>0</th>\n",
       "      <td>Batchfile</td>\n",
       "      <td>Environmental\\nEnvironmental quickly build\\n优秀...</td>\n",
       "    </tr>\n",
       "    <tr>\n",
       "      <th>1</th>\n",
       "      <td>R</td>\n",
       "      <td>seraphim \\nseraphim is a R package for investi...</td>\n",
       "    </tr>\n",
       "    <tr>\n",
       "      <th>2</th>\n",
       "      <td>PHP</td>\n",
       "      <td>PHP dotenv\\nA .env file parsing and loading li...</td>\n",
       "    </tr>\n",
       "    <tr>\n",
       "      <th>3</th>\n",
       "      <td>Ruby</td>\n",
       "      <td>\\n\\n\\nMersea\\nRequirements\\n\\nRuby MRI 2.5.x (...</td>\n",
       "    </tr>\n",
       "    <tr>\n",
       "      <th>4</th>\n",
       "      <td>C++</td>\n",
       "      <td>\\nWifi and Bluetooth environmental sensors bui...</td>\n",
       "    </tr>\n",
       "  </tbody>\n",
       "</table>\n",
       "</div>"
      ],
      "text/plain": [
       "    language                                            content\n",
       "0  Batchfile  Environmental\\nEnvironmental quickly build\\n优秀...\n",
       "1          R  seraphim \\nseraphim is a R package for investi...\n",
       "2        PHP  PHP dotenv\\nA .env file parsing and loading li...\n",
       "3       Ruby  \\n\\n\\nMersea\\nRequirements\\n\\nRuby MRI 2.5.x (...\n",
       "4        C++  \\nWifi and Bluetooth environmental sensors bui..."
      ]
     },
     "execution_count": 3,
     "metadata": {},
     "output_type": "execute_result"
    }
   ],
   "source": [
    "df.head()"
   ]
  },
  {
   "cell_type": "code",
   "execution_count": 4,
   "metadata": {
    "scrolled": true
   },
   "outputs": [
    {
     "data": {
      "text/html": [
       "<div>\n",
       "<style scoped>\n",
       "    .dataframe tbody tr th:only-of-type {\n",
       "        vertical-align: middle;\n",
       "    }\n",
       "\n",
       "    .dataframe tbody tr th {\n",
       "        vertical-align: top;\n",
       "    }\n",
       "\n",
       "    .dataframe thead th {\n",
       "        text-align: right;\n",
       "    }\n",
       "</style>\n",
       "<table border=\"1\" class=\"dataframe\">\n",
       "  <thead>\n",
       "    <tr style=\"text-align: right;\">\n",
       "      <th></th>\n",
       "      <th>language</th>\n",
       "      <th>content</th>\n",
       "      <th>clean</th>\n",
       "      <th>stemmed</th>\n",
       "      <th>lemmatized</th>\n",
       "      <th>words</th>\n",
       "      <th>doc_length</th>\n",
       "    </tr>\n",
       "  </thead>\n",
       "  <tbody>\n",
       "    <tr>\n",
       "      <th>5</th>\n",
       "      <td>Java</td>\n",
       "      <td>\\nWifi and Bluetooth environmental sensors bui...</td>\n",
       "      <td>wifi bluetooth environmental sensors built esp...</td>\n",
       "      <td>wifi bluetooth environment sensor built esp32 ...</td>\n",
       "      <td>wifi bluetooth environmental sensor built esp3...</td>\n",
       "      <td>[wifi, bluetooth, environmental, sensor, built...</td>\n",
       "      <td>83</td>\n",
       "    </tr>\n",
       "    <tr>\n",
       "      <th>13</th>\n",
       "      <td>HTML</td>\n",
       "      <td>IndoPacific-Corals\\nAnalysis of Indo-Pacific c...</td>\n",
       "      <td>indopacificcorals analysis indopacific coral l...</td>\n",
       "      <td>indopacificcor analysi indopacif coral life hi...</td>\n",
       "      <td>indopacificcorals analysis indopacific coral l...</td>\n",
       "      <td>[indopacificcorals, analysis, indopacific, cor...</td>\n",
       "      <td>10</td>\n",
       "    </tr>\n",
       "    <tr>\n",
       "      <th>14</th>\n",
       "      <td>JavaScript</td>\n",
       "      <td>Grassberry High is an environmental controller...</td>\n",
       "      <td>grassberry high environmental controller home ...</td>\n",
       "      <td>grassberri high environment control home grow ...</td>\n",
       "      <td>grassberry high environmental controller home ...</td>\n",
       "      <td>[grassberry, high, environmental, controller, ...</td>\n",
       "      <td>335</td>\n",
       "    </tr>\n",
       "    <tr>\n",
       "      <th>15</th>\n",
       "      <td>Java</td>\n",
       "      <td>Grassberry High is an environmental controller...</td>\n",
       "      <td>grassberry high environmental controller home ...</td>\n",
       "      <td>grassberri high environment control home grow ...</td>\n",
       "      <td>grassberry high environmental controller home ...</td>\n",
       "      <td>[grassberry, high, environmental, controller, ...</td>\n",
       "      <td>335</td>\n",
       "    </tr>\n",
       "    <tr>\n",
       "      <th>16</th>\n",
       "      <td>JavaScript</td>\n",
       "      <td>Environmental Impact of COVID-19\\nThis project...</td>\n",
       "      <td>environmental impact covid19 project examines ...</td>\n",
       "      <td>environment impact covid19 project examin pote...</td>\n",
       "      <td>environmental impact covid19 project examines ...</td>\n",
       "      <td>[environmental, impact, covid19, project, exam...</td>\n",
       "      <td>249</td>\n",
       "    </tr>\n",
       "  </tbody>\n",
       "</table>\n",
       "</div>"
      ],
      "text/plain": [
       "      language                                            content  \\\n",
       "5         Java  \\nWifi and Bluetooth environmental sensors bui...   \n",
       "13        HTML  IndoPacific-Corals\\nAnalysis of Indo-Pacific c...   \n",
       "14  JavaScript  Grassberry High is an environmental controller...   \n",
       "15        Java  Grassberry High is an environmental controller...   \n",
       "16  JavaScript  Environmental Impact of COVID-19\\nThis project...   \n",
       "\n",
       "                                                clean  \\\n",
       "5   wifi bluetooth environmental sensors built esp...   \n",
       "13  indopacificcorals analysis indopacific coral l...   \n",
       "14  grassberry high environmental controller home ...   \n",
       "15  grassberry high environmental controller home ...   \n",
       "16  environmental impact covid19 project examines ...   \n",
       "\n",
       "                                              stemmed  \\\n",
       "5   wifi bluetooth environment sensor built esp32 ...   \n",
       "13  indopacificcor analysi indopacif coral life hi...   \n",
       "14  grassberri high environment control home grow ...   \n",
       "15  grassberri high environment control home grow ...   \n",
       "16  environment impact covid19 project examin pote...   \n",
       "\n",
       "                                           lemmatized  \\\n",
       "5   wifi bluetooth environmental sensor built esp3...   \n",
       "13  indopacificcorals analysis indopacific coral l...   \n",
       "14  grassberry high environmental controller home ...   \n",
       "15  grassberry high environmental controller home ...   \n",
       "16  environmental impact covid19 project examines ...   \n",
       "\n",
       "                                                words  doc_length  \n",
       "5   [wifi, bluetooth, environmental, sensor, built...          83  \n",
       "13  [indopacificcorals, analysis, indopacific, cor...          10  \n",
       "14  [grassberry, high, environmental, controller, ...         335  \n",
       "15  [grassberry, high, environmental, controller, ...         335  \n",
       "16  [environmental, impact, covid19, project, exam...         249  "
      ]
     },
     "execution_count": 4,
     "metadata": {},
     "output_type": "execute_result"
    }
   ],
   "source": [
    "df = p.prep_data(df, 'content', extra_words=[], exclude_words=[])\n",
    "df.head()"
   ]
  },
  {
   "cell_type": "code",
   "execution_count": 5,
   "metadata": {
    "scrolled": true
   },
   "outputs": [
    {
     "data": {
      "text/html": [
       "<div>\n",
       "<style scoped>\n",
       "    .dataframe tbody tr th:only-of-type {\n",
       "        vertical-align: middle;\n",
       "    }\n",
       "\n",
       "    .dataframe tbody tr th {\n",
       "        vertical-align: top;\n",
       "    }\n",
       "\n",
       "    .dataframe thead th {\n",
       "        text-align: right;\n",
       "    }\n",
       "</style>\n",
       "<table border=\"1\" class=\"dataframe\">\n",
       "  <thead>\n",
       "    <tr style=\"text-align: right;\">\n",
       "      <th></th>\n",
       "      <th>language</th>\n",
       "      <th>content</th>\n",
       "      <th>clean</th>\n",
       "      <th>stemmed</th>\n",
       "      <th>lemmatized</th>\n",
       "      <th>words</th>\n",
       "      <th>doc_length</th>\n",
       "    </tr>\n",
       "  </thead>\n",
       "  <tbody>\n",
       "    <tr>\n",
       "      <th>151</th>\n",
       "      <td>HTML</td>\n",
       "      <td>environmental-app\\n</td>\n",
       "      <td>environmentalapp</td>\n",
       "      <td>environmentalapp</td>\n",
       "      <td>environmentalapp</td>\n",
       "      <td>[environmentalapp]</td>\n",
       "      <td>1</td>\n",
       "    </tr>\n",
       "    <tr>\n",
       "      <th>54</th>\n",
       "      <td>JavaScript</td>\n",
       "      <td>EnvironmentalMonitoring\\narduino code\\n</td>\n",
       "      <td>environmentalmonitoring arduino code</td>\n",
       "      <td>environmentalmonitor arduino code</td>\n",
       "      <td>environmentalmonitoring arduino code</td>\n",
       "      <td>[environmentalmonitoring, arduino, code]</td>\n",
       "      <td>3</td>\n",
       "    </tr>\n",
       "    <tr>\n",
       "      <th>48</th>\n",
       "      <td>Java</td>\n",
       "      <td>Environmental Monitor\\nData captured\\nData is ...</td>\n",
       "      <td>environmental monitor data captured data publi...</td>\n",
       "      <td>environment monitor data captur data publish s...</td>\n",
       "      <td>environmental monitor data captured data publi...</td>\n",
       "      <td>[environmental, monitor, data, captured, data,...</td>\n",
       "      <td>160</td>\n",
       "    </tr>\n",
       "    <tr>\n",
       "      <th>13</th>\n",
       "      <td>HTML</td>\n",
       "      <td>IndoPacific-Corals\\nAnalysis of Indo-Pacific c...</td>\n",
       "      <td>indopacificcorals analysis indopacific coral l...</td>\n",
       "      <td>indopacificcor analysi indopacif coral life hi...</td>\n",
       "      <td>indopacificcorals analysis indopacific coral l...</td>\n",
       "      <td>[indopacificcorals, analysis, indopacific, cor...</td>\n",
       "      <td>10</td>\n",
       "    </tr>\n",
       "    <tr>\n",
       "      <th>94</th>\n",
       "      <td>HTML</td>\n",
       "      <td>Greening a PostIndustrial City:  Applying keyw...</td>\n",
       "      <td>greening postindustrial city applying keyword ...</td>\n",
       "      <td>green postindustri citi appli keyword extracto...</td>\n",
       "      <td>greening postindustrial city applying keyword ...</td>\n",
       "      <td>[greening, postindustrial, city, applying, key...</td>\n",
       "      <td>935</td>\n",
       "    </tr>\n",
       "    <tr>\n",
       "      <th>...</th>\n",
       "      <td>...</td>\n",
       "      <td>...</td>\n",
       "      <td>...</td>\n",
       "      <td>...</td>\n",
       "      <td>...</td>\n",
       "      <td>...</td>\n",
       "      <td>...</td>\n",
       "    </tr>\n",
       "    <tr>\n",
       "      <th>167</th>\n",
       "      <td>JavaScript</td>\n",
       "      <td>Environmental-Logger\\nLog environmental data s...</td>\n",
       "      <td>environmentallogger log environmental data tem...</td>\n",
       "      <td>environmentallogg log environment data tempera...</td>\n",
       "      <td>environmentallogger log environmental data tem...</td>\n",
       "      <td>[environmentallogger, log, environmental, data...</td>\n",
       "      <td>19</td>\n",
       "    </tr>\n",
       "    <tr>\n",
       "      <th>105</th>\n",
       "      <td>Python</td>\n",
       "      <td>Corporate environmental performance prediction...</td>\n",
       "      <td>corporate environmental performance prediction...</td>\n",
       "      <td>corpor environment perform predict china empir...</td>\n",
       "      <td>corporate environmental performance prediction...</td>\n",
       "      <td>[corporate, environmental, performance, predic...</td>\n",
       "      <td>102</td>\n",
       "    </tr>\n",
       "    <tr>\n",
       "      <th>180</th>\n",
       "      <td>HTML</td>\n",
       "      <td>environmental-science\\nMy first website develo...</td>\n",
       "      <td>environmentalscience first website developed u...</td>\n",
       "      <td>environmentalsci first websit develop use html...</td>\n",
       "      <td>environmentalscience first website developed u...</td>\n",
       "      <td>[environmentalscience, first, website, develop...</td>\n",
       "      <td>14</td>\n",
       "    </tr>\n",
       "    <tr>\n",
       "      <th>120</th>\n",
       "      <td>Java</td>\n",
       "      <td>sensor-puck\\nThis is the repository for all co...</td>\n",
       "      <td>sensorpuck repository collateral related silic...</td>\n",
       "      <td>sensorpuck repositori collater relat silicon l...</td>\n",
       "      <td>sensorpuck repository collateral related silic...</td>\n",
       "      <td>[sensorpuck, repository, collateral, related, ...</td>\n",
       "      <td>30</td>\n",
       "    </tr>\n",
       "    <tr>\n",
       "      <th>45</th>\n",
       "      <td>Java</td>\n",
       "      <td>EnvironmentalInterface\\nUnderlying middleware ...</td>\n",
       "      <td>environmentalinterface underlying middleware s...</td>\n",
       "      <td>environmentalinterfac underli middlewar servio...</td>\n",
       "      <td>environmentalinterface underlying middleware s...</td>\n",
       "      <td>[environmentalinterface, underlying, middlewar...</td>\n",
       "      <td>190</td>\n",
       "    </tr>\n",
       "  </tbody>\n",
       "</table>\n",
       "<p>61 rows × 7 columns</p>\n",
       "</div>"
      ],
      "text/plain": [
       "       language                                            content  \\\n",
       "151        HTML                                environmental-app\\n   \n",
       "54   JavaScript            EnvironmentalMonitoring\\narduino code\\n   \n",
       "48         Java  Environmental Monitor\\nData captured\\nData is ...   \n",
       "13         HTML  IndoPacific-Corals\\nAnalysis of Indo-Pacific c...   \n",
       "94         HTML  Greening a PostIndustrial City:  Applying keyw...   \n",
       "..          ...                                                ...   \n",
       "167  JavaScript  Environmental-Logger\\nLog environmental data s...   \n",
       "105      Python  Corporate environmental performance prediction...   \n",
       "180        HTML  environmental-science\\nMy first website develo...   \n",
       "120        Java  sensor-puck\\nThis is the repository for all co...   \n",
       "45         Java  EnvironmentalInterface\\nUnderlying middleware ...   \n",
       "\n",
       "                                                 clean  \\\n",
       "151                                   environmentalapp   \n",
       "54                environmentalmonitoring arduino code   \n",
       "48   environmental monitor data captured data publi...   \n",
       "13   indopacificcorals analysis indopacific coral l...   \n",
       "94   greening postindustrial city applying keyword ...   \n",
       "..                                                 ...   \n",
       "167  environmentallogger log environmental data tem...   \n",
       "105  corporate environmental performance prediction...   \n",
       "180  environmentalscience first website developed u...   \n",
       "120  sensorpuck repository collateral related silic...   \n",
       "45   environmentalinterface underlying middleware s...   \n",
       "\n",
       "                                               stemmed  \\\n",
       "151                                   environmentalapp   \n",
       "54                   environmentalmonitor arduino code   \n",
       "48   environment monitor data captur data publish s...   \n",
       "13   indopacificcor analysi indopacif coral life hi...   \n",
       "94   green postindustri citi appli keyword extracto...   \n",
       "..                                                 ...   \n",
       "167  environmentallogg log environment data tempera...   \n",
       "105  corpor environment perform predict china empir...   \n",
       "180  environmentalsci first websit develop use html...   \n",
       "120  sensorpuck repositori collater relat silicon l...   \n",
       "45   environmentalinterfac underli middlewar servio...   \n",
       "\n",
       "                                            lemmatized  \\\n",
       "151                                   environmentalapp   \n",
       "54                environmentalmonitoring arduino code   \n",
       "48   environmental monitor data captured data publi...   \n",
       "13   indopacificcorals analysis indopacific coral l...   \n",
       "94   greening postindustrial city applying keyword ...   \n",
       "..                                                 ...   \n",
       "167  environmentallogger log environmental data tem...   \n",
       "105  corporate environmental performance prediction...   \n",
       "180  environmentalscience first website developed u...   \n",
       "120  sensorpuck repository collateral related silic...   \n",
       "45   environmentalinterface underlying middleware s...   \n",
       "\n",
       "                                                 words  doc_length  \n",
       "151                                 [environmentalapp]           1  \n",
       "54            [environmentalmonitoring, arduino, code]           3  \n",
       "48   [environmental, monitor, data, captured, data,...         160  \n",
       "13   [indopacificcorals, analysis, indopacific, cor...          10  \n",
       "94   [greening, postindustrial, city, applying, key...         935  \n",
       "..                                                 ...         ...  \n",
       "167  [environmentallogger, log, environmental, data...          19  \n",
       "105  [corporate, environmental, performance, predic...         102  \n",
       "180  [environmentalscience, first, website, develop...          14  \n",
       "120  [sensorpuck, repository, collateral, related, ...          30  \n",
       "45   [environmentalinterface, underlying, middlewar...         190  \n",
       "\n",
       "[61 rows x 7 columns]"
      ]
     },
     "execution_count": 5,
     "metadata": {},
     "output_type": "execute_result"
    }
   ],
   "source": [
    "train_exp, X_train, y_train, X_validate, y_validate, X_test, y_test = w.split(df,'language')\n",
    "train_exp"
   ]
  },
  {
   "cell_type": "code",
   "execution_count": 6,
   "metadata": {
    "scrolled": true
   },
   "outputs": [],
   "source": [
    "#df.language.value_counts().head(15)"
   ]
  },
  {
   "cell_type": "code",
   "execution_count": 7,
   "metadata": {},
   "outputs": [],
   "source": [
    "#df.info()"
   ]
  },
  {
   "cell_type": "code",
   "execution_count": 8,
   "metadata": {},
   "outputs": [],
   "source": [
    "#remove_lang_list = ['CoffeeScript','Other','Go','Stata','Lua','Kotlin','Objective-C','Shell','Vim script','Batchfile','Swift','PowerShell','Vue', 'Mathematica','TypeScript']"
   ]
  },
  {
   "cell_type": "code",
   "execution_count": 9,
   "metadata": {},
   "outputs": [],
   "source": [
    "#df = df[~df.language.isin(remove_lang_list)]"
   ]
  },
  {
   "cell_type": "code",
   "execution_count": 10,
   "metadata": {},
   "outputs": [
    {
     "name": "stdout",
     "output_type": "stream",
     "text": [
      "(61, 6)\n",
      "(21, 6)\n",
      "(21, 6)\n"
     ]
    }
   ],
   "source": [
    "print(X_train.shape)\n",
    "print(X_validate.shape)\n",
    "print(X_test.shape)"
   ]
  },
  {
   "cell_type": "code",
   "execution_count": 11,
   "metadata": {},
   "outputs": [
    {
     "data": {
      "text/plain": [
       "['data', 'environmental']"
      ]
     },
     "execution_count": 11,
     "metadata": {},
     "output_type": "execute_result"
    }
   ],
   "source": [
    "from sklearn.feature_extraction.text import CountVectorizer\n",
    "\n",
    "# Create CountVectorizer, which create bag-of-words model.\n",
    "# stop_words : Specify language to remove stopwords. \n",
    "# min_df: ignore terms that have a document frequency strictly \n",
    "# lower than the given threshold. This value is also called cut-off in the literature. \n",
    "# If float, the parameter represents a proportion of documents, integer absolute counts. \n",
    "# ngram_range: the lower and upper boundary of the range of n-values for \n",
    "# different word n-grams or char n-grams to be extracted. \n",
    "\n",
    "vectorizer = CountVectorizer(stop_words='english', \n",
    "                             min_df=20, \n",
    "                             ngram_range=(1,2), \n",
    "                             binary=True)\n",
    "\n",
    "# Learn vocabulary in sentences. \n",
    "vectorizer.fit(X_train.clean)\n",
    "\n",
    "# Get dictionary. \n",
    "vectorizer.get_feature_names()"
   ]
  },
  {
   "cell_type": "code",
   "execution_count": 12,
   "metadata": {},
   "outputs": [],
   "source": [
    "# Transform each sentences in vector space.\n",
    "bow = vectorizer.transform(X_train.clean)"
   ]
  },
  {
   "cell_type": "code",
   "execution_count": 13,
   "metadata": {},
   "outputs": [
    {
     "data": {
      "text/plain": [
       "array([0, 0])"
      ]
     },
     "execution_count": 13,
     "metadata": {},
     "output_type": "execute_result"
    }
   ],
   "source": [
    "# this is just to see the array of 0's and 1's\n",
    "bow_array = bow.toarray()\n",
    "bow_array[3]"
   ]
  },
  {
   "cell_type": "code",
   "execution_count": 14,
   "metadata": {},
   "outputs": [
    {
     "name": "stdout",
     "output_type": "stream",
     "text": [
      "environmentalapp\n",
      "[0 0]\n",
      "environmentalmonitoring arduino code\n",
      "[0 0]\n",
      "environmental monitor data captured data published serial bus per second comma delimited string example 267035736101359126421 temperature celsius humidity percent light analog value 0 1023 pressure pa altitude accurate crc16 checksum data fields sensors dht11 temperature humidity bmp085 temperature pressure ldr light dependencies pip3 install pahomqtt pyserial crcmod config serial 9600 ldr a0 dht11 4 bmp085 0x77 publishing mqtt sertomqttpy takes data published arduino forwards mqtt broker takes name serial port name room parameters python3 sertomqttpy 1921681111 devttyacm0 livingroom alternative python q versionsertomqttq q sertomqttq q 1921681111 devttyacm0 livingroom subscribe command line confirm data publishing broker mosquittosub h 1921681111 hassio add sensors home assistant add configurationyaml sensor platform mqtt name living room temperature statetopic hassiolivingroomtemperature qos 0 unitofmeasurement oc sensor 2 platform mqtt name living room humidity statetopic hassiolivingroomhumidity qos 0 unitofmeasurement sensor 3 platform mqtt name living room pressure statetopic hassiolivingroompressure qos 0 unitofmeasurement hpa sensor 4 platform mqtt name living room light statetopic hassiolivingroomlight qos 0 unitofmeasurement 1024 adding sensors lovelace dashboard add lovelace dashboard entities entity sensorlivingroomtemperature entity sensorlivingroomhumidity entity sensorlivingroompressure entity sensorlivingroomlight showicon true showname false showstate true title living room type glance\n",
      "[1 1]\n",
      "indopacificcorals analysis indopacific coral life histories socioenvironmental drivers strategic management\n",
      "[0 0]\n",
      "greening postindustrial city applying keyword extractor methods monitor fastchanging environmental narrative worcester massachusetts population 200000 second largest city boston massachusetts usa important american industrial revolution factories dominated landscape mid20th century city slid physically mentally postindustrial decline first glance worcester might present alltoofamiliar global story gentrification loss city identity community even small survey historic record local public discourse confirm view complicated local story surface answer questions literary geographer sarah luria teams computer scientist ricardo campos developer keyword extractor yake discover create helpful survey image stories told neighborhood time believe interdisciplinary work play crucial role showing artificial intelligence ai track fastdeveloping story urban revitalization environmental cleanup survey curated small corpus 26 englishlanguage texts described canal districtgreen island time majority texts 20182019 examples 1862 1917 1980s 1990s provide historic range corpus includes descriptions canal district industrial revolution altered dramatically building canal railroad peak industrialization identity irish working class neighborhood postindustrial decline stages revitalization majority texts come local major newspaper worcester telegram gazette corpus includes articles new york times boston globe national public radio also included worcesterborn poet mary fells 1984 poem prophecy historian roy rosenzweigs acclaimed history worcesters working class eight hours 1985 description one given dataset details give details text sorted date filename 1 1862lincoln history worcester archiveorg landscape description source william lincoln history worcester lincoln william history worcester massachusetts earliest settlement september 1836 various notices relating history worcester county worcester md phillips co 1862 url httpsarchiveorgdetailshistoryofworcest1836lincpagen6 publication date 1862 description worcesters landscape industrial revolution tokens 256 filename 2 1879abijah perkins marvin history worcester archiveorg railroad descriptionn source abijah perikins marvin history worcester county massachusetts embracing comprehensive history country first settlement present time boston jewett co 1879 pp 8283 url httpsarchiveorgdetailshistoryofworcest03marvpage82 publication date 1879 description description beginning blackstone canal worcester railroad tokens 638 filename 3 1917washburn industrial history worcester archiveorg canal source charles g washburn industrial worcester worcester davis press 1917 p 23 url httpsarchiveorgdetailsindustrialworces00washpagen6 publication date 1917 description description creation blackstone canal importance tokens 199 filename 4 1917washburn industrial history worcester archiveorg entrepreneurial spirit city source charles g washburn industrial worcester worcester davis press 1917 p 31 url httpsarchiveorgdetailsindustrialworces00washpage60 publication date 1917 description introduction steampower worcester industries tokens 72 filename 5 1917washburn industrial history importance steam power source charles g washburn industrial worcester worcester davis press 1917 p 300 url httpsarchiveorgdetailsindustrialworces00washpage60 publication date 1917 description entrepreneurial spirit city tokens 150 filename 6 1983259worcester shedding smokestack image new york times source worcester shedding smokestack image new york times sept 25 1983 publication date 1983259 description tokens 911 filename 7 1984mary fell prophecy poem source mary fell prophecy persistence memory 1984 url httpcapaconncolledufellpersistencehtml publication date 1984 description poem collection worcester tokens 328 filename 8 1985roy rosenzweig eight hours history recreation industrial labor source roy rosenzweig eight hours cambridge uk cambridge 1985 publication date 1985 description history recreation worcesters industrial labor force tokens 287 filename 9 19891012a new look old area new york times lafayette placegreen island source worcester mass new focus old area new york times publication date 19891012 description building new senior affordable housing green island tokens 450 filename 10 19971118bureau urges liability relief brownfields wtg source bronislaus b kush bureau urges liability relief brownfields worcester telegram gazette publication date 19971118 description tokens 585 filename 11 1998167green island businesses say city help killing wtg source bronislaus b kush green island businesses say city help killing worcester telegram gazette publication date 1998167 description tokens 597 filename 12 1999121vacant industrial sites use neighborhood wtg source winston w wiley vacant industrial sites use neighborhood worcester telegram gazette publication date 19991201 description tokens 436 filename 13 2000296green island revitalization plan dropped wtg source lisa eckelbecker green island revitalization plan dropped worcester telegram gazette publication date 2000296 description tokens 446 filename 14 2007259canal district shapes old buildings new life green street wtg source shaun sutner canal district shapes old buildings new life green street worcester telegram gazette publication date 20072509 description tokens 645 filename 15 2011238life green island hope city times local alternative newspaper source maureen schwab life green island hope city times local alternative newspaper publication date 20112308 description tokens 1149 filename 16 2018817woosox ball park long history boston globe source tim logan new home woosox long history boston globe publication date 2018817 description tokens 632 filename 17 20181011time talk gentrification worcester worcester mag source bill shaner time talk gentrification worcester worcester magazine publication date 20181011 description tokens 4165 filename 18 20181023worcester new town national public radio source aaron schachter worcester newit town national public radio wgbh publication date 20181023 description tokens 1184 filename 19 2018worcester city reclaimed vitality magazine source bernard whitmore mayor manager city reclaimed vitality magazine publication date 201811 description tokens 2077 filename 20 2019227worcester organizers hear nashville buffalo tips woosox cba push worcester mag source bill shaner worcester organizers hear nashville buffalo tips woosox cba push worcester magazine publication date 20190227 description tokens 540 filename 212019410a totally cool place live masslive source aviva luttrell totally cool place live masslivecom publication date 20190410 description tokens 497 filename 22 201961new shine old building former walker shoe factory converted studios wtg source scott oconnell new shine old building former walker shoe factory converted studios worcester telegram gazette publication date 20190601 description tokens 468 filename 23 2019620construction woosox regulation killing canal district dreams worcester business journal source renee diaz construction woosox regulation killing canal district dreams worcester business journal publication date 20190620 description tokens 739 filename 24 2019624worcester gets brownfield funds wtg source worcester gets brownfield funds worcester telegram gazette publication date 20190624 description tokens 517 filename 25 2019624worcester pledges 3m green island wtg source kim ring worcester pledges 3m green island worcester telegram gazette publication date 20190624 description tokens 490 filename 26 201976an away game businesses property owners near ballpark site make way development wtg source away game businesses property owners near ballpark site make way development worcester telegram gazette publication date 20190706 description tokens 1322\n",
      "[0 1]\n",
      "environmentalchambercode walker wind ' code humidity sensors flask website setup html templates 61319 chris ethan ' lab files repository humidsensorspy run program records humidity temperature sensor data using adafruit dht library outputs two text files jpg file two text files titled humiddataa humiddatab text chart displays exact numbers data point jpg file chart four subplots displaying data using python library matplotlib run use command line input python humidsensorspy humidwebsitepy code used set flask web server using flask library implements several pages connected local webserver raspberry pi puts network connected website couple different pages sudo flaskapphumidwebsitepy flask host0000 port80 indexpagehtml html code used design template index page chartdatahtml html code used display image textcharthtml html code used display text file\n",
      "[1 0]\n",
      "environmentalcs program created feb202020 6 months work completed jun222020 program comparison algorithm people working towards environmental benefits monitoring plant life growth certain area upload save images landscapes directory compare overtime new images area provide thorough analysis much plant life change location interest\n",
      "[0 1]\n",
      "environmental flows project university california davis repository metarepository keeping track various repositories used environmental flows project uc davis water management lab project website functional flows calculator terrain analysis geomorphic classification resources functional flows calculator contributors belize lane noelle patterson leo qiu repositories dimensionless reference hydrograph drh functional flow calculator terrain analysis contributors herve guillon repositories modified version r rasterterrain function cart ward related scripts slurmrelated scripts geomorphic classification contributors colin byrne repositories project website contributors leo qiu repositories uc davis water management lab eflow api uc davis water management lab eflow client resources ucd eflow google drive internal ucd eflow google drive external ucd eflow box drive big data files ucd water management lab metarepository\n",
      "[1 1]\n",
      "umi project getting started install dependencies yarn start dev server yarn start\n",
      "[0 0]\n",
      "environmentaldegradation\n",
      "[0 0]\n",
      "hamlet\n",
      "[0 0]\n",
      "amritsartoday real time environmental data amritsar city backend frontend\n",
      "[1 1]\n",
      "environmentalpioneer ui marsblue elisao web ps githubgithub1559830979qqcom\n",
      "[0 0]\n",
      "environmental science associates jekyll theme based freelancer bootstrap theme\n",
      "[0 1]\n",
      "foodprintcalculator setup npm install npm run dev deploy push master\n",
      "[0 0]\n",
      "svelte svelte new way build web applications ' compiler takes declarative components converts efficient javascript surgically updates dom learn svelte website stop discord chatroom development pull requests encouraged always welcome pick issue help us install work svelte locally git clone httpsgithubcomsveltejssveltegit cd svelte npm install use yarn install dependencies specific package versions packagelockjson used build test svelte build compiler modules included package npm run build watch changes continually rebuild package useful ' using npm link test changes project locally npm run dev compiler written typescript ' let put ' basically javascript type annotations ' pick time ' using editor visual studio code may need install plugin order get syntax highlighting code hints etc running tests npm run test filter tests use g aka grep example run tests involving transitions npm run test g transition sveltedev source code httpssveltedev including documentation lives site directory site built sapper sveltedev probably ' possible ' seem access dev sites check superuser question answer license mit\n",
      "[0 0]\n",
      "welcome github pages use editor github maintain preview content website markdown files whenever commit repository github pages run jekyll rebuild pages site content markdown files markdown markdown lightweight easytouse syntax styling writing includes conventions syntax highlighted code block header 1 header 2 header 3 bulleted list 1 numbered 2 list bold italic code text linkurl imagesrc details see github flavored markdown jekyll themes pages site use layout styles jekyll theme selected repository settings name theme saved jekyll configyml configuration file support contact trouble pages check documentation contact support well help sort\n",
      "[0 0]\n",
      "environmentalorganisation\n",
      "[0 0]\n",
      "environmentalsensors code adafruit maxbotix sensors track vernal window\n",
      "[0 0]\n",
      "environmentalmodeling\n",
      "[0 0]\n",
      "environmentalsensors httpsuserimagesgithubusercontentcom122488152977143353faa10c8c1111e782ce36de73631b2dpng\n",
      "[0 0]\n",
      "etdenvironmentalsensor project python consisting smaller apps talking microservices enables reading measurements humtemp sensor displaying webpage steps creating project download repo git clone adresurl create venv install required packages python3 venv venv source venvbinactivate pip install upgrade pip pip3 install r requirementstxt permanent alias nano bashrc alias venvsource environmentalsensorsvenvbinactivate reboot type source bashrc config temphum sensor add uncomment dtparamspion dtoverlaymcp2515can0oscillator8000000interrupt25spimaxfrequency1000000 sudo apt update sudo modprobe mcp251x sudo apt install canutils worth rebooting sudo ip link set can0 type bitrate 460800 candump can0 bug fix sudo aptget install libatlasbasedev running app startsh sigoihy\n",
      "[0 0]\n",
      "environmentalsamplelogger application helps environmental consultants visualize distribution subsurface soil drilling boreholes user create new borehole location add samples specify parameters colour stratigraphy whether sample odourous save progress come back later\n",
      "[0 1]\n",
      "environmental monitor data captured data published serial bus per second comma delimited string example 267035736101359126421 temperature celsius humidity percent light analog value 0 1023 pressure pa altitude accurate crc16 checksum data fields sensors dht11 temperature humidity bmp085 temperature pressure ldr light dependencies pip3 install pahomqtt pyserial crcmod config serial 9600 ldr a0 dht11 4 bmp085 0x77 publishing mqtt sertomqttpy takes data published arduino forwards mqtt broker takes name serial port name room parameters python3 sertomqttpy 1921681111 devttyacm0 livingroom alternative python q versionsertomqttq q sertomqttq q 1921681111 devttyacm0 livingroom subscribe command line confirm data publishing broker mosquittosub h 1921681111 hassio add sensors home assistant add configurationyaml sensor platform mqtt name living room temperature statetopic hassiolivingroomtemperature qos 0 unitofmeasurement oc sensor 2 platform mqtt name living room humidity statetopic hassiolivingroomhumidity qos 0 unitofmeasurement sensor 3 platform mqtt name living room pressure statetopic hassiolivingroompressure qos 0 unitofmeasurement hpa sensor 4 platform mqtt name living room light statetopic hassiolivingroomlight qos 0 unitofmeasurement 1024 adding sensors lovelace dashboard add lovelace dashboard entities entity sensorlivingroomtemperature entity sensorlivingroomhumidity entity sensorlivingroompressure entity sensorlivingroomlight showicon true showname false showstate true title living room type glance\n",
      "[1 1]\n",
      "environmentaldatapredict environmental data predict\n",
      "[1 1]\n",
      "environmental consulting web site project attempt recreate web site environmental consulting firm using bootstrap think ' big improvement\n",
      "[0 1]\n",
      "app deployed get data tempreture using nodemcu send server drow graphs show owner client\n",
      "[1 0]\n",
      "streaming data esp8266 using micropython mqtt resources micropython micropython online simulator micropython libraries micropython pip package index esp8266 documentation esp8266 firmware esp8266 firmware tutorial adafruit micropython resources micropython bme280 sensor driver micropython sht30 sensor driver espressif esptool mosquitto broker putty serial support windows subsystem linux overview esp8266 flashing process install esptool erase flash deploy micropython firmware see flashing micropython flasing howto tutorial micropython publish mqtt deploy solution esp8266 micropython flash follows see adafruit micropython tool ampy information copying files esp32 pip install adafruitampy ampy port devttyusb0 put bootpy ampy port devttyusb0 put mainpy ampy port devttyusb0 put configpy ampy port devttyusb0 put bme280py ampy port devttyusb0 put sht30py ampy port devttyusb0 put configdefaultjson ampy port devttyusb0 put sensorbme280py ampy port devttyusb0 put sensorsht30py ampy port devttyusb0 put sensorfakepy bootpy import network staif networkwlannetworkstaif staifactivetrue staifconnectwifi ssid wifi password mainpy httpdocsmicropythonorgenlatestesp8266indexhtml httpgarybakecomwemosoledshieldhtml httpdocsmicropythonorgenlatestesp8266esp8266quickrefhtmladcanalogtodigitalconversion umqttrobust import mqttclient machine import i2c pin import utime time import gc import ssd1306 oled machine import adc import esp import config wifi connect established bootpy file uncomment needed import network staif networkwlannetworkstaif staifactivetrue upip packages see readmemd upipinstall ' micropythonumqttsimple ' upipinstall ' micropythonumqttrobust ' builtinledpin 2 cfg configconfig ' configdefaultjson ' staifconnectcfgwifissid cfgwifipwd client mqttclientstrespflashid cfgmqttbroker mysensor cfgsensorsensor builtinled pinbuiltinledpin pinout adc adc0 create adc object adc pin i2c i2csclpin5 sdapin4 espsleeptypeespsleeplight def initdisplayi2c i2cdevices i2cscani2c 0x3c i2cdevices display oledssd1306i2c64 48 i2c return true else print ' oled display found ' return false def initialise blinkcnt 0 checkwifi blinkcnt 50 builtinledvalueblinkcnt 2 blinkcnt blinkcnt 1 timesleepms100 def checkwifi blinkcnt 0 staifisconnected timesleepms500 builtinledvalueblinkcnt 2 blinkcnt blinkcnt 1 def setcontrast lightlevel adcread lightlevel 200 return 0 lightlevel 600 return 100 return 255 def publish count 1 true builtinledvalue0 checkwifi temperature pressure humidity mysensormeasure freememory gcmemfree oleddisplay displayfill0 displaycontrastsetcontrast displaytextv0 0 0 displaytextv1 0 10 displaytextv2 0 20 displaytextstrfreememory 0 30 displaytextstrcount 0 40 displayshow msg b ' deviceidsmsgidumemucelsiusspressureshumiditys ' cfgdeviceid count freememory temperature pressure humidity clientpublishbhomeweathers cfgdeviceid msg builtinledvalue1 count count 1 timesleepcfgsamplerate oleddisplay initdisplayi2c initialise clientreconnect publish connecting esp32 putty install putty platform connect 115200 baud rate see adafruit serial repl tutorial\n",
      "[1 0]\n",
      "trafficsignrecognize nhan dien bien bao cam trong anh moi truong co su dung deep learning yeu cau python python 369 packages khuyen khich su dung anaconda 3 tao mot environment moi ten opencv e cai tat ca packages nhu hinh numpy 1172 matplotlib 311 opencv 342 django 225 scikitimage 0150 tensorflow 200 tensorflowmkl 1150 keras 224 pillow 621 run project activate bien moi truong anaconda 3 source ospathanaconda3anaconda3binactivate activate moi truong chua cac packages thiet conda activate opencv di chuyen en thu muc chua project cd parentprojectpathtrafficsignrecognizemaster chay server python managepy runserver sau khi chay server thanh cong truy cap ia chi localhost8000 e thao tac ho tro cac bien bao theo bo bien bao chuan viet nam 101 uong cam 102 cam nguoc chieu 122 dung lai 127 toc toi cho phep tham khao source code train file modelh5 tai githubcomquangkhoiuit98trainmodeltrafficsignrecognize chuc nang chinh trang chu nhan dien bien bao tu anh moi truong trang tra cuu bien bao tra cuu bien bao tu du lieu cua ung dung\n",
      "[0 0]\n",
      "environmentalchambercode walker wind ' code humidity sensors flask website setup html templates 61319 chris ethan ' lab files repository humidsensorspy run program records humidity temperature sensor data using adafruit dht library outputs two text files jpg file two text files titled humiddataa humiddatab text chart displays exact numbers data point jpg file chart four subplots displaying data using python library matplotlib run use command line input python humidsensorspy humidwebsitepy code used set flask web server using flask library implements several pages connected local webserver raspberry pi puts network connected website couple different pages sudo flaskapphumidwebsitepy flask host0000 port80 indexpagehtml html code used design template index page chartdatahtml html code used display image textcharthtml html code used display text file\n",
      "[1 0]\n",
      "esresnet environmental sound classification based visual domain models repository contains implementation models described paper arxiv200407301 submitted icpr 2020 abstract environmental sound classification esc active research area audio domain seen lot progress past years however many existing approaches achieve high accuracy relying domainspecific features architectures making harder benefit advances fields eg image domain additionally past successes attributed discrepancy results evaluated ie unofficial splits urbansound8k us8k dataset distorting overall progression field contribution paper twofold first present model inherently compatible mono stereo sound inputs model based simple logpower shorttime fourier transform stft spectrograms combines several wellknown approaches image domain ie resnet siameselike networks attention investigate influence crossdomain pretraining architectural changes evaluate model standard datasets find model outperforms previously known approaches fair comparison achieving accuracies 970 esc10 915 esc50 842 854 us8k mono stereo second provide comprehensive overview actual state field differentiating several previously reported results us8k dataset official unofficial splits better reproducibility code including reimplementations made available run model required python version 37 esresnet esc10 dataset python mainpy config protocolsesc10esresnetesc10cv1json datasetargsroot pathtoesc10 esc50 dataset python mainpy config protocolsesc50esresnetesc50cv1json datasetargsroot pathtoesc50 urbansound8k dataset stereo python mainpy config protocolsus8kesresnetus8kstereocv1json datasetargsroot pathtourbansound8k reproduced results lmcnet urbansound8k dataset python mainpy config protocolsus8klmcnetus8kcv1json datasetargsroot pathtourbansound8k\n",
      "[0 1]\n",
      "environmentallaw\n",
      "[0 0]\n",
      "mhav env check jenkins\n",
      "[0 0]\n",
      "environmentalmodeling\n",
      "[0 0]\n",
      "foodprintcalculator setup npm install npm run dev deploy push master\n",
      "[0 0]\n",
      "environmentalnewsap\n",
      "[0 0]\n",
      "environmentalforecasting\n",
      "[0 0]\n",
      "environmental consulting web site project attempt recreate web site environmental consulting firm using bootstrap think ' big improvement\n",
      "[0 1]\n",
      "electricimpenvironmentals demo project collect store chart environmental data electric imp device using nodejs angular mongodb requirements electric imp dev kit environmental tail nodejs environment mongodb database knowledge javascriptnodejs environments server setup server must publicly accessible npm update bower update node serverjs device setup login httpsideelectricimpcom register electric imp device install agentnut devicenut update agentnut environment begin settings const serverurl httpyourhostcom const wundergroundapikey xxxxxxxxxx const wundergroundlocation nyalbany end settings\n",
      "[1 1]\n",
      "yapec yet another parser environmental configuration ' enough npm modules getting config values enviroment already travis status installation sane use npm npm install yapec otherwise clone repo via git git clone httpsgithubcomsandfoxnodeyapecgit usage var yapec require ' yapec ' var config yapec ' prefix ' configspec processenv opts yapec takes spec form object nested heart ' content leaf every path must string dictates parse corresponding envvar string path converted uppercase dot seperators exchanged underscores optional prefix may supplied first arg act mask searching env object optional options object may supplied far option ' ignoremissing ' accepts bool false default true rather throwing exception env var missing instead returns null value yes realise probably clearest way describe brain failing point time examples examples also found examples folder inside project var yapec require ' yapec ' represents something could expect processenv return var env apppath ' optappy ' appname ' super server ' appserverenabled ' true ' appserverprocs ' 8 ' appservermagic ' 2e2 ' var configspec app path ' string ' name ' string ' server enabled ' bool ' procs ' int ' magic ' float ' var config yapecconfigspec env consolelogconfig outputs following app path ' optappy ' name ' super server ' server enabled true procs 8 magic 200 optionally prefix supplied first arguement acts mask looking enviroment variables example var yapec require ' yapec ' var env fallover ' true ' myappfallover ' false ' var spec fallover ' bool ' var config yapec ' myapp ' spec env consolelogconfig falloverfalse caveats due way modules works certain combinations env var strings forbidden example following would fail could resolved object sane way app could string object time appsuper app appdbnamemegadb appdbport8000 helpers yapec also comes helpers creating configs processenv style objects creating env var strings config object checkout examples folder pretty self explanatory todo document better yapecgetspecprefix processenv yapecgetenvstringsprefix config stability index based nodejs stability index stability 2 unstable testing code tested mocha run npm test usual tests ' bad could complete travis tests upgrades fixes ideas ideas bug fixes suggestions etc gladly excepted feel free raise pull requests issues license mit license copyright c 2013 james edward butler aka sandfox permission hereby granted free charge person obtaining copy software associated documentation files ' software ' deal software without restriction including without limitation rights use copy modify merge publish distribute sublicense andor sell copies software permit persons software furnished subject following conditions copyright notice permission notice shall included copies substantial portions software software provided ' ' without warranty kind express implied including limited warranties merchantability fitness particular purpose noninfringement event shall authors copyright holders liable claim damages liability whether action contract tort otherwise arising connection software use dealings software\n",
      "[0 1]\n",
      "crues cooperative robotics using environmental sensors directory structure docs documentation including pdf final report docsinterim interim report latex root docsfinal final report latex root docsimg image root reports wiring wiring diagrams pcb files rviz rviz configuration files visualising odemetry mapping data cruespi ros nodes python code cruespirospkgs ros packages added catkin workspace cruespicrues scripts used testing debugging cruespiconfig configuration files individual robots deploy script copies correct file rpi cruespicruesdeploy script deploying code rpis cruespicruesrun script running roomba code rpis deploying running code turn robots connect cruesnet adhoc wifi network add cruespicruesdeploy cruespicruesrun path run cruesdeploy robots deploy code robots replaced combination blinky inky clyde run cruesrun robots run roombalaunch ros launch file details found project wiki\n",
      "[1 1]\n",
      "environmental sensing aws iot project environmental sensing ph various gases particulate matter sound capturing images multipart project demonstrate environmental monitoring using several types sensors aws services first part focuses building hardware monitoring environmental parameters co2 particulate matter sound capturing images project used environmental monitoring several use cases industrial manufacturing distribution warehouses etc first version environmental sensor box software along capable following features sense temperature humidity pressure co2 tvoc proximity range publish aws iot core capture upload images amazon s3 bucket project also uses aws systems manager enable remote access raspberry pi use aws iot rules log data amazon elasticsearch service second version project retains temperature humidity pressure co2 tvoc proximity replaces camera range sensor ph sensor atlas scientific smaller enclosure source code remains applications ph ph sensor used monitor several industrial agricultural parameters dough fermentation soil ph different crops plants need specific levels ph soil hardware mechanical list shelf hardware used build environmental sensing unit raspberry pi zero w sparkfun qwiic kit raspberry pi ultrasonic range finder hrxlmaxsonarvr unit supports camera raspberry pi capture images load aws s3 camera used arducam lens board sku b0031 could use compatible camera well information ph sensor ph reading circuit smaller enclosure atlas scientific spear tip ph probe ezo ph circuit ezo carrier board smaller enclosure please note code tested earlier version spear tip probe ezo circuits however new probe circuit work fine also important note default carrier board uart mode reprogrammed support i2c mode used project carrier board interfaces qwiic cable qwiic hat baseplate designed 3d printed house components following case bought amazoncom universal project enclosure image assembled unit first iteration support pm25 particulate matter 25 sensing see sensor pms7003 camera image image version ph support architecture high level architecture first iterationpart project configure setup aws iot read setting aws iot create thing created thing raspberry pi make sure keys present ' keys ' subfolder also copy sampleenv file env provide specifics need logging data aws iot core prior logging data take sampleenv file copy env make sure al parameters set correctly run script rpiqwiicawsiotpy read sensor data log aws iot core script calls two helper modules imagecapturepy capture image using hte picamera package upload s3 note s3 bucket name specified env file ultrasonicpy script reads value range finder sensor connected two flags used control import execution modules s3enable ultraenable env file want exclude one set flag emptry string module included set ' true ' see example s3enable ' true ' ultraenable ' ' env file configured correctly start tbe execution follows python3 rpiqwiicawsiotpy want run program background ensure keeps running disconnect remote session raspberry pi execute following nohup python3 u rpiqwiicawsiotpy outputlog go test secion aws iot console subscribe topic using topic used testing following telemetrythingname sample output unit timestamp 1583361438 time 03042020 173717 tempc 2763 tempf 81752 humidity 34475 pressure 106863 tvoc 0 co2 400 proximity 2556 ambient 128 image pzb827ebed3f9a1583361438 data using ultrasonic sensor readings data packet also provides image captured filename used store s3 bucket storing data amazon elasticsearch use amazon elasticsearch store transformed data later use visualization setup amazon elasticsearch region used create iot thing elasticsearch setup go aws iot console setup iot rule see image setup specific iot rule used transform incoming packets select topic2 thingname timestamp parsetimeyyyymmdd ' ' hhmmsszz timestamp americanewyork ts tempf tempc humidity pressure co2 ambient tvoc proximity ' telemetry ' rule minor transformation incoming data message output look follows thingname pzb827ebed3f9a timestamp 1583361502 ts 20200304t1738260500 tempf 82058 tempc 2781 humidity 34288 pressure 106548 co2 400 ambient 125 tvoc 0 proximity 2555\n",
      "[1 1]\n",
      "environmentalnotices open data application estonian fund nature httpselfondee scrapes official notifications estonian government site parses filters results sends regularily mailing list provides geodata preview implemented nodejs installation npm install create configconfigjson file baseurl sitebaseurl mailfrom mailtosendfrom mailto mailtosendto1 mailtosendto2 mailusername gmailaccounttosentfrom mailpassword gmailaccountpassword running invoke data scraping node scraperjs invoke mailer node mailerjs\n",
      "[1 0]\n",
      "gdalpointextractionforenvironmentalrasterdata following code pulling pixel data latlong coordinates environmental raster datasets provided usgs 1 annual maximum green vegetation fraction derived ndvi normalized difference vegetation index satellite data 2 land cover type water mixed forest grasslands urban built etc understanding geographic distribution vegetation environmental resources crucial planning sustainable design strategies code pulls data following tif maps 1 km modisbased maximum green vegetation fraction httplandcoverusgsgovgreenvegphp 05 km modisbased global land cover climatology httplandcoverusgsgovglobalclimatologyphp note make sure set gdaldata environment data since installed gdal anacanda executing python file terminal ran export gdaldataaustinarringtonanaconda2sharegdal\n",
      "[1 1]\n",
      "requiredenvvarplugin require environmental variable application throw routhlessly zerodependency webpack plugin motivation ever found setting default env vars project make sure app get data developer forgets provide run risk serving hard debugging time contributors even worse ending wrong configuration deployment process accidental values environmental variables app get hard reminder face ' something set usage requirement webpack package installed since ' checking webpack plugin ' probably already register plugin provide required env var names parameters const requiredenvvarplugin require ' requiredenvvarplugin ' moduleexports plugins new requiredenvvarplugin ' apiurl ' ' user ' ' pass ' provide variables list revp ' apiurl ' ' user ' ' pass ' array revp ' apiurl ' ' user ' ' pass ' work hood uses webpack ' defineplugin passes object shape ' processenv ' apiurl xxx user xxx pass xxx xxx respective environmental variables derived processenvxxx ' find one throws faq throw ' warn user ' whole purpose plugin developer ' infere code ' find docs ' deduce application working env var ' set surely ' notice bunch logs spitted onto console startup message clear forgot ' launch license mit httpsopensourceorglicensesmitlicensephp\n",
      "[1 1]\n",
      "wifi bluetooth environmental sensors built esp32 dev boards firmwares providing wifi web inteface documented ble api use watchflower use standard libraries easy customize needs projects higrow custom firmware higrow esp32 boards check geiger counter esp32 board cajoe geiger counter module check air quality monitor esp32 board handful sensors air quality monitoring check get involved developers browse code github page submit patches pull requests help would greatly appreciated users help us find report bugs suggest new features help translation documentation visit issues section github page start\n",
      "[0 1]\n",
      "palladioaddonsenvironmentaldynamics environmental dynamics comprises modeling analysis capabilities enhance pcm probabilistic specifications execution environment\n",
      "[0 1]\n",
      "environmental studies environmental studies statically generated jekyll hosted college liberal arts temple university links development httpsdevelopclatempleeduenvironmentalstudies production httpswwwclatempleeduenvironmentalstudies content structure directory datafacultyyaml datafile list faculty datanavigationyaml datafile primary navigation links pages page content md html format media images pdfs uploaded static content configyml site configuration options contributing discover typographic errors bugs problems navigating site please consider opening new issue brief summary problem along suggestions improvement welcome pull requests also welcome would like contribute edit page content proseio quick convenient way edit content markdown\n",
      "[0 1]\n",
      "enviromonitor indooroutdoor environmental monitor project enviro environmental monitoring board uses openweather api get current weather show display also display turned onoff passing finger near light sensor reduce energy consumption python library steps install found pimoronienviropluspython installing install configure dependencies github git clone httpsgithubcompimoronienviropluspython cd enviropluspython sudo installsh cd note raspbian lite users may first need install git sudo apt install git git clone httpsgithubcomcesnietorenviromonitorgit cd enviromonitor add environment variables make sure valid appid openweather curl httpsapiopenweathermaporgdata25weatherid2172797appiduniqueuuidunitsimperial define city id appid environment variables export openweathermapcityidyourcityid export openweathermapappiduniqueuuid change timezone cityname timezone city python timezone enviromonitorpy running python3 enviromonitorypy want run background process using ssh raspberry pi make sure process reparented init setsid python3 enviromonitorpy devzero errorlog yout want run pi boots refer rclocal\n",
      "[0 1]\n",
      "environmentaldegradation\n",
      "[0 0]\n",
      "dat257dit257 agile software project management team phish un sustainability project course agile management goal selected goal 13 climate action team members usernames real name pontare25 darclander adrianhak cladnic munchgar hersiza motivation project created part course dat257dit257 agile software project management taught chalmers university collaboration university gothenburg primary motivateion behind project learn use agile scrum developer framework installation run application recommend using intellij clone repository run application using maven tab scroll javafx use javafxrun option intellij maven tab located top right obs maven project using dependencies javafx large portions program run using regular run button dependencies require maven support use first follow steps installation run application using maven tab application urge either sign register register register entering prompts log either log using credentials entered register section use demo credentials username demo password pass logged greted homescreen information application un goal 13 top find global navigator main sectins home calculator statistics vehicles emissions calculator section able log relevant activity data personal emissions example food personal transport add vehicles activities need registered vehicle add transport activity bottom find results section summarises different emission activities allows filteering categories dates depth knowledge emissions turn global navigator statistics section graphically break exactly activities responsible emissions api reference project developed using java version 1401 issues using older versions issues running recommend using version later set pomxml file iml file maven 400 dateaxis list external dependencies handled maven see pomxml file maven compiler version 380 javafxmavenplugin version 004 javafx use orgopenjfx version 14 sqlite database use version 3323 frameworks used gui javafx openjfx 14 database sqlite sqlite dependency maven managing dependencies maven used credits dateaxis charts christian schudt diego cirujano setting javafx maven bytesmyth easiest javafx setup intellij maven debugger 2020 organising javafx windows software development tutorials gui application development using javafx scene builder un sustainability goal 13 graphics\n",
      "[1 0]\n",
      "hamlet\n",
      "[0 0]\n",
      "environment monitoring sensitive healthcare equipment needs suitable operating conditions equipment ' operating environment responsibility customer assist customer maintaining suitable environment install environment monitoring device customer premises monitor data project simulating data monitoring device issuing alerts warnings decomposition top level program runs two processes sender receiver sender responsible simulating monitoring device receiver analyzes data sender sends data receiver using console redirection run command line follows senderexecutable receiverexecutable would make consolewrites sender become consolereads receiver decomposition responsibility within sender receiver naming source files within sender within receiver give internal decomposition code project follows practices tools listed interface document interface sender receiver test cases sender receiver testable sender testable without receiver develop another datasource test confident integration receiver testable without sender enhance without retesting receivers minimum functionality simulating different sequences data monitor sender takes csv file input file contains temperature humidity data sender sends periodically receiver outputs warnings alerts console environmental conditions breach limits temperature warning levels high 37 c low 4 c temperature error levels high 40c low 0 c humidity warning level high 70 humidity error level high 90 extended functionality sender needs send data every 5 minutes receiver ' receive data half hour receiver outputs alert evaluation criteria see evaluation criteria exercise\n",
      "[1 1]\n",
      "python audio feature extraction repository holds library implementations separate utilities used extraction processing features audio files underlying extraction library librosa offers ability extract variety spectral features well miscellaneous features project goals learn feature extraction audio files standardize parameters use extraction large amounts audio samples allow relatively easy interface select extract subsets parameters subsets samples provide pandas wrappings extraction results hold important metadata information extraction process current implementations audiofeatureextractor class defines object used standardize set parameters used feature extraction provides wrapper methods librosa functions handle preprocessing steps preemphasis filtering hard low high cutoffs facilitate data cleaning batchextractor class defines object holds information batch audio samples feature extraction performed implements methods handle batch extraction using set standardized settings easy selection desired features featurevisualizer class defines object handle visualization features matplotlib usage documentation audiofeatureextractor class imported afe module words import audiofeatureextractor object simply put afe import audiofeatureextractor along rest needed imports instantiate audiofeatureextractor object put work object takes parameters instantiation desired sample rate hz use loading analysis audio default 22050 desired number samples use window length framed computations feature extractions number set integer power 2 optimize fourier engine default 1024 desired ratio window length hop framed computations ie overlapping factor setting 4 implies frame jumps 14 window length framed computations default 4 audiofeatureextractor capability retrieving audio string file path instance ' sample rate loading numpy array detect onsets perform preemphasis filtering bandpass filtering noise removal low high regions extract feature using instance ' standardized framing attributes either numpy array audio samples preprocessed stftcqt bandpass noise removal currently following feature extraction methods implemented feature extraction methods begin prefix extract extractstft extracts short time fourier transform extractcqt extracts constantq transform extractchromastft extracts chromagram extractchromacqt extracts chromagram cqt extractchromacens extracts energy normalized variant chromagram extractmelspectrogram extracts melwindowed spectrogram extractmfcc extracts melfrequency cepstral coefficients extractrms extracts framed rootmeansquare extractspectralcentroid extracts spectral centroid extractspectralbandwidth extracts spectral bandwidth extractspectralcontrast extracts spectral contrast extractspectralflatness extracts spectral flatness extractspectralrolloff extracts spectral rolloff extractzerocrossingrate extracts framed zero crossing rate extracttonnetz extracts tonnetz tonal centroid extractpolyfeatures extracts polynomial combinations features given feature matrix audio ultimately would like add functionalities audiofeatureextractor tempo related feature extraction methods feature manipulation tools offered librosa feature inversion tools translate back feature space auditory space hopefully facilitate interesting generative projects later perhaps incorporating utilities could helpful later projects methods feature engineering batchextractor batchextractor somewhat extension audiofeatureextractor handle standardized extraction batch samples order use batchextractor object must import way afe import batchextractor instantiate batchextractor object object accepts instantiation following parameters three parameters accepted instantiation audiofeatureextractor object string path folder containing audio samples either pandas dataframe string path csv file read dataframe metadata information samples specified folder audio details formatting index dataframe discussed indepth number melfrequency cepstral coefficients compute default 12 boolean flag indicating whether preemphasis filtering applied audio computation features default false float 0 1 indicating desired preemphasis filter coefficient option desired appropriately set using boolean flag default 097 boolean flag indicating whether hardbandpass filtering noise higher lower frequencies applied default false hardbandpass noise filtering applied flag appropriately set integer values set upper lower limits noise filtering default none boolean flag indicating whether start audio samples trimmed first computed onset default false batchextractor specified requires index dataframe specified either string pointing csv file passing dataframe particular dataframe needs column named filename indicates audio sample analyzed file path string relative batchextractor ' stored audio folder path columns present index dataframe could depend context project currently batchextractor used perform following tasks methods available set preprocessing options setbpfilter sets bandpass noise filtering flag parameters setpreemphasis sets preemphasis flag parameters settrim sets flag trimming first onset methods extract merge features batch samples stored instance ' index folder audio methods accepts string indicating resultsfolder either save extracted feature matrices csv files look saved extraction results csv files case merging additional options method detailed batchextractfeature accepts string abbreviation single extraction method apply entire batch audio index saves results given resultsfolder batchextractfeatures accepts list string abbreviations extraction methods apply entire batch audio index saves results given resultsfolder mergefeatures accepts list string abbreviations features merge single dataframe words sample audio index feature matrices specified list abbreviations loaded resultsfolder merged saved new dataframe batchextractandmerge performs batch extraction merging features given list string abbreviations audio samples index mergeandflattenfeatures methods nonnull return method loads sample audio index feature matrices given list extraction abbreviations flattens single row creating many many columns concatenates rows appropriately padded dataframe containing feature information samples index would eventually like add following batchextractor implementation featurevisualizer featurevisualizer class defines object could helpful purposes debugging identifying import sonic features general computations stftspectrogram helpful give us good visual description happening audio even though quantities also helpful making specific quantifications purposes analysis featurevisualizer class attempt creating interface visualization features extracted using batchextractor similarly audiofeatureextractor object instantiation object accepts following parameters string path indicating folder containing extracted features following naming convention ' samplenamefeatureabbreviationfeaturescsv ' default figure size use plotting default 18 8 currently class least implementation written currently object capable visualizing simply calling name sample loaded folder extracted features stftspectrograms melwindowed spectrograms chromagrams many feature visualization methods would like implement cqts spectral bandwidth related features tempograms eventually\n",
      "[1 0]\n",
      "ewatec webbased platform buit top odm observational data model sharing environmental data features setup database install postgresql sudo sh c ' echo deb httpaptpostgresqlorgpubreposapt lsbrelease cspgdg main etcaptsourceslistdpgdglist ' wget q httpswwwpostgresqlorgmediakeysaccc4cf8asc sudo aptkey add sudo aptget update sudo aptget install postgresql postgresqlcontrib install postgis sudo aptaddrepository ppaubuntugisubuntugisunstable sudo aptget update sudo aptget install postgis connect postgresql sudo su postgres psql setup virtual environment virtualenv env install gdal virtualenv gdal library must installed sudo aptget install libgdaldev install python binding gdal export cplusincludepathusrincludegdal export cincludepathusrincludegdal env pip install gdal1112 install ibfreetype6dev libxftdev matplotlib sudo aptget install libfreetype6dev libxftdev install gfortran libblasdev liblapackdev libatlasbasedev scipy numpy sudo aptget install gfortran libblasdev liblapackdev libatlasbasedev install requirements env pip install r requirementstxt setup gunicorn setup nginx\n",
      "[1 1]\n",
      "lake levels yahara watershed httpwwwyaharainfo madison wisconsin surrounding dane county saw near record level rainfalls late august widespread flooding caused two hundred million dollars damage associated press months leading flood lakes surrounding madison higher maximum level set wisconsin department natural resources 1979 often true lakes currently maximum level kept high questions hope address environment setup install postgresql make sure environment variable named user username value unix variants likely already exists create new user username permissions create database eg sudo u postgres createuser user recommended set sort virtual environment install requirements pip install r requirementstxt code code madisonlakelevels requires python 36 run tests python pytest run top level project running locally run get env set export flaskappapppy export databaseurlpostgresusermadisonlakes heroku ' env var format createdb madisonlakes u user run app flask run run debug mode ' prod export flaskenvdevelopment flask run deploy webapp deployed heroku found httpwwwyaharainfo herokuformat procfile runtimetxt used control deployment freetier database heroku used persist data cron job runs every 30 minutes updates database job created using heroku scheduler hits simple api route webapp causes update running job every 30 minutes nice side effect preventing website going hibernation mode heroku free tier\n",
      "[1 0]\n",
      "environmentallogger log environmental data temperature pressure humidity ambient light using tessel 2 data streamed using socketio dygraphs bme280 pins 0 1 photoresistor pin 7 port\n",
      "[1 1]\n",
      "corporate environmental performance prediction china empirical study energy service companies authors saina zheng chenhang shuchien hsu joseph sarkis jiehhaur chen code originally used paper corporate environmental performance prediction china empirical study energy service companies contains three fundalmental machine learning regression model random forest svm xgboost code well commented easy used anyone beginner level python programming skills evaluation metrics visualization code also included dependencies python tested 35 scikitlearn xgboost pandas citation find work useful research please consider cite articlezheng2020ceppc titlecorporate environmental performance prediction china empirical study energy service companies authorsaina zheng chenhang shuchien hsu joseph sarkis jiehhaur chen journaljournal cleaner production jclp year2020\n",
      "[0 1]\n",
      "environmentalscience first website developed using htmlcssjavascript created following mozilla foundation getting started web tutorial\n",
      "[0 0]\n",
      "sensorpuck repository collateral related silicon labs sensor puck note sensor puck longer actively supported code provided android directory sensor puck android app source code ios directory iphone app source code\n",
      "[0 0]\n",
      "environmentalinterface underlying middleware servioticy requirements servioticy apikey inside servioticyres directory secretsexample must fulfilled instructions inside deletion requirements order use delete scripts clean service objects additional tools needed curl postgresql client sudo aptget install postgresqlcommon postgresqlclientversion file pgpass root directory following database info content cd echo hostnameportdbnamedbuserdbpassword pgpass preparation phase order create valid servioticy folder several files must created executing firstly models room sensors must created make use generator inside servioticymodels javac modelgeneratorjava java modelgenerator rooms room currently composed 5 sensors xm1000 light power presence air quality additionally actuators also created making use generator inside servioticyactuators javac actuatorgeneratorjava java actuatorgenerator rooms currently room contains computer light hvac actuators order push actuators servioticy store ids database additional scripts created pushactuatorssh script firstly uses createsosh script communicate servioticy obtain ids finally uses script dbpy store ids database usage several options launch interface currently virtual real sensor servers run real sensor server needed firstly required start serial forwarder moment xm1000 motes supported driver specs information refer httpwwwadvanticsyscomshopasxm1000p24html startsfsh serial port used java jar envifacejar comm source port port servers running virtual sensors needed executed follows java sensors port port ids sensors either commands execute sensors sending 2 messages\n",
      "[0 0]\n"
     ]
    }
   ],
   "source": [
    "# Show sentences and vector space representation.\n",
    "# purely to visualize what's happening.\n",
    "for i, v in zip(X_train.clean, bow_array):\n",
    "    print(i)\n",
    "    print(v)"
   ]
  },
  {
   "cell_type": "code",
   "execution_count": 15,
   "metadata": {},
   "outputs": [],
   "source": [
    "X_bow = bow"
   ]
  },
  {
   "cell_type": "code",
   "execution_count": 16,
   "metadata": {},
   "outputs": [
    {
     "data": {
      "text/plain": [
       "<61x2 sparse matrix of type '<class 'numpy.float64'>'\n",
       "\twith 47 stored elements in Compressed Sparse Row format>"
      ]
     },
     "execution_count": 16,
     "metadata": {},
     "output_type": "execute_result"
    }
   ],
   "source": [
    "from sklearn.feature_extraction.text import TfidfVectorizer\n",
    "\n",
    "tfidf = TfidfVectorizer(stop_words='english', min_df=20, \n",
    "                             ngram_range=(1,2), \n",
    "                             binary=True)\n",
    "\n",
    "tfidf_sparse_matrix = tfidf.fit_transform(X_train.clean)\n",
    "tfidf_sparse_matrix"
   ]
  },
  {
   "cell_type": "code",
   "execution_count": 17,
   "metadata": {},
   "outputs": [
    {
     "data": {
      "text/html": [
       "<div>\n",
       "<style scoped>\n",
       "    .dataframe tbody tr th:only-of-type {\n",
       "        vertical-align: middle;\n",
       "    }\n",
       "\n",
       "    .dataframe tbody tr th {\n",
       "        vertical-align: top;\n",
       "    }\n",
       "\n",
       "    .dataframe thead th {\n",
       "        text-align: right;\n",
       "    }\n",
       "</style>\n",
       "<table border=\"1\" class=\"dataframe\">\n",
       "  <thead>\n",
       "    <tr style=\"text-align: right;\">\n",
       "      <th></th>\n",
       "      <th>data</th>\n",
       "      <th>environmental</th>\n",
       "    </tr>\n",
       "  </thead>\n",
       "  <tbody>\n",
       "    <tr>\n",
       "      <th>0</th>\n",
       "      <td>0.000000</td>\n",
       "      <td>0.000000</td>\n",
       "    </tr>\n",
       "    <tr>\n",
       "      <th>1</th>\n",
       "      <td>0.000000</td>\n",
       "      <td>0.000000</td>\n",
       "    </tr>\n",
       "    <tr>\n",
       "      <th>2</th>\n",
       "      <td>0.743509</td>\n",
       "      <td>0.668726</td>\n",
       "    </tr>\n",
       "    <tr>\n",
       "      <th>3</th>\n",
       "      <td>0.000000</td>\n",
       "      <td>0.000000</td>\n",
       "    </tr>\n",
       "    <tr>\n",
       "      <th>4</th>\n",
       "      <td>0.000000</td>\n",
       "      <td>1.000000</td>\n",
       "    </tr>\n",
       "    <tr>\n",
       "      <th>...</th>\n",
       "      <td>...</td>\n",
       "      <td>...</td>\n",
       "    </tr>\n",
       "    <tr>\n",
       "      <th>56</th>\n",
       "      <td>0.743509</td>\n",
       "      <td>0.668726</td>\n",
       "    </tr>\n",
       "    <tr>\n",
       "      <th>57</th>\n",
       "      <td>0.000000</td>\n",
       "      <td>1.000000</td>\n",
       "    </tr>\n",
       "    <tr>\n",
       "      <th>58</th>\n",
       "      <td>0.000000</td>\n",
       "      <td>0.000000</td>\n",
       "    </tr>\n",
       "    <tr>\n",
       "      <th>59</th>\n",
       "      <td>0.000000</td>\n",
       "      <td>0.000000</td>\n",
       "    </tr>\n",
       "    <tr>\n",
       "      <th>60</th>\n",
       "      <td>0.000000</td>\n",
       "      <td>0.000000</td>\n",
       "    </tr>\n",
       "  </tbody>\n",
       "</table>\n",
       "<p>61 rows × 2 columns</p>\n",
       "</div>"
      ],
      "text/plain": [
       "        data  environmental\n",
       "0   0.000000       0.000000\n",
       "1   0.000000       0.000000\n",
       "2   0.743509       0.668726\n",
       "3   0.000000       0.000000\n",
       "4   0.000000       1.000000\n",
       "..       ...            ...\n",
       "56  0.743509       0.668726\n",
       "57  0.000000       1.000000\n",
       "58  0.000000       0.000000\n",
       "59  0.000000       0.000000\n",
       "60  0.000000       0.000000\n",
       "\n",
       "[61 rows x 2 columns]"
      ]
     },
     "execution_count": 17,
     "metadata": {},
     "output_type": "execute_result"
    }
   ],
   "source": [
    "pd.DataFrame(tfidf_sparse_matrix.todense(), columns=tfidf.get_feature_names())"
   ]
  },
  {
   "cell_type": "code",
   "execution_count": 18,
   "metadata": {},
   "outputs": [
    {
     "data": {
      "text/plain": [
       "{'environmental': 1, 'data': 0}"
      ]
     },
     "execution_count": 18,
     "metadata": {},
     "output_type": "execute_result"
    }
   ],
   "source": [
    "# Get vocabularies.\n",
    "tfidf.vocabulary_"
   ]
  },
  {
   "cell_type": "code",
   "execution_count": 19,
   "metadata": {},
   "outputs": [
    {
     "data": {
      "text/plain": [
       "array([[0.        , 0.        ],\n",
       "       [0.        , 0.        ],\n",
       "       [0.74350931, 0.66872558],\n",
       "       [0.        , 0.        ],\n",
       "       [0.        , 1.        ],\n",
       "       [1.        , 0.        ],\n",
       "       [0.        , 1.        ],\n",
       "       [0.74350931, 0.66872558],\n",
       "       [0.        , 0.        ],\n",
       "       [0.        , 0.        ],\n",
       "       [0.        , 0.        ],\n",
       "       [0.74350931, 0.66872558],\n",
       "       [0.        , 0.        ],\n",
       "       [0.        , 1.        ],\n",
       "       [0.        , 0.        ],\n",
       "       [0.        , 0.        ],\n",
       "       [0.        , 0.        ],\n",
       "       [0.        , 0.        ],\n",
       "       [0.        , 0.        ],\n",
       "       [0.        , 0.        ],\n",
       "       [0.        , 0.        ],\n",
       "       [0.        , 0.        ],\n",
       "       [0.        , 1.        ],\n",
       "       [0.74350931, 0.66872558],\n",
       "       [0.74350931, 0.66872558],\n",
       "       [0.        , 1.        ],\n",
       "       [1.        , 0.        ],\n",
       "       [1.        , 0.        ],\n",
       "       [0.        , 0.        ],\n",
       "       [1.        , 0.        ],\n",
       "       [0.        , 1.        ],\n",
       "       [0.        , 0.        ],\n",
       "       [0.        , 0.        ],\n",
       "       [0.        , 0.        ],\n",
       "       [0.        , 0.        ],\n",
       "       [0.        , 0.        ],\n",
       "       [0.        , 0.        ],\n",
       "       [0.        , 1.        ],\n",
       "       [0.74350931, 0.66872558],\n",
       "       [0.        , 1.        ],\n",
       "       [0.74350931, 0.66872558],\n",
       "       [0.74350931, 0.66872558],\n",
       "       [1.        , 0.        ],\n",
       "       [0.74350931, 0.66872558],\n",
       "       [0.74350931, 0.66872558],\n",
       "       [0.        , 1.        ],\n",
       "       [0.        , 1.        ],\n",
       "       [0.        , 1.        ],\n",
       "       [0.        , 1.        ],\n",
       "       [0.        , 0.        ],\n",
       "       [1.        , 0.        ],\n",
       "       [0.        , 0.        ],\n",
       "       [0.74350931, 0.66872558],\n",
       "       [1.        , 0.        ],\n",
       "       [0.74350931, 0.66872558],\n",
       "       [1.        , 0.        ],\n",
       "       [0.74350931, 0.66872558],\n",
       "       [0.        , 1.        ],\n",
       "       [0.        , 0.        ],\n",
       "       [0.        , 0.        ],\n",
       "       [0.        , 0.        ]])"
      ]
     },
     "execution_count": 19,
     "metadata": {},
     "output_type": "execute_result"
    }
   ],
   "source": [
    "# Transform to document-term matrix\n",
    "vector_spaces = tfidf.transform(X_train.clean)\n",
    "vector_spaces.toarray()"
   ]
  },
  {
   "cell_type": "code",
   "execution_count": 20,
   "metadata": {},
   "outputs": [
    {
     "name": "stdout",
     "output_type": "stream",
     "text": [
      "environmentalapp\n",
      "\n",
      "environmentalmonitoring arduino code\n",
      "\n",
      "environmental monitor data captured data published serial bus per second comma delimited string example 267035736101359126421 temperature celsius humidity percent light analog value 0 1023 pressure pa altitude accurate crc16 checksum data fields sensors dht11 temperature humidity bmp085 temperature pressure ldr light dependencies pip3 install pahomqtt pyserial crcmod config serial 9600 ldr a0 dht11 4 bmp085 0x77 publishing mqtt sertomqttpy takes data published arduino forwards mqtt broker takes name serial port name room parameters python3 sertomqttpy 1921681111 devttyacm0 livingroom alternative python q versionsertomqttq q sertomqttq q 1921681111 devttyacm0 livingroom subscribe command line confirm data publishing broker mosquittosub h 1921681111 hassio add sensors home assistant add configurationyaml sensor platform mqtt name living room temperature statetopic hassiolivingroomtemperature qos 0 unitofmeasurement oc sensor 2 platform mqtt name living room humidity statetopic hassiolivingroomhumidity qos 0 unitofmeasurement sensor 3 platform mqtt name living room pressure statetopic hassiolivingroompressure qos 0 unitofmeasurement hpa sensor 4 platform mqtt name living room light statetopic hassiolivingroomlight qos 0 unitofmeasurement 1024 adding sensors lovelace dashboard add lovelace dashboard entities entity sensorlivingroomtemperature entity sensorlivingroomhumidity entity sensorlivingroompressure entity sensorlivingroomlight showicon true showname false showstate true title living room type glance\n",
      "  (0, 1)\t0.6687255806780652\n",
      "  (0, 0)\t0.7435093124815483\n",
      "indopacificcorals analysis indopacific coral life histories socioenvironmental drivers strategic management\n",
      "\n",
      "greening postindustrial city applying keyword extractor methods monitor fastchanging environmental narrative worcester massachusetts population 200000 second largest city boston massachusetts usa important american industrial revolution factories dominated landscape mid20th century city slid physically mentally postindustrial decline first glance worcester might present alltoofamiliar global story gentrification loss city identity community even small survey historic record local public discourse confirm view complicated local story surface answer questions literary geographer sarah luria teams computer scientist ricardo campos developer keyword extractor yake discover create helpful survey image stories told neighborhood time believe interdisciplinary work play crucial role showing artificial intelligence ai track fastdeveloping story urban revitalization environmental cleanup survey curated small corpus 26 englishlanguage texts described canal districtgreen island time majority texts 20182019 examples 1862 1917 1980s 1990s provide historic range corpus includes descriptions canal district industrial revolution altered dramatically building canal railroad peak industrialization identity irish working class neighborhood postindustrial decline stages revitalization majority texts come local major newspaper worcester telegram gazette corpus includes articles new york times boston globe national public radio also included worcesterborn poet mary fells 1984 poem prophecy historian roy rosenzweigs acclaimed history worcesters working class eight hours 1985 description one given dataset details give details text sorted date filename 1 1862lincoln history worcester archiveorg landscape description source william lincoln history worcester lincoln william history worcester massachusetts earliest settlement september 1836 various notices relating history worcester county worcester md phillips co 1862 url httpsarchiveorgdetailshistoryofworcest1836lincpagen6 publication date 1862 description worcesters landscape industrial revolution tokens 256 filename 2 1879abijah perkins marvin history worcester archiveorg railroad descriptionn source abijah perikins marvin history worcester county massachusetts embracing comprehensive history country first settlement present time boston jewett co 1879 pp 8283 url httpsarchiveorgdetailshistoryofworcest03marvpage82 publication date 1879 description description beginning blackstone canal worcester railroad tokens 638 filename 3 1917washburn industrial history worcester archiveorg canal source charles g washburn industrial worcester worcester davis press 1917 p 23 url httpsarchiveorgdetailsindustrialworces00washpagen6 publication date 1917 description description creation blackstone canal importance tokens 199 filename 4 1917washburn industrial history worcester archiveorg entrepreneurial spirit city source charles g washburn industrial worcester worcester davis press 1917 p 31 url httpsarchiveorgdetailsindustrialworces00washpage60 publication date 1917 description introduction steampower worcester industries tokens 72 filename 5 1917washburn industrial history importance steam power source charles g washburn industrial worcester worcester davis press 1917 p 300 url httpsarchiveorgdetailsindustrialworces00washpage60 publication date 1917 description entrepreneurial spirit city tokens 150 filename 6 1983259worcester shedding smokestack image new york times source worcester shedding smokestack image new york times sept 25 1983 publication date 1983259 description tokens 911 filename 7 1984mary fell prophecy poem source mary fell prophecy persistence memory 1984 url httpcapaconncolledufellpersistencehtml publication date 1984 description poem collection worcester tokens 328 filename 8 1985roy rosenzweig eight hours history recreation industrial labor source roy rosenzweig eight hours cambridge uk cambridge 1985 publication date 1985 description history recreation worcesters industrial labor force tokens 287 filename 9 19891012a new look old area new york times lafayette placegreen island source worcester mass new focus old area new york times publication date 19891012 description building new senior affordable housing green island tokens 450 filename 10 19971118bureau urges liability relief brownfields wtg source bronislaus b kush bureau urges liability relief brownfields worcester telegram gazette publication date 19971118 description tokens 585 filename 11 1998167green island businesses say city help killing wtg source bronislaus b kush green island businesses say city help killing worcester telegram gazette publication date 1998167 description tokens 597 filename 12 1999121vacant industrial sites use neighborhood wtg source winston w wiley vacant industrial sites use neighborhood worcester telegram gazette publication date 19991201 description tokens 436 filename 13 2000296green island revitalization plan dropped wtg source lisa eckelbecker green island revitalization plan dropped worcester telegram gazette publication date 2000296 description tokens 446 filename 14 2007259canal district shapes old buildings new life green street wtg source shaun sutner canal district shapes old buildings new life green street worcester telegram gazette publication date 20072509 description tokens 645 filename 15 2011238life green island hope city times local alternative newspaper source maureen schwab life green island hope city times local alternative newspaper publication date 20112308 description tokens 1149 filename 16 2018817woosox ball park long history boston globe source tim logan new home woosox long history boston globe publication date 2018817 description tokens 632 filename 17 20181011time talk gentrification worcester worcester mag source bill shaner time talk gentrification worcester worcester magazine publication date 20181011 description tokens 4165 filename 18 20181023worcester new town national public radio source aaron schachter worcester newit town national public radio wgbh publication date 20181023 description tokens 1184 filename 19 2018worcester city reclaimed vitality magazine source bernard whitmore mayor manager city reclaimed vitality magazine publication date 201811 description tokens 2077 filename 20 2019227worcester organizers hear nashville buffalo tips woosox cba push worcester mag source bill shaner worcester organizers hear nashville buffalo tips woosox cba push worcester magazine publication date 20190227 description tokens 540 filename 212019410a totally cool place live masslive source aviva luttrell totally cool place live masslivecom publication date 20190410 description tokens 497 filename 22 201961new shine old building former walker shoe factory converted studios wtg source scott oconnell new shine old building former walker shoe factory converted studios worcester telegram gazette publication date 20190601 description tokens 468 filename 23 2019620construction woosox regulation killing canal district dreams worcester business journal source renee diaz construction woosox regulation killing canal district dreams worcester business journal publication date 20190620 description tokens 739 filename 24 2019624worcester gets brownfield funds wtg source worcester gets brownfield funds worcester telegram gazette publication date 20190624 description tokens 517 filename 25 2019624worcester pledges 3m green island wtg source kim ring worcester pledges 3m green island worcester telegram gazette publication date 20190624 description tokens 490 filename 26 201976an away game businesses property owners near ballpark site make way development wtg source away game businesses property owners near ballpark site make way development worcester telegram gazette publication date 20190706 description tokens 1322\n",
      "  (0, 1)\t1.0\n",
      "environmentalchambercode walker wind ' code humidity sensors flask website setup html templates 61319 chris ethan ' lab files repository humidsensorspy run program records humidity temperature sensor data using adafruit dht library outputs two text files jpg file two text files titled humiddataa humiddatab text chart displays exact numbers data point jpg file chart four subplots displaying data using python library matplotlib run use command line input python humidsensorspy humidwebsitepy code used set flask web server using flask library implements several pages connected local webserver raspberry pi puts network connected website couple different pages sudo flaskapphumidwebsitepy flask host0000 port80 indexpagehtml html code used design template index page chartdatahtml html code used display image textcharthtml html code used display text file\n",
      "  (0, 0)\t1.0\n",
      "environmentalcs program created feb202020 6 months work completed jun222020 program comparison algorithm people working towards environmental benefits monitoring plant life growth certain area upload save images landscapes directory compare overtime new images area provide thorough analysis much plant life change location interest\n",
      "  (0, 1)\t1.0\n",
      "environmental flows project university california davis repository metarepository keeping track various repositories used environmental flows project uc davis water management lab project website functional flows calculator terrain analysis geomorphic classification resources functional flows calculator contributors belize lane noelle patterson leo qiu repositories dimensionless reference hydrograph drh functional flow calculator terrain analysis contributors herve guillon repositories modified version r rasterterrain function cart ward related scripts slurmrelated scripts geomorphic classification contributors colin byrne repositories project website contributors leo qiu repositories uc davis water management lab eflow api uc davis water management lab eflow client resources ucd eflow google drive internal ucd eflow google drive external ucd eflow box drive big data files ucd water management lab metarepository\n",
      "  (0, 1)\t0.6687255806780652\n",
      "  (0, 0)\t0.7435093124815483\n",
      "umi project getting started install dependencies yarn start dev server yarn start\n",
      "\n",
      "environmentaldegradation\n",
      "\n",
      "hamlet\n",
      "\n",
      "amritsartoday real time environmental data amritsar city backend frontend\n",
      "  (0, 1)\t0.6687255806780652\n",
      "  (0, 0)\t0.7435093124815483\n",
      "environmentalpioneer ui marsblue elisao web ps githubgithub1559830979qqcom\n",
      "\n",
      "environmental science associates jekyll theme based freelancer bootstrap theme\n",
      "  (0, 1)\t1.0\n",
      "foodprintcalculator setup npm install npm run dev deploy push master\n",
      "\n",
      "svelte svelte new way build web applications ' compiler takes declarative components converts efficient javascript surgically updates dom learn svelte website stop discord chatroom development pull requests encouraged always welcome pick issue help us install work svelte locally git clone httpsgithubcomsveltejssveltegit cd svelte npm install use yarn install dependencies specific package versions packagelockjson used build test svelte build compiler modules included package npm run build watch changes continually rebuild package useful ' using npm link test changes project locally npm run dev compiler written typescript ' let put ' basically javascript type annotations ' pick time ' using editor visual studio code may need install plugin order get syntax highlighting code hints etc running tests npm run test filter tests use g aka grep example run tests involving transitions npm run test g transition sveltedev source code httpssveltedev including documentation lives site directory site built sapper sveltedev probably ' possible ' seem access dev sites check superuser question answer license mit\n",
      "\n",
      "welcome github pages use editor github maintain preview content website markdown files whenever commit repository github pages run jekyll rebuild pages site content markdown files markdown markdown lightweight easytouse syntax styling writing includes conventions syntax highlighted code block header 1 header 2 header 3 bulleted list 1 numbered 2 list bold italic code text linkurl imagesrc details see github flavored markdown jekyll themes pages site use layout styles jekyll theme selected repository settings name theme saved jekyll configyml configuration file support contact trouble pages check documentation contact support well help sort\n",
      "\n",
      "environmentalorganisation\n",
      "\n",
      "environmentalsensors code adafruit maxbotix sensors track vernal window\n",
      "\n",
      "environmentalmodeling\n",
      "\n",
      "environmentalsensors httpsuserimagesgithubusercontentcom122488152977143353faa10c8c1111e782ce36de73631b2dpng\n",
      "\n",
      "etdenvironmentalsensor project python consisting smaller apps talking microservices enables reading measurements humtemp sensor displaying webpage steps creating project download repo git clone adresurl create venv install required packages python3 venv venv source venvbinactivate pip install upgrade pip pip3 install r requirementstxt permanent alias nano bashrc alias venvsource environmentalsensorsvenvbinactivate reboot type source bashrc config temphum sensor add uncomment dtparamspion dtoverlaymcp2515can0oscillator8000000interrupt25spimaxfrequency1000000 sudo apt update sudo modprobe mcp251x sudo apt install canutils worth rebooting sudo ip link set can0 type bitrate 460800 candump can0 bug fix sudo aptget install libatlasbasedev running app startsh sigoihy\n",
      "\n",
      "environmentalsamplelogger application helps environmental consultants visualize distribution subsurface soil drilling boreholes user create new borehole location add samples specify parameters colour stratigraphy whether sample odourous save progress come back later\n",
      "  (0, 1)\t1.0\n",
      "environmental monitor data captured data published serial bus per second comma delimited string example 267035736101359126421 temperature celsius humidity percent light analog value 0 1023 pressure pa altitude accurate crc16 checksum data fields sensors dht11 temperature humidity bmp085 temperature pressure ldr light dependencies pip3 install pahomqtt pyserial crcmod config serial 9600 ldr a0 dht11 4 bmp085 0x77 publishing mqtt sertomqttpy takes data published arduino forwards mqtt broker takes name serial port name room parameters python3 sertomqttpy 1921681111 devttyacm0 livingroom alternative python q versionsertomqttq q sertomqttq q 1921681111 devttyacm0 livingroom subscribe command line confirm data publishing broker mosquittosub h 1921681111 hassio add sensors home assistant add configurationyaml sensor platform mqtt name living room temperature statetopic hassiolivingroomtemperature qos 0 unitofmeasurement oc sensor 2 platform mqtt name living room humidity statetopic hassiolivingroomhumidity qos 0 unitofmeasurement sensor 3 platform mqtt name living room pressure statetopic hassiolivingroompressure qos 0 unitofmeasurement hpa sensor 4 platform mqtt name living room light statetopic hassiolivingroomlight qos 0 unitofmeasurement 1024 adding sensors lovelace dashboard add lovelace dashboard entities entity sensorlivingroomtemperature entity sensorlivingroomhumidity entity sensorlivingroompressure entity sensorlivingroomlight showicon true showname false showstate true title living room type glance\n",
      "  (0, 1)\t0.6687255806780652\n",
      "  (0, 0)\t0.7435093124815483\n",
      "environmentaldatapredict environmental data predict\n",
      "  (0, 1)\t0.6687255806780652\n",
      "  (0, 0)\t0.7435093124815483\n",
      "environmental consulting web site project attempt recreate web site environmental consulting firm using bootstrap think ' big improvement\n",
      "  (0, 1)\t1.0\n",
      "app deployed get data tempreture using nodemcu send server drow graphs show owner client\n",
      "  (0, 0)\t1.0\n",
      "streaming data esp8266 using micropython mqtt resources micropython micropython online simulator micropython libraries micropython pip package index esp8266 documentation esp8266 firmware esp8266 firmware tutorial adafruit micropython resources micropython bme280 sensor driver micropython sht30 sensor driver espressif esptool mosquitto broker putty serial support windows subsystem linux overview esp8266 flashing process install esptool erase flash deploy micropython firmware see flashing micropython flasing howto tutorial micropython publish mqtt deploy solution esp8266 micropython flash follows see adafruit micropython tool ampy information copying files esp32 pip install adafruitampy ampy port devttyusb0 put bootpy ampy port devttyusb0 put mainpy ampy port devttyusb0 put configpy ampy port devttyusb0 put bme280py ampy port devttyusb0 put sht30py ampy port devttyusb0 put configdefaultjson ampy port devttyusb0 put sensorbme280py ampy port devttyusb0 put sensorsht30py ampy port devttyusb0 put sensorfakepy bootpy import network staif networkwlannetworkstaif staifactivetrue staifconnectwifi ssid wifi password mainpy httpdocsmicropythonorgenlatestesp8266indexhtml httpgarybakecomwemosoledshieldhtml httpdocsmicropythonorgenlatestesp8266esp8266quickrefhtmladcanalogtodigitalconversion umqttrobust import mqttclient machine import i2c pin import utime time import gc import ssd1306 oled machine import adc import esp import config wifi connect established bootpy file uncomment needed import network staif networkwlannetworkstaif staifactivetrue upip packages see readmemd upipinstall ' micropythonumqttsimple ' upipinstall ' micropythonumqttrobust ' builtinledpin 2 cfg configconfig ' configdefaultjson ' staifconnectcfgwifissid cfgwifipwd client mqttclientstrespflashid cfgmqttbroker mysensor cfgsensorsensor builtinled pinbuiltinledpin pinout adc adc0 create adc object adc pin i2c i2csclpin5 sdapin4 espsleeptypeespsleeplight def initdisplayi2c i2cdevices i2cscani2c 0x3c i2cdevices display oledssd1306i2c64 48 i2c return true else print ' oled display found ' return false def initialise blinkcnt 0 checkwifi blinkcnt 50 builtinledvalueblinkcnt 2 blinkcnt blinkcnt 1 timesleepms100 def checkwifi blinkcnt 0 staifisconnected timesleepms500 builtinledvalueblinkcnt 2 blinkcnt blinkcnt 1 def setcontrast lightlevel adcread lightlevel 200 return 0 lightlevel 600 return 100 return 255 def publish count 1 true builtinledvalue0 checkwifi temperature pressure humidity mysensormeasure freememory gcmemfree oleddisplay displayfill0 displaycontrastsetcontrast displaytextv0 0 0 displaytextv1 0 10 displaytextv2 0 20 displaytextstrfreememory 0 30 displaytextstrcount 0 40 displayshow msg b ' deviceidsmsgidumemucelsiusspressureshumiditys ' cfgdeviceid count freememory temperature pressure humidity clientpublishbhomeweathers cfgdeviceid msg builtinledvalue1 count count 1 timesleepcfgsamplerate oleddisplay initdisplayi2c initialise clientreconnect publish connecting esp32 putty install putty platform connect 115200 baud rate see adafruit serial repl tutorial\n",
      "  (0, 0)\t1.0\n",
      "trafficsignrecognize nhan dien bien bao cam trong anh moi truong co su dung deep learning yeu cau python python 369 packages khuyen khich su dung anaconda 3 tao mot environment moi ten opencv e cai tat ca packages nhu hinh numpy 1172 matplotlib 311 opencv 342 django 225 scikitimage 0150 tensorflow 200 tensorflowmkl 1150 keras 224 pillow 621 run project activate bien moi truong anaconda 3 source ospathanaconda3anaconda3binactivate activate moi truong chua cac packages thiet conda activate opencv di chuyen en thu muc chua project cd parentprojectpathtrafficsignrecognizemaster chay server python managepy runserver sau khi chay server thanh cong truy cap ia chi localhost8000 e thao tac ho tro cac bien bao theo bo bien bao chuan viet nam 101 uong cam 102 cam nguoc chieu 122 dung lai 127 toc toi cho phep tham khao source code train file modelh5 tai githubcomquangkhoiuit98trainmodeltrafficsignrecognize chuc nang chinh trang chu nhan dien bien bao tu anh moi truong trang tra cuu bien bao tra cuu bien bao tu du lieu cua ung dung\n",
      "\n",
      "environmentalchambercode walker wind ' code humidity sensors flask website setup html templates 61319 chris ethan ' lab files repository humidsensorspy run program records humidity temperature sensor data using adafruit dht library outputs two text files jpg file two text files titled humiddataa humiddatab text chart displays exact numbers data point jpg file chart four subplots displaying data using python library matplotlib run use command line input python humidsensorspy humidwebsitepy code used set flask web server using flask library implements several pages connected local webserver raspberry pi puts network connected website couple different pages sudo flaskapphumidwebsitepy flask host0000 port80 indexpagehtml html code used design template index page chartdatahtml html code used display image textcharthtml html code used display text file\n",
      "  (0, 0)\t1.0\n",
      "esresnet environmental sound classification based visual domain models repository contains implementation models described paper arxiv200407301 submitted icpr 2020 abstract environmental sound classification esc active research area audio domain seen lot progress past years however many existing approaches achieve high accuracy relying domainspecific features architectures making harder benefit advances fields eg image domain additionally past successes attributed discrepancy results evaluated ie unofficial splits urbansound8k us8k dataset distorting overall progression field contribution paper twofold first present model inherently compatible mono stereo sound inputs model based simple logpower shorttime fourier transform stft spectrograms combines several wellknown approaches image domain ie resnet siameselike networks attention investigate influence crossdomain pretraining architectural changes evaluate model standard datasets find model outperforms previously known approaches fair comparison achieving accuracies 970 esc10 915 esc50 842 854 us8k mono stereo second provide comprehensive overview actual state field differentiating several previously reported results us8k dataset official unofficial splits better reproducibility code including reimplementations made available run model required python version 37 esresnet esc10 dataset python mainpy config protocolsesc10esresnetesc10cv1json datasetargsroot pathtoesc10 esc50 dataset python mainpy config protocolsesc50esresnetesc50cv1json datasetargsroot pathtoesc50 urbansound8k dataset stereo python mainpy config protocolsus8kesresnetus8kstereocv1json datasetargsroot pathtourbansound8k reproduced results lmcnet urbansound8k dataset python mainpy config protocolsus8klmcnetus8kcv1json datasetargsroot pathtourbansound8k\n",
      "  (0, 1)\t1.0\n",
      "environmentallaw\n",
      "\n",
      "mhav env check jenkins\n",
      "\n",
      "environmentalmodeling\n",
      "\n",
      "foodprintcalculator setup npm install npm run dev deploy push master\n",
      "\n",
      "environmentalnewsap\n",
      "\n",
      "environmentalforecasting\n",
      "\n",
      "environmental consulting web site project attempt recreate web site environmental consulting firm using bootstrap think ' big improvement\n",
      "  (0, 1)\t1.0\n",
      "electricimpenvironmentals demo project collect store chart environmental data electric imp device using nodejs angular mongodb requirements electric imp dev kit environmental tail nodejs environment mongodb database knowledge javascriptnodejs environments server setup server must publicly accessible npm update bower update node serverjs device setup login httpsideelectricimpcom register electric imp device install agentnut devicenut update agentnut environment begin settings const serverurl httpyourhostcom const wundergroundapikey xxxxxxxxxx const wundergroundlocation nyalbany end settings\n",
      "  (0, 1)\t0.6687255806780652\n",
      "  (0, 0)\t0.7435093124815483\n",
      "yapec yet another parser environmental configuration ' enough npm modules getting config values enviroment already travis status installation sane use npm npm install yapec otherwise clone repo via git git clone httpsgithubcomsandfoxnodeyapecgit usage var yapec require ' yapec ' var config yapec ' prefix ' configspec processenv opts yapec takes spec form object nested heart ' content leaf every path must string dictates parse corresponding envvar string path converted uppercase dot seperators exchanged underscores optional prefix may supplied first arg act mask searching env object optional options object may supplied far option ' ignoremissing ' accepts bool false default true rather throwing exception env var missing instead returns null value yes realise probably clearest way describe brain failing point time examples examples also found examples folder inside project var yapec require ' yapec ' represents something could expect processenv return var env apppath ' optappy ' appname ' super server ' appserverenabled ' true ' appserverprocs ' 8 ' appservermagic ' 2e2 ' var configspec app path ' string ' name ' string ' server enabled ' bool ' procs ' int ' magic ' float ' var config yapecconfigspec env consolelogconfig outputs following app path ' optappy ' name ' super server ' server enabled true procs 8 magic 200 optionally prefix supplied first arguement acts mask looking enviroment variables example var yapec require ' yapec ' var env fallover ' true ' myappfallover ' false ' var spec fallover ' bool ' var config yapec ' myapp ' spec env consolelogconfig falloverfalse caveats due way modules works certain combinations env var strings forbidden example following would fail could resolved object sane way app could string object time appsuper app appdbnamemegadb appdbport8000 helpers yapec also comes helpers creating configs processenv style objects creating env var strings config object checkout examples folder pretty self explanatory todo document better yapecgetspecprefix processenv yapecgetenvstringsprefix config stability index based nodejs stability index stability 2 unstable testing code tested mocha run npm test usual tests ' bad could complete travis tests upgrades fixes ideas ideas bug fixes suggestions etc gladly excepted feel free raise pull requests issues license mit license copyright c 2013 james edward butler aka sandfox permission hereby granted free charge person obtaining copy software associated documentation files ' software ' deal software without restriction including without limitation rights use copy modify merge publish distribute sublicense andor sell copies software permit persons software furnished subject following conditions copyright notice permission notice shall included copies substantial portions software software provided ' ' without warranty kind express implied including limited warranties merchantability fitness particular purpose noninfringement event shall authors copyright holders liable claim damages liability whether action contract tort otherwise arising connection software use dealings software\n",
      "  (0, 1)\t1.0\n",
      "crues cooperative robotics using environmental sensors directory structure docs documentation including pdf final report docsinterim interim report latex root docsfinal final report latex root docsimg image root reports wiring wiring diagrams pcb files rviz rviz configuration files visualising odemetry mapping data cruespi ros nodes python code cruespirospkgs ros packages added catkin workspace cruespicrues scripts used testing debugging cruespiconfig configuration files individual robots deploy script copies correct file rpi cruespicruesdeploy script deploying code rpis cruespicruesrun script running roomba code rpis deploying running code turn robots connect cruesnet adhoc wifi network add cruespicruesdeploy cruespicruesrun path run cruesdeploy robots deploy code robots replaced combination blinky inky clyde run cruesrun robots run roombalaunch ros launch file details found project wiki\n",
      "  (0, 1)\t0.6687255806780652\n",
      "  (0, 0)\t0.7435093124815483\n",
      "environmental sensing aws iot project environmental sensing ph various gases particulate matter sound capturing images multipart project demonstrate environmental monitoring using several types sensors aws services first part focuses building hardware monitoring environmental parameters co2 particulate matter sound capturing images project used environmental monitoring several use cases industrial manufacturing distribution warehouses etc first version environmental sensor box software along capable following features sense temperature humidity pressure co2 tvoc proximity range publish aws iot core capture upload images amazon s3 bucket project also uses aws systems manager enable remote access raspberry pi use aws iot rules log data amazon elasticsearch service second version project retains temperature humidity pressure co2 tvoc proximity replaces camera range sensor ph sensor atlas scientific smaller enclosure source code remains applications ph ph sensor used monitor several industrial agricultural parameters dough fermentation soil ph different crops plants need specific levels ph soil hardware mechanical list shelf hardware used build environmental sensing unit raspberry pi zero w sparkfun qwiic kit raspberry pi ultrasonic range finder hrxlmaxsonarvr unit supports camera raspberry pi capture images load aws s3 camera used arducam lens board sku b0031 could use compatible camera well information ph sensor ph reading circuit smaller enclosure atlas scientific spear tip ph probe ezo ph circuit ezo carrier board smaller enclosure please note code tested earlier version spear tip probe ezo circuits however new probe circuit work fine also important note default carrier board uart mode reprogrammed support i2c mode used project carrier board interfaces qwiic cable qwiic hat baseplate designed 3d printed house components following case bought amazoncom universal project enclosure image assembled unit first iteration support pm25 particulate matter 25 sensing see sensor pms7003 camera image image version ph support architecture high level architecture first iterationpart project configure setup aws iot read setting aws iot create thing created thing raspberry pi make sure keys present ' keys ' subfolder also copy sampleenv file env provide specifics need logging data aws iot core prior logging data take sampleenv file copy env make sure al parameters set correctly run script rpiqwiicawsiotpy read sensor data log aws iot core script calls two helper modules imagecapturepy capture image using hte picamera package upload s3 note s3 bucket name specified env file ultrasonicpy script reads value range finder sensor connected two flags used control import execution modules s3enable ultraenable env file want exclude one set flag emptry string module included set ' true ' see example s3enable ' true ' ultraenable ' ' env file configured correctly start tbe execution follows python3 rpiqwiicawsiotpy want run program background ensure keeps running disconnect remote session raspberry pi execute following nohup python3 u rpiqwiicawsiotpy outputlog go test secion aws iot console subscribe topic using topic used testing following telemetrythingname sample output unit timestamp 1583361438 time 03042020 173717 tempc 2763 tempf 81752 humidity 34475 pressure 106863 tvoc 0 co2 400 proximity 2556 ambient 128 image pzb827ebed3f9a1583361438 data using ultrasonic sensor readings data packet also provides image captured filename used store s3 bucket storing data amazon elasticsearch use amazon elasticsearch store transformed data later use visualization setup amazon elasticsearch region used create iot thing elasticsearch setup go aws iot console setup iot rule see image setup specific iot rule used transform incoming packets select topic2 thingname timestamp parsetimeyyyymmdd ' ' hhmmsszz timestamp americanewyork ts tempf tempc humidity pressure co2 ambient tvoc proximity ' telemetry ' rule minor transformation incoming data message output look follows thingname pzb827ebed3f9a timestamp 1583361502 ts 20200304t1738260500 tempf 82058 tempc 2781 humidity 34288 pressure 106548 co2 400 ambient 125 tvoc 0 proximity 2555\n",
      "  (0, 1)\t0.6687255806780652\n",
      "  (0, 0)\t0.7435093124815483\n",
      "environmentalnotices open data application estonian fund nature httpselfondee scrapes official notifications estonian government site parses filters results sends regularily mailing list provides geodata preview implemented nodejs installation npm install create configconfigjson file baseurl sitebaseurl mailfrom mailtosendfrom mailto mailtosendto1 mailtosendto2 mailusername gmailaccounttosentfrom mailpassword gmailaccountpassword running invoke data scraping node scraperjs invoke mailer node mailerjs\n",
      "  (0, 0)\t1.0\n",
      "gdalpointextractionforenvironmentalrasterdata following code pulling pixel data latlong coordinates environmental raster datasets provided usgs 1 annual maximum green vegetation fraction derived ndvi normalized difference vegetation index satellite data 2 land cover type water mixed forest grasslands urban built etc understanding geographic distribution vegetation environmental resources crucial planning sustainable design strategies code pulls data following tif maps 1 km modisbased maximum green vegetation fraction httplandcoverusgsgovgreenvegphp 05 km modisbased global land cover climatology httplandcoverusgsgovglobalclimatologyphp note make sure set gdaldata environment data since installed gdal anacanda executing python file terminal ran export gdaldataaustinarringtonanaconda2sharegdal\n",
      "  (0, 1)\t0.6687255806780652\n",
      "  (0, 0)\t0.7435093124815483\n",
      "requiredenvvarplugin require environmental variable application throw routhlessly zerodependency webpack plugin motivation ever found setting default env vars project make sure app get data developer forgets provide run risk serving hard debugging time contributors even worse ending wrong configuration deployment process accidental values environmental variables app get hard reminder face ' something set usage requirement webpack package installed since ' checking webpack plugin ' probably already register plugin provide required env var names parameters const requiredenvvarplugin require ' requiredenvvarplugin ' moduleexports plugins new requiredenvvarplugin ' apiurl ' ' user ' ' pass ' provide variables list revp ' apiurl ' ' user ' ' pass ' array revp ' apiurl ' ' user ' ' pass ' work hood uses webpack ' defineplugin passes object shape ' processenv ' apiurl xxx user xxx pass xxx xxx respective environmental variables derived processenvxxx ' find one throws faq throw ' warn user ' whole purpose plugin developer ' infere code ' find docs ' deduce application working env var ' set surely ' notice bunch logs spitted onto console startup message clear forgot ' launch license mit httpsopensourceorglicensesmitlicensephp\n",
      "  (0, 1)\t0.6687255806780652\n",
      "  (0, 0)\t0.7435093124815483\n",
      "wifi bluetooth environmental sensors built esp32 dev boards firmwares providing wifi web inteface documented ble api use watchflower use standard libraries easy customize needs projects higrow custom firmware higrow esp32 boards check geiger counter esp32 board cajoe geiger counter module check air quality monitor esp32 board handful sensors air quality monitoring check get involved developers browse code github page submit patches pull requests help would greatly appreciated users help us find report bugs suggest new features help translation documentation visit issues section github page start\n",
      "  (0, 1)\t1.0\n",
      "palladioaddonsenvironmentaldynamics environmental dynamics comprises modeling analysis capabilities enhance pcm probabilistic specifications execution environment\n",
      "  (0, 1)\t1.0\n",
      "environmental studies environmental studies statically generated jekyll hosted college liberal arts temple university links development httpsdevelopclatempleeduenvironmentalstudies production httpswwwclatempleeduenvironmentalstudies content structure directory datafacultyyaml datafile list faculty datanavigationyaml datafile primary navigation links pages page content md html format media images pdfs uploaded static content configyml site configuration options contributing discover typographic errors bugs problems navigating site please consider opening new issue brief summary problem along suggestions improvement welcome pull requests also welcome would like contribute edit page content proseio quick convenient way edit content markdown\n",
      "  (0, 1)\t1.0\n",
      "enviromonitor indooroutdoor environmental monitor project enviro environmental monitoring board uses openweather api get current weather show display also display turned onoff passing finger near light sensor reduce energy consumption python library steps install found pimoronienviropluspython installing install configure dependencies github git clone httpsgithubcompimoronienviropluspython cd enviropluspython sudo installsh cd note raspbian lite users may first need install git sudo apt install git git clone httpsgithubcomcesnietorenviromonitorgit cd enviromonitor add environment variables make sure valid appid openweather curl httpsapiopenweathermaporgdata25weatherid2172797appiduniqueuuidunitsimperial define city id appid environment variables export openweathermapcityidyourcityid export openweathermapappiduniqueuuid change timezone cityname timezone city python timezone enviromonitorpy running python3 enviromonitorypy want run background process using ssh raspberry pi make sure process reparented init setsid python3 enviromonitorpy devzero errorlog yout want run pi boots refer rclocal\n",
      "  (0, 1)\t1.0\n",
      "environmentaldegradation\n",
      "\n",
      "dat257dit257 agile software project management team phish un sustainability project course agile management goal selected goal 13 climate action team members usernames real name pontare25 darclander adrianhak cladnic munchgar hersiza motivation project created part course dat257dit257 agile software project management taught chalmers university collaboration university gothenburg primary motivateion behind project learn use agile scrum developer framework installation run application recommend using intellij clone repository run application using maven tab scroll javafx use javafxrun option intellij maven tab located top right obs maven project using dependencies javafx large portions program run using regular run button dependencies require maven support use first follow steps installation run application using maven tab application urge either sign register register register entering prompts log either log using credentials entered register section use demo credentials username demo password pass logged greted homescreen information application un goal 13 top find global navigator main sectins home calculator statistics vehicles emissions calculator section able log relevant activity data personal emissions example food personal transport add vehicles activities need registered vehicle add transport activity bottom find results section summarises different emission activities allows filteering categories dates depth knowledge emissions turn global navigator statistics section graphically break exactly activities responsible emissions api reference project developed using java version 1401 issues using older versions issues running recommend using version later set pomxml file iml file maven 400 dateaxis list external dependencies handled maven see pomxml file maven compiler version 380 javafxmavenplugin version 004 javafx use orgopenjfx version 14 sqlite database use version 3323 frameworks used gui javafx openjfx 14 database sqlite sqlite dependency maven managing dependencies maven used credits dateaxis charts christian schudt diego cirujano setting javafx maven bytesmyth easiest javafx setup intellij maven debugger 2020 organising javafx windows software development tutorials gui application development using javafx scene builder un sustainability goal 13 graphics\n",
      "  (0, 0)\t1.0\n",
      "hamlet\n",
      "\n",
      "environment monitoring sensitive healthcare equipment needs suitable operating conditions equipment ' operating environment responsibility customer assist customer maintaining suitable environment install environment monitoring device customer premises monitor data project simulating data monitoring device issuing alerts warnings decomposition top level program runs two processes sender receiver sender responsible simulating monitoring device receiver analyzes data sender sends data receiver using console redirection run command line follows senderexecutable receiverexecutable would make consolewrites sender become consolereads receiver decomposition responsibility within sender receiver naming source files within sender within receiver give internal decomposition code project follows practices tools listed interface document interface sender receiver test cases sender receiver testable sender testable without receiver develop another datasource test confident integration receiver testable without sender enhance without retesting receivers minimum functionality simulating different sequences data monitor sender takes csv file input file contains temperature humidity data sender sends periodically receiver outputs warnings alerts console environmental conditions breach limits temperature warning levels high 37 c low 4 c temperature error levels high 40c low 0 c humidity warning level high 70 humidity error level high 90 extended functionality sender needs send data every 5 minutes receiver ' receive data half hour receiver outputs alert evaluation criteria see evaluation criteria exercise\n",
      "  (0, 1)\t0.6687255806780652\n",
      "  (0, 0)\t0.7435093124815483\n",
      "python audio feature extraction repository holds library implementations separate utilities used extraction processing features audio files underlying extraction library librosa offers ability extract variety spectral features well miscellaneous features project goals learn feature extraction audio files standardize parameters use extraction large amounts audio samples allow relatively easy interface select extract subsets parameters subsets samples provide pandas wrappings extraction results hold important metadata information extraction process current implementations audiofeatureextractor class defines object used standardize set parameters used feature extraction provides wrapper methods librosa functions handle preprocessing steps preemphasis filtering hard low high cutoffs facilitate data cleaning batchextractor class defines object holds information batch audio samples feature extraction performed implements methods handle batch extraction using set standardized settings easy selection desired features featurevisualizer class defines object handle visualization features matplotlib usage documentation audiofeatureextractor class imported afe module words import audiofeatureextractor object simply put afe import audiofeatureextractor along rest needed imports instantiate audiofeatureextractor object put work object takes parameters instantiation desired sample rate hz use loading analysis audio default 22050 desired number samples use window length framed computations feature extractions number set integer power 2 optimize fourier engine default 1024 desired ratio window length hop framed computations ie overlapping factor setting 4 implies frame jumps 14 window length framed computations default 4 audiofeatureextractor capability retrieving audio string file path instance ' sample rate loading numpy array detect onsets perform preemphasis filtering bandpass filtering noise removal low high regions extract feature using instance ' standardized framing attributes either numpy array audio samples preprocessed stftcqt bandpass noise removal currently following feature extraction methods implemented feature extraction methods begin prefix extract extractstft extracts short time fourier transform extractcqt extracts constantq transform extractchromastft extracts chromagram extractchromacqt extracts chromagram cqt extractchromacens extracts energy normalized variant chromagram extractmelspectrogram extracts melwindowed spectrogram extractmfcc extracts melfrequency cepstral coefficients extractrms extracts framed rootmeansquare extractspectralcentroid extracts spectral centroid extractspectralbandwidth extracts spectral bandwidth extractspectralcontrast extracts spectral contrast extractspectralflatness extracts spectral flatness extractspectralrolloff extracts spectral rolloff extractzerocrossingrate extracts framed zero crossing rate extracttonnetz extracts tonnetz tonal centroid extractpolyfeatures extracts polynomial combinations features given feature matrix audio ultimately would like add functionalities audiofeatureextractor tempo related feature extraction methods feature manipulation tools offered librosa feature inversion tools translate back feature space auditory space hopefully facilitate interesting generative projects later perhaps incorporating utilities could helpful later projects methods feature engineering batchextractor batchextractor somewhat extension audiofeatureextractor handle standardized extraction batch samples order use batchextractor object must import way afe import batchextractor instantiate batchextractor object object accepts instantiation following parameters three parameters accepted instantiation audiofeatureextractor object string path folder containing audio samples either pandas dataframe string path csv file read dataframe metadata information samples specified folder audio details formatting index dataframe discussed indepth number melfrequency cepstral coefficients compute default 12 boolean flag indicating whether preemphasis filtering applied audio computation features default false float 0 1 indicating desired preemphasis filter coefficient option desired appropriately set using boolean flag default 097 boolean flag indicating whether hardbandpass filtering noise higher lower frequencies applied default false hardbandpass noise filtering applied flag appropriately set integer values set upper lower limits noise filtering default none boolean flag indicating whether start audio samples trimmed first computed onset default false batchextractor specified requires index dataframe specified either string pointing csv file passing dataframe particular dataframe needs column named filename indicates audio sample analyzed file path string relative batchextractor ' stored audio folder path columns present index dataframe could depend context project currently batchextractor used perform following tasks methods available set preprocessing options setbpfilter sets bandpass noise filtering flag parameters setpreemphasis sets preemphasis flag parameters settrim sets flag trimming first onset methods extract merge features batch samples stored instance ' index folder audio methods accepts string indicating resultsfolder either save extracted feature matrices csv files look saved extraction results csv files case merging additional options method detailed batchextractfeature accepts string abbreviation single extraction method apply entire batch audio index saves results given resultsfolder batchextractfeatures accepts list string abbreviations extraction methods apply entire batch audio index saves results given resultsfolder mergefeatures accepts list string abbreviations features merge single dataframe words sample audio index feature matrices specified list abbreviations loaded resultsfolder merged saved new dataframe batchextractandmerge performs batch extraction merging features given list string abbreviations audio samples index mergeandflattenfeatures methods nonnull return method loads sample audio index feature matrices given list extraction abbreviations flattens single row creating many many columns concatenates rows appropriately padded dataframe containing feature information samples index would eventually like add following batchextractor implementation featurevisualizer featurevisualizer class defines object could helpful purposes debugging identifying import sonic features general computations stftspectrogram helpful give us good visual description happening audio even though quantities also helpful making specific quantifications purposes analysis featurevisualizer class attempt creating interface visualization features extracted using batchextractor similarly audiofeatureextractor object instantiation object accepts following parameters string path indicating folder containing extracted features following naming convention ' samplenamefeatureabbreviationfeaturescsv ' default figure size use plotting default 18 8 currently class least implementation written currently object capable visualizing simply calling name sample loaded folder extracted features stftspectrograms melwindowed spectrograms chromagrams many feature visualization methods would like implement cqts spectral bandwidth related features tempograms eventually\n",
      "  (0, 0)\t1.0\n",
      "ewatec webbased platform buit top odm observational data model sharing environmental data features setup database install postgresql sudo sh c ' echo deb httpaptpostgresqlorgpubreposapt lsbrelease cspgdg main etcaptsourceslistdpgdglist ' wget q httpswwwpostgresqlorgmediakeysaccc4cf8asc sudo aptkey add sudo aptget update sudo aptget install postgresql postgresqlcontrib install postgis sudo aptaddrepository ppaubuntugisubuntugisunstable sudo aptget update sudo aptget install postgis connect postgresql sudo su postgres psql setup virtual environment virtualenv env install gdal virtualenv gdal library must installed sudo aptget install libgdaldev install python binding gdal export cplusincludepathusrincludegdal export cincludepathusrincludegdal env pip install gdal1112 install ibfreetype6dev libxftdev matplotlib sudo aptget install libfreetype6dev libxftdev install gfortran libblasdev liblapackdev libatlasbasedev scipy numpy sudo aptget install gfortran libblasdev liblapackdev libatlasbasedev install requirements env pip install r requirementstxt setup gunicorn setup nginx\n",
      "  (0, 1)\t0.6687255806780652\n",
      "  (0, 0)\t0.7435093124815483\n",
      "lake levels yahara watershed httpwwwyaharainfo madison wisconsin surrounding dane county saw near record level rainfalls late august widespread flooding caused two hundred million dollars damage associated press months leading flood lakes surrounding madison higher maximum level set wisconsin department natural resources 1979 often true lakes currently maximum level kept high questions hope address environment setup install postgresql make sure environment variable named user username value unix variants likely already exists create new user username permissions create database eg sudo u postgres createuser user recommended set sort virtual environment install requirements pip install r requirementstxt code code madisonlakelevels requires python 36 run tests python pytest run top level project running locally run get env set export flaskappapppy export databaseurlpostgresusermadisonlakes heroku ' env var format createdb madisonlakes u user run app flask run run debug mode ' prod export flaskenvdevelopment flask run deploy webapp deployed heroku found httpwwwyaharainfo herokuformat procfile runtimetxt used control deployment freetier database heroku used persist data cron job runs every 30 minutes updates database job created using heroku scheduler hits simple api route webapp causes update running job every 30 minutes nice side effect preventing website going hibernation mode heroku free tier\n",
      "  (0, 0)\t1.0\n",
      "environmentallogger log environmental data temperature pressure humidity ambient light using tessel 2 data streamed using socketio dygraphs bme280 pins 0 1 photoresistor pin 7 port\n",
      "  (0, 1)\t0.6687255806780652\n",
      "  (0, 0)\t0.7435093124815483\n",
      "corporate environmental performance prediction china empirical study energy service companies authors saina zheng chenhang shuchien hsu joseph sarkis jiehhaur chen code originally used paper corporate environmental performance prediction china empirical study energy service companies contains three fundalmental machine learning regression model random forest svm xgboost code well commented easy used anyone beginner level python programming skills evaluation metrics visualization code also included dependencies python tested 35 scikitlearn xgboost pandas citation find work useful research please consider cite articlezheng2020ceppc titlecorporate environmental performance prediction china empirical study energy service companies authorsaina zheng chenhang shuchien hsu joseph sarkis jiehhaur chen journaljournal cleaner production jclp year2020\n",
      "  (0, 1)\t1.0\n",
      "environmentalscience first website developed using htmlcssjavascript created following mozilla foundation getting started web tutorial\n",
      "\n",
      "sensorpuck repository collateral related silicon labs sensor puck note sensor puck longer actively supported code provided android directory sensor puck android app source code ios directory iphone app source code\n",
      "\n",
      "environmentalinterface underlying middleware servioticy requirements servioticy apikey inside servioticyres directory secretsexample must fulfilled instructions inside deletion requirements order use delete scripts clean service objects additional tools needed curl postgresql client sudo aptget install postgresqlcommon postgresqlclientversion file pgpass root directory following database info content cd echo hostnameportdbnamedbuserdbpassword pgpass preparation phase order create valid servioticy folder several files must created executing firstly models room sensors must created make use generator inside servioticymodels javac modelgeneratorjava java modelgenerator rooms room currently composed 5 sensors xm1000 light power presence air quality additionally actuators also created making use generator inside servioticyactuators javac actuatorgeneratorjava java actuatorgenerator rooms currently room contains computer light hvac actuators order push actuators servioticy store ids database additional scripts created pushactuatorssh script firstly uses createsosh script communicate servioticy obtain ids finally uses script dbpy store ids database usage several options launch interface currently virtual real sensor servers run real sensor server needed firstly required start serial forwarder moment xm1000 motes supported driver specs information refer httpwwwadvanticsyscomshopasxm1000p24html startsfsh serial port used java jar envifacejar comm source port port servers running virtual sensors needed executed follows java sensors port port ids sensors either commands execute sensors sending 2 messages\n",
      "\n"
     ]
    }
   ],
   "source": [
    "# Show sentences and vector space representation.\n",
    "# \n",
    "# (A, B) C\n",
    "# A : Document Index\n",
    "# B : Specific word-vector index\n",
    "# C : TF-IDF score\n",
    "for i, v in zip(X_train.clean, vector_spaces):\n",
    "    print(i)\n",
    "    print(v)"
   ]
  },
  {
   "cell_type": "code",
   "execution_count": 21,
   "metadata": {},
   "outputs": [],
   "source": [
    "X_tfidf = tfidf_sparse_matrix"
   ]
  },
  {
   "cell_type": "code",
   "execution_count": 22,
   "metadata": {},
   "outputs": [
    {
     "data": {
      "text/plain": [
       "<61x2 sparse matrix of type '<class 'numpy.float64'>'\n",
       "\twith 47 stored elements in Compressed Sparse Row format>"
      ]
     },
     "execution_count": 22,
     "metadata": {},
     "output_type": "execute_result"
    }
   ],
   "source": [
    "X_bow\n",
    "X_tfidf"
   ]
  },
  {
   "cell_type": "code",
   "execution_count": 34,
   "metadata": {},
   "outputs": [
    {
     "data": {
      "text/plain": [
       "language  \n",
       "JavaScript    17\n",
       "Python        16\n",
       "Java          15\n",
       "HTML          13\n",
       "dtype: int64"
      ]
     },
     "execution_count": 34,
     "metadata": {},
     "output_type": "execute_result"
    }
   ],
   "source": [
    "y_train.value_counts()"
   ]
  },
  {
   "cell_type": "code",
   "execution_count": 24,
   "metadata": {},
   "outputs": [
    {
     "name": "stderr",
     "output_type": "stream",
     "text": [
      "/usr/local/anaconda3/lib/python3.7/site-packages/sklearn/utils/validation.py:72: DataConversionWarning: A column-vector y was passed when a 1d array was expected. Please change the shape of y to (n_samples, ), for example using ravel().\n",
      "  return f(**kwargs)\n"
     ]
    }
   ],
   "source": [
    "from sklearn.linear_model import LogisticRegression\n",
    "\n",
    "lm = LogisticRegression().fit(X_bow, y_train)\n",
    "\n",
    "X_train['predicted'] = lm.predict(X_bow)\n",
    "# test['predicted'] = lm.predict(X_test)"
   ]
  },
  {
   "cell_type": "code",
   "execution_count": 61,
   "metadata": {},
   "outputs": [
    {
     "ename": "AttributeError",
     "evalue": "'DataFrame' object has no attribute 'b_predictions'",
     "output_type": "error",
     "traceback": [
      "\u001b[0;31m---------------------------------------------------------------------------\u001b[0m",
      "\u001b[0;31mAttributeError\u001b[0m                            Traceback (most recent call last)",
      "\u001b[0;32m<ipython-input-61-644a1540c4c0>\u001b[0m in \u001b[0;36m<module>\u001b[0;34m\u001b[0m\n\u001b[1;32m      1\u001b[0m \u001b[0mbaseline\u001b[0m \u001b[0;34m=\u001b[0m \u001b[0mX_train\u001b[0m\u001b[0;34m.\u001b[0m\u001b[0mcopy\u001b[0m\u001b[0;34m(\u001b[0m\u001b[0;34m)\u001b[0m\u001b[0;34m\u001b[0m\u001b[0;34m\u001b[0m\u001b[0m\n\u001b[0;32m----> 2\u001b[0;31m \u001b[0mbaseline\u001b[0m\u001b[0;34m[\u001b[0m\u001b[0;34m'b_predictions'\u001b[0m\u001b[0;34m]\u001b[0m \u001b[0;34m=\u001b[0m \u001b[0mbaseline\u001b[0m\u001b[0;34m.\u001b[0m\u001b[0mb_predictions\u001b[0m \u001b[0;34m==\u001b[0m \u001b[0;34m'JavaScript'\u001b[0m\u001b[0;34m\u001b[0m\u001b[0;34m\u001b[0m\u001b[0m\n\u001b[0m\u001b[1;32m      3\u001b[0m \u001b[0mbaseline\u001b[0m\u001b[0;34m\u001b[0m\u001b[0;34m\u001b[0m\u001b[0m\n",
      "\u001b[0;32m/usr/local/anaconda3/lib/python3.7/site-packages/pandas/core/generic.py\u001b[0m in \u001b[0;36m__getattr__\u001b[0;34m(self, name)\u001b[0m\n\u001b[1;32m   5137\u001b[0m             \u001b[0;32mif\u001b[0m \u001b[0mself\u001b[0m\u001b[0;34m.\u001b[0m\u001b[0m_info_axis\u001b[0m\u001b[0;34m.\u001b[0m\u001b[0m_can_hold_identifiers_and_holds_name\u001b[0m\u001b[0;34m(\u001b[0m\u001b[0mname\u001b[0m\u001b[0;34m)\u001b[0m\u001b[0;34m:\u001b[0m\u001b[0;34m\u001b[0m\u001b[0;34m\u001b[0m\u001b[0m\n\u001b[1;32m   5138\u001b[0m                 \u001b[0;32mreturn\u001b[0m \u001b[0mself\u001b[0m\u001b[0;34m[\u001b[0m\u001b[0mname\u001b[0m\u001b[0;34m]\u001b[0m\u001b[0;34m\u001b[0m\u001b[0;34m\u001b[0m\u001b[0m\n\u001b[0;32m-> 5139\u001b[0;31m             \u001b[0;32mreturn\u001b[0m \u001b[0mobject\u001b[0m\u001b[0;34m.\u001b[0m\u001b[0m__getattribute__\u001b[0m\u001b[0;34m(\u001b[0m\u001b[0mself\u001b[0m\u001b[0;34m,\u001b[0m \u001b[0mname\u001b[0m\u001b[0;34m)\u001b[0m\u001b[0;34m\u001b[0m\u001b[0;34m\u001b[0m\u001b[0m\n\u001b[0m\u001b[1;32m   5140\u001b[0m \u001b[0;34m\u001b[0m\u001b[0m\n\u001b[1;32m   5141\u001b[0m     \u001b[0;32mdef\u001b[0m \u001b[0m__setattr__\u001b[0m\u001b[0;34m(\u001b[0m\u001b[0mself\u001b[0m\u001b[0;34m,\u001b[0m \u001b[0mname\u001b[0m\u001b[0;34m:\u001b[0m \u001b[0mstr\u001b[0m\u001b[0;34m,\u001b[0m \u001b[0mvalue\u001b[0m\u001b[0;34m)\u001b[0m \u001b[0;34m->\u001b[0m \u001b[0;32mNone\u001b[0m\u001b[0;34m:\u001b[0m\u001b[0;34m\u001b[0m\u001b[0;34m\u001b[0m\u001b[0m\n",
      "\u001b[0;31mAttributeError\u001b[0m: 'DataFrame' object has no attribute 'b_predictions'"
     ]
    }
   ],
   "source": [
    "baseline = X_train.copy()\n",
    "baseline['b_predictions'] = baseline.predicted == 'JavaScript'\n",
    "baseline"
   ]
  },
  {
   "cell_type": "code",
   "execution_count": 26,
   "metadata": {},
   "outputs": [
    {
     "data": {
      "text/plain": [
       "array([[9, 4, 0, 0],\n",
       "       [8, 3, 4, 0],\n",
       "       [6, 2, 9, 0],\n",
       "       [4, 4, 8, 0]])"
      ]
     },
     "execution_count": 26,
     "metadata": {},
     "output_type": "execute_result"
    }
   ],
   "source": [
    "from sklearn.metrics import confusion_matrix, classification_report\n",
    "\n",
    "confusion_matrix(train_exp.language, X_train.predicted)"
   ]
  },
  {
   "cell_type": "code",
   "execution_count": 27,
   "metadata": {
    "scrolled": true
   },
   "outputs": [
    {
     "data": {
      "text/plain": [
       "array([[9, 4, 0, 0],\n",
       "       [8, 3, 4, 0],\n",
       "       [6, 2, 9, 0],\n",
       "       [4, 4, 8, 0]])"
      ]
     },
     "execution_count": 27,
     "metadata": {},
     "output_type": "execute_result"
    }
   ],
   "source": [
    "confusion_matrix(y_train.language, X_train.predicted)"
   ]
  },
  {
   "cell_type": "code",
   "execution_count": 31,
   "metadata": {},
   "outputs": [
    {
     "data": {
      "text/html": [
       "<div>\n",
       "<style scoped>\n",
       "    .dataframe tbody tr th:only-of-type {\n",
       "        vertical-align: middle;\n",
       "    }\n",
       "\n",
       "    .dataframe tbody tr th {\n",
       "        vertical-align: top;\n",
       "    }\n",
       "\n",
       "    .dataframe thead th {\n",
       "        text-align: right;\n",
       "    }\n",
       "</style>\n",
       "<table border=\"1\" class=\"dataframe\">\n",
       "  <thead>\n",
       "    <tr style=\"text-align: right;\">\n",
       "      <th>language</th>\n",
       "      <th>HTML</th>\n",
       "      <th>Java</th>\n",
       "      <th>JavaScript</th>\n",
       "      <th>Python</th>\n",
       "    </tr>\n",
       "    <tr>\n",
       "      <th>predicted</th>\n",
       "      <th></th>\n",
       "      <th></th>\n",
       "      <th></th>\n",
       "      <th></th>\n",
       "    </tr>\n",
       "  </thead>\n",
       "  <tbody>\n",
       "    <tr>\n",
       "      <th>HTML</th>\n",
       "      <td>9</td>\n",
       "      <td>8</td>\n",
       "      <td>6</td>\n",
       "      <td>4</td>\n",
       "    </tr>\n",
       "    <tr>\n",
       "      <th>Java</th>\n",
       "      <td>4</td>\n",
       "      <td>3</td>\n",
       "      <td>2</td>\n",
       "      <td>4</td>\n",
       "    </tr>\n",
       "    <tr>\n",
       "      <th>JavaScript</th>\n",
       "      <td>0</td>\n",
       "      <td>4</td>\n",
       "      <td>9</td>\n",
       "      <td>8</td>\n",
       "    </tr>\n",
       "  </tbody>\n",
       "</table>\n",
       "</div>"
      ],
      "text/plain": [
       "language    HTML  Java  JavaScript  Python\n",
       "predicted                                 \n",
       "HTML           9     8           6       4\n",
       "Java           4     3           2       4\n",
       "JavaScript     0     4           9       8"
      ]
     },
     "execution_count": 31,
     "metadata": {},
     "output_type": "execute_result"
    }
   ],
   "source": [
    "pd.crosstab(X_train.predicted, y_train.language)"
   ]
  },
  {
   "cell_type": "code",
   "execution_count": 32,
   "metadata": {},
   "outputs": [
    {
     "name": "stdout",
     "output_type": "stream",
     "text": [
      "              precision    recall  f1-score   support\n",
      "\n",
      "        HTML       0.33      0.69      0.45        13\n",
      "        Java       0.23      0.20      0.21        15\n",
      "  JavaScript       0.43      0.53      0.47        17\n",
      "      Python       0.00      0.00      0.00        16\n",
      "\n",
      "    accuracy                           0.34        61\n",
      "   macro avg       0.25      0.36      0.28        61\n",
      "weighted avg       0.25      0.34      0.28        61\n",
      "\n"
     ]
    },
    {
     "name": "stderr",
     "output_type": "stream",
     "text": [
      "/usr/local/anaconda3/lib/python3.7/site-packages/sklearn/metrics/_classification.py:1221: UndefinedMetricWarning: Precision and F-score are ill-defined and being set to 0.0 in labels with no predicted samples. Use `zero_division` parameter to control this behavior.\n",
      "  _warn_prf(average, modifier, msg_start, len(result))\n"
     ]
    }
   ],
   "source": [
    "print(classification_report(y_train.language, X_train.predicted))"
   ]
  },
  {
   "cell_type": "code",
   "execution_count": null,
   "metadata": {},
   "outputs": [],
   "source": []
  }
 ],
 "metadata": {
  "kernelspec": {
   "display_name": "Python 3",
   "language": "python",
   "name": "python3"
  },
  "language_info": {
   "codemirror_mode": {
    "name": "ipython",
    "version": 3
   },
   "file_extension": ".py",
   "mimetype": "text/x-python",
   "name": "python",
   "nbconvert_exporter": "python",
   "pygments_lexer": "ipython3",
   "version": "3.7.9"
  }
 },
 "nbformat": 4,
 "nbformat_minor": 4
}
