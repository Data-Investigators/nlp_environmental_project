{
 "cells": [
  {
   "cell_type": "markdown",
   "metadata": {},
   "source": [
    "# NLP Project - Predicting Programming Language"
   ]
  },
  {
   "cell_type": "markdown",
   "metadata": {},
   "source": [
    "*Welcome to the Ryan's Codeup Data Science MVP template! The sections in this notebook are here to help you organize your data science project into a clear workflow. The text in the markdown cells is there to help you understand the goals at each stage. Follow their instructions to move your work along, and then delete the prompts when you're done.*\n",
    "\n",
    "*Finish the mvp workflow and then go back and think critically about what you might of missed. The point isn't to doubt yourself; the purpose here is to check your blind spots and see if you can't find more information or insights that will help you to deliver better results.*\n",
    "\n",
    "*Better yet, and this cannot be stressed enough, don't ask **yourself** these questions, but bring them up in conversation with peers, experts in other fields, or even complete strangers -- anyone with a different point of view is going to be able to help you to see what things you are taking for granted.*"
   ]
  },
  {
   "cell_type": "markdown",
   "metadata": {},
   "source": [
    "## Summary\n",
    "\n",
    "*What are you going to do and how are you going to do it? Write out your thoughts here in a way that you can easily explain your work to members on your team.*\n",
    "\n",
    "*This is your space to put together the elevator pitch for your project, and then follow it up with a plan of attack. It's going to be short, but that doesn't mean you won't need to spend much time putting it together -- this is a process of dropping the bad ideas until you're left with something that you are confident you can work with.*\n",
    "\n",
    "*Don't take shortcuts here; coming up with a useful question and a straightforward work plan is going to make the rest of your project flow much more smoothly from start to finish.*\n",
    "\n",
    "*One final, and very important, point: the main reason for thinking about this stage as how you're going to describe your work to others is that you should be talking about work with others!!! The more you work on your project in isolation, the better your ideas will sound to you -- even the bad ones. Listening to your ideas spoken out loud in your own voice is an excellent sanity check, and feedback from your peers is your most valuable resource.*\n",
    "\n",
    "**You don't have to answer every question, but answer each that you can now and then come back later. Also, if the question doesn't apply, remove it.**"
   ]
  },
  {
   "cell_type": "markdown",
   "metadata": {},
   "source": [
    "### Problem Statement\n",
    "\n",
    "*Think about the problem you are trying to solve as a business case. After you've built your model, who is going to use it and what will they do with it? Who are your customers and stakeholders and what is their need? The need is not the data they are trying to understand -- think of the need as a specific action they would like to take or a question they want to answer.*\n",
    "    \n",
    "    - For this project, you will be scraping data from GitHub repository README files. The goal will be to build a model that can predict what programming language a repository is, given the text of the README file.\n",
    "    \n",
    "*What is your model going to **do** in the real world? If you can answer this, and if you keep that answer in mind as you complete your work, you will have a much clearer view of where to go at each step.*\n",
    "\n",
    "* Who are your customers?\n",
    "    - general audience\n",
    "* What is the problem?\n",
    "    - want to predict program language from words in readme content\n",
    "* What solution do you propose?\n",
    "    - Explore readme content for common words and phrases to identify features \n",
    "    - Model on Bag or Words and TF-IDF \n",
    "* How will you know if your work is good?\n",
    "    - ideally model F1 score and/or precission will be better than baseline\n",
    "\n",
    "*Also, think critacally here. If someone was paying you to do this work, what would they want you to build.*"
   ]
  },
  {
   "cell_type": "markdown",
   "metadata": {},
   "source": [
    "### Work Plan\n",
    "\n",
    "**Assignment**\n",
    "- For this project, you will be scraping data from GitHub repository README files. The goal will be to build a model that can predict what programming language a repository is, given the text of the README file.\n",
    "\n",
    "**Approach**\n",
    "- Using webscraping collect readme text and programming language from a minimum of 100 GitHub repositories\n",
    "- Explore the collected information to determine features for modeling\n",
    "- Verify dataset is not imbalanced, correct with over/under sampling if needed\n",
    "- Create a Baseline Model using most frequent language in dataset as prediction\n",
    "- Use BOW (Bag of Words) and TF-IDF machine learning algorithms to improve prediction accuracy/F1 score/precision/recall\n",
    "- Identify conclusions and next steps\n"
   ]
  },
  {
   "cell_type": "markdown",
   "metadata": {},
   "source": [
    "## Imports\n",
    "\n",
    "*Keep all your imports in one place. This will make it much easier to see everything that you are using*"
   ]
  },
  {
   "cell_type": "code",
   "execution_count": 33,
   "metadata": {},
   "outputs": [],
   "source": [
    "import acquire_ry\n",
    "import ry_prepare\n",
    "import ry_wrangle\n",
    "\n",
    "import pandas as pd\n",
    "import matplotlib.pyplot as plt\n",
    "import numpy as np\n",
    "import seaborn as sns\n",
    "import re\n",
    "import nltk\n",
    "import scipy.stats as stats"
   ]
  },
  {
   "cell_type": "markdown",
   "metadata": {},
   "source": [
    "# Acquire the Data\n",
    "\n",
    "- Decided to search for repos with the word \"environmental\" to see if there was a language that was in more frequent use for these repos\n",
    "- Created function to fetch all urls from the first search page and return them as a list\n",
    "    - Discovered each search page contained links to 10 repos\n",
    "- With that list of urls then inspected the repo for the HTML needed to get the readme text and primary(first listed) programming language\n",
    "- Updated url function to iterate through search pages and return flattened list of urls\n",
    "    - had to only fetch info from repos with needed text (exclude empty or repos with text not in container)\n",
    "    - this returned 827 observations for 100 search pages (or 1,000 repos) scrapped\n",
    "- cached .json file for further use as function run time is very high\n",
    "- all functions stored in acquire.py file for future replication\n",
    "\n",
    "*After completing this step, be sure to edit the README data dictionary to include descriptions of where you obtained your data and what information it contains.*"
   ]
  },
  {
   "cell_type": "markdown",
   "metadata": {},
   "source": [
    "# Prepare the Data\n",
    "\n",
    "- load data from cached file\n",
    "- noted that over 10 different languages are present in the dataset\n",
    "    - decided to focus on the top 4 in our dataset = Python, JavaScript, HTML, Java\n",
    "    - added words column and doc_length column in preparation for Explore\n",
    "- cleaned data\n",
    "    - change all to lowercase, remove special characters by converting to ascii then returning to UTF-8, and replace anything that is not a letter, number, whitespace or a single quote\n",
    "    - Use NLTK TlktokTokenizer to seperate/tokenize text\n",
    "    - Remove stopwords from text with function that allows for additional words to exclude, or words to not exclude\n",
    "        - NOTE: during Exploration noticed words 'data', 'file', and 'environmental' appear in the top 5 words for all categories\n",
    "        - Added these words to the stopwords list to reduce noise\n",
    "     - Create column of stemmed text and separate column of lemmatized text for Exploration and Modeling\n",
    "- Split the dataset into train, validate, and test datasets and defined X and y sets for modeling, also return a separate set train_exp for Exploration"
   ]
  },
  {
   "cell_type": "code",
   "execution_count": 2,
   "metadata": {},
   "outputs": [
    {
     "name": "stdout",
     "output_type": "stream",
     "text": [
      "acquiring data\n",
      "preparing data\n",
      "splitting data\n",
      "complete\n",
      "X-train shape (234, 6) X_validate shape (79, 6) X_test shape (79, 6)\n"
     ]
    }
   ],
   "source": [
    "# full wrangle test\n",
    "train_exp, X_train, y_train, X_validate, y_validate, X_test, y_test = ry_wrangle.wrangle_github(cached=True)"
   ]
  },
  {
   "cell_type": "markdown",
   "metadata": {},
   "source": [
    "# Explore the Data\n",
    "\n",
    "- Check for imbalance in the dataset\n",
    "    - Balance looks ok, do not need to over/under sample\n",
    "- create list of words by language category\n",
    "- noticed words 'data', 'file', and 'environmental' appear in the top 5 words for all categories\n",
    "    - these words have been removed to reduce noise\n"
   ]
  },
  {
   "cell_type": "code",
   "execution_count": 3,
   "metadata": {},
   "outputs": [
    {
     "data": {
      "text/html": [
       "<div>\n",
       "<style scoped>\n",
       "    .dataframe tbody tr th:only-of-type {\n",
       "        vertical-align: middle;\n",
       "    }\n",
       "\n",
       "    .dataframe tbody tr th {\n",
       "        vertical-align: top;\n",
       "    }\n",
       "\n",
       "    .dataframe thead th {\n",
       "        text-align: right;\n",
       "    }\n",
       "</style>\n",
       "<table border=\"1\" class=\"dataframe\">\n",
       "  <thead>\n",
       "    <tr style=\"text-align: right;\">\n",
       "      <th></th>\n",
       "      <th>n</th>\n",
       "      <th>percent</th>\n",
       "    </tr>\n",
       "  </thead>\n",
       "  <tbody>\n",
       "    <tr>\n",
       "      <th>Python</th>\n",
       "      <td>83</td>\n",
       "      <td>0.354701</td>\n",
       "    </tr>\n",
       "    <tr>\n",
       "      <th>JavaScript</th>\n",
       "      <td>62</td>\n",
       "      <td>0.264957</td>\n",
       "    </tr>\n",
       "    <tr>\n",
       "      <th>HTML</th>\n",
       "      <td>49</td>\n",
       "      <td>0.209402</td>\n",
       "    </tr>\n",
       "    <tr>\n",
       "      <th>Java</th>\n",
       "      <td>40</td>\n",
       "      <td>0.170940</td>\n",
       "    </tr>\n",
       "  </tbody>\n",
       "</table>\n",
       "</div>"
      ],
      "text/plain": [
       "             n   percent\n",
       "Python      83  0.354701\n",
       "JavaScript  62  0.264957\n",
       "HTML        49  0.209402\n",
       "Java        40  0.170940"
      ]
     },
     "execution_count": 3,
     "metadata": {},
     "output_type": "execute_result"
    }
   ],
   "source": [
    "# check balance of dataset for under/over sampling\n",
    "labels = pd.concat([train_exp.language.value_counts(), # get total counts of languages\n",
    "                    train_exp.language.value_counts(normalize=True)], axis=1) # getting the prop of languages\n",
    "labels.columns = ['n', 'percent']\n",
    "labels\n",
    "# balance is not bad, will not need to over/under sample"
   ]
  },
  {
   "cell_type": "code",
   "execution_count": 4,
   "metadata": {},
   "outputs": [],
   "source": [
    "# create a list of words for each language category\n",
    "python_words = ' '.join(train_exp[train_exp.language=='Python'].lemmatized)\n",
    "js_words = ' '.join(train_exp[train_exp.language=='JavaScript'].lemmatized)\n",
    "html_words = ' '.join(train_exp[train_exp.language=='HTML'].lemmatized)\n",
    "java_words = ' '.join(train_exp[train_exp.language=='Java'].lemmatized)\n",
    "\n",
    "# remove single letter words to reduce noise\n",
    "python_words = re.sub(r'\\s.\\s', '', python_words)\n",
    "js_words = re.sub(r'\\s.\\s', '', js_words)\n",
    "html_words = re.sub(r'\\s.\\s', '', html_words)\n",
    "java_words = re.sub(r'\\s.\\s', '', java_words)\n"
   ]
  },
  {
   "cell_type": "code",
   "execution_count": 5,
   "metadata": {},
   "outputs": [],
   "source": [
    "# get the count of words by category\n",
    "python_freq = pd.Series(python_words.split()).value_counts()\n",
    "js_freq = pd.Series(js_words.split()).value_counts()\n",
    "html_freq = pd.Series(html_words.split()).value_counts()\n",
    "java_freq = pd.Series(java_words.split()).value_counts()\n"
   ]
  },
  {
   "cell_type": "code",
   "execution_count": 6,
   "metadata": {},
   "outputs": [
    {
     "data": {
      "text/plain": [
       "00                226\n",
       "using             121\n",
       "install           104\n",
       "sensor            100\n",
       "database           97\n",
       "                 ... \n",
       "envejecimiento      1\n",
       "voert               1\n",
       "agg                 1\n",
       "inclusa             1\n",
       "byggdes             1\n",
       "Length: 6976, dtype: int64"
      ]
     },
     "execution_count": 6,
     "metadata": {},
     "output_type": "execute_result"
    }
   ],
   "source": [
    "python_freq\n",
    "# note: 4 most common = '00', 'file', 'data', 'environmental'\n",
    "# results after reduced noise"
   ]
  },
  {
   "cell_type": "code",
   "execution_count": 7,
   "metadata": {},
   "outputs": [
    {
     "data": {
      "text/plain": [
       "system                         81\n",
       "project                        77\n",
       "device                         75\n",
       "sensor                         75\n",
       "install                        74\n",
       "                               ..\n",
       "weighted                        1\n",
       "temperaturehumiditypressure     1\n",
       "datadates                       1\n",
       "danielle                        1\n",
       "curated                         1\n",
       "Length: 4331, dtype: int64"
      ]
     },
     "execution_count": 7,
     "metadata": {},
     "output_type": "execute_result"
    }
   ],
   "source": [
    "js_freq\n",
    "# note: 'data', 'file', 'environmental' are in top 5 words\n",
    "# results after reduced noise"
   ]
  },
  {
   "cell_type": "code",
   "execution_count": 8,
   "metadata": {},
   "outputs": [
    {
     "data": {
      "text/plain": [
       "worcester                    47\n",
       "nd                           46\n",
       "retrieved                    42\n",
       "description                  41\n",
       "source                       41\n",
       "                             ..\n",
       "electricityandenvironment     1\n",
       "accessed                      1\n",
       "dead                          1\n",
       "cs                            1\n",
       "explain                       1\n",
       "Length: 2495, dtype: int64"
      ]
     },
     "execution_count": 8,
     "metadata": {},
     "output_type": "execute_result"
    }
   ],
   "source": [
    "html_freq\n",
    "# note: 'data', 'file', 'environmental' are top 3 words\n",
    "# results after reduced noise"
   ]
  },
  {
   "cell_type": "code",
   "execution_count": 9,
   "metadata": {},
   "outputs": [
    {
     "data": {
      "text/plain": [
       "property                                               103\n",
       "&#9;                                                    85\n",
       "new                                                     42\n",
       "environment                                             37\n",
       "configuration                                           32\n",
       "                                                      ... \n",
       "existing                                                 1\n",
       "distributing                                             1\n",
       "activated                                                1\n",
       "primarily                                                1\n",
       "artifactidenvironmentpropertiesmergercoreartifactid      1\n",
       "Length: 1806, dtype: int64"
      ]
     },
     "execution_count": 9,
     "metadata": {},
     "output_type": "execute_result"
    }
   ],
   "source": [
    "java_freq\n",
    "# note: 'data', 'file', 'environmental' are in top 5 words\n",
    "# results after reduced noise"
   ]
  },
  {
   "cell_type": "code",
   "execution_count": 10,
   "metadata": {},
   "outputs": [
    {
     "data": {
      "text/html": [
       "<div>\n",
       "<style scoped>\n",
       "    .dataframe tbody tr th:only-of-type {\n",
       "        vertical-align: middle;\n",
       "    }\n",
       "\n",
       "    .dataframe tbody tr th {\n",
       "        vertical-align: top;\n",
       "    }\n",
       "\n",
       "    .dataframe thead th {\n",
       "        text-align: right;\n",
       "    }\n",
       "</style>\n",
       "<table border=\"1\" class=\"dataframe\">\n",
       "  <thead>\n",
       "    <tr style=\"text-align: right;\">\n",
       "      <th></th>\n",
       "      <th>Python</th>\n",
       "      <th>JavaScript</th>\n",
       "      <th>HTML</th>\n",
       "      <th>Java</th>\n",
       "      <th>all_words</th>\n",
       "    </tr>\n",
       "  </thead>\n",
       "  <tbody>\n",
       "    <tr>\n",
       "      <th>&amp;#9;</th>\n",
       "      <td>29</td>\n",
       "      <td>4</td>\n",
       "      <td>3</td>\n",
       "      <td>85</td>\n",
       "      <td>121</td>\n",
       "    </tr>\n",
       "    <tr>\n",
       "      <th>&amp;#9;&amp;#9;</th>\n",
       "      <td>0</td>\n",
       "      <td>0</td>\n",
       "      <td>0</td>\n",
       "      <td>1</td>\n",
       "      <td>1</td>\n",
       "    </tr>\n",
       "    <tr>\n",
       "      <th>&amp;#9;download</th>\n",
       "      <td>1</td>\n",
       "      <td>0</td>\n",
       "      <td>0</td>\n",
       "      <td>0</td>\n",
       "      <td>1</td>\n",
       "    </tr>\n",
       "    <tr>\n",
       "      <th>00</th>\n",
       "      <td>226</td>\n",
       "      <td>0</td>\n",
       "      <td>0</td>\n",
       "      <td>0</td>\n",
       "      <td>226</td>\n",
       "    </tr>\n",
       "    <tr>\n",
       "      <th>000</th>\n",
       "      <td>1</td>\n",
       "      <td>0</td>\n",
       "      <td>0</td>\n",
       "      <td>0</td>\n",
       "      <td>1</td>\n",
       "    </tr>\n",
       "  </tbody>\n",
       "</table>\n",
       "</div>"
      ],
      "text/plain": [
       "              Python  JavaScript  HTML  Java  all_words\n",
       "&#9;              29           4     3    85        121\n",
       "&#9;&#9;           0           0     0     1          1\n",
       "&#9;download       1           0     0     0          1\n",
       "00               226           0     0     0        226\n",
       "000                1           0     0     0          1"
      ]
     },
     "execution_count": 10,
     "metadata": {},
     "output_type": "execute_result"
    }
   ],
   "source": [
    "# combine list of word counts into df for further exploration\n",
    "word_counts = (pd.concat([python_freq, js_freq, html_freq, java_freq], axis=1, sort=True)\n",
    "               .set_axis(['Python', 'JavaScript', 'HTML', 'Java'], axis=1, inplace=False)\n",
    "               .fillna(0)\n",
    "               .apply(lambda s: s.astype(int))\n",
    "              )\n",
    "# create a column of all words as well\n",
    "word_counts['all_words'] = word_counts['Python'] + word_counts['JavaScript'] + word_counts['HTML'] + word_counts['Java']\n",
    "word_counts.head()"
   ]
  },
  {
   "cell_type": "markdown",
   "metadata": {},
   "source": [
    "Next, compute proportion of each string that for each language \n",
    "Because the languages are relatively balanced, we should see about the same proportion as the distibution in the dataset \n",
    "If we see significantly higher or lower proportion, then that word might be a good feature in predicting that language.\n",
    "A chi-square test could confirm or deny significance if needed.\n",
    "\n"
   ]
  },
  {
   "cell_type": "code",
   "execution_count": 11,
   "metadata": {},
   "outputs": [],
   "source": [
    "word_counts['prop_python'] = word_counts['Python']/word_counts['all_words']\n",
    "word_counts['prop_js'] = word_counts['JavaScript']/word_counts['all_words']\n",
    "word_counts['prop_html'] = word_counts['HTML']/word_counts['all_words']\n",
    "word_counts['prop_java'] = word_counts['Java']/word_counts['all_words']"
   ]
  },
  {
   "cell_type": "code",
   "execution_count": 12,
   "metadata": {},
   "outputs": [
    {
     "data": {
      "text/html": [
       "<div>\n",
       "<style scoped>\n",
       "    .dataframe tbody tr th:only-of-type {\n",
       "        vertical-align: middle;\n",
       "    }\n",
       "\n",
       "    .dataframe tbody tr th {\n",
       "        vertical-align: top;\n",
       "    }\n",
       "\n",
       "    .dataframe thead th {\n",
       "        text-align: right;\n",
       "    }\n",
       "</style>\n",
       "<table border=\"1\" class=\"dataframe\">\n",
       "  <thead>\n",
       "    <tr style=\"text-align: right;\">\n",
       "      <th></th>\n",
       "      <th>Python</th>\n",
       "      <th>JavaScript</th>\n",
       "      <th>HTML</th>\n",
       "      <th>Java</th>\n",
       "      <th>all_words</th>\n",
       "      <th>prop_python</th>\n",
       "      <th>prop_js</th>\n",
       "      <th>prop_html</th>\n",
       "      <th>prop_java</th>\n",
       "    </tr>\n",
       "  </thead>\n",
       "  <tbody>\n",
       "    <tr>\n",
       "      <th>&amp;#9;</th>\n",
       "      <td>29</td>\n",
       "      <td>4</td>\n",
       "      <td>3</td>\n",
       "      <td>85</td>\n",
       "      <td>121</td>\n",
       "      <td>0.239669</td>\n",
       "      <td>0.033058</td>\n",
       "      <td>0.024793</td>\n",
       "      <td>0.702479</td>\n",
       "    </tr>\n",
       "    <tr>\n",
       "      <th>&amp;#9;&amp;#9;</th>\n",
       "      <td>0</td>\n",
       "      <td>0</td>\n",
       "      <td>0</td>\n",
       "      <td>1</td>\n",
       "      <td>1</td>\n",
       "      <td>0.000000</td>\n",
       "      <td>0.000000</td>\n",
       "      <td>0.000000</td>\n",
       "      <td>1.000000</td>\n",
       "    </tr>\n",
       "    <tr>\n",
       "      <th>&amp;#9;download</th>\n",
       "      <td>1</td>\n",
       "      <td>0</td>\n",
       "      <td>0</td>\n",
       "      <td>0</td>\n",
       "      <td>1</td>\n",
       "      <td>1.000000</td>\n",
       "      <td>0.000000</td>\n",
       "      <td>0.000000</td>\n",
       "      <td>0.000000</td>\n",
       "    </tr>\n",
       "    <tr>\n",
       "      <th>00</th>\n",
       "      <td>226</td>\n",
       "      <td>0</td>\n",
       "      <td>0</td>\n",
       "      <td>0</td>\n",
       "      <td>226</td>\n",
       "      <td>1.000000</td>\n",
       "      <td>0.000000</td>\n",
       "      <td>0.000000</td>\n",
       "      <td>0.000000</td>\n",
       "    </tr>\n",
       "    <tr>\n",
       "      <th>000</th>\n",
       "      <td>1</td>\n",
       "      <td>0</td>\n",
       "      <td>0</td>\n",
       "      <td>0</td>\n",
       "      <td>1</td>\n",
       "      <td>1.000000</td>\n",
       "      <td>0.000000</td>\n",
       "      <td>0.000000</td>\n",
       "      <td>0.000000</td>\n",
       "    </tr>\n",
       "    <tr>\n",
       "      <th>000000</th>\n",
       "      <td>0</td>\n",
       "      <td>5</td>\n",
       "      <td>0</td>\n",
       "      <td>0</td>\n",
       "      <td>5</td>\n",
       "      <td>0.000000</td>\n",
       "      <td>1.000000</td>\n",
       "      <td>0.000000</td>\n",
       "      <td>0.000000</td>\n",
       "    </tr>\n",
       "    <tr>\n",
       "      <th>0000dd</th>\n",
       "      <td>0</td>\n",
       "      <td>1</td>\n",
       "      <td>0</td>\n",
       "      <td>0</td>\n",
       "      <td>1</td>\n",
       "      <td>0.000000</td>\n",
       "      <td>1.000000</td>\n",
       "      <td>0.000000</td>\n",
       "      <td>0.000000</td>\n",
       "    </tr>\n",
       "    <tr>\n",
       "      <th>0023</th>\n",
       "      <td>1</td>\n",
       "      <td>0</td>\n",
       "      <td>0</td>\n",
       "      <td>0</td>\n",
       "      <td>1</td>\n",
       "      <td>1.000000</td>\n",
       "      <td>0.000000</td>\n",
       "      <td>0.000000</td>\n",
       "      <td>0.000000</td>\n",
       "    </tr>\n",
       "    <tr>\n",
       "      <th>003</th>\n",
       "      <td>1</td>\n",
       "      <td>0</td>\n",
       "      <td>0</td>\n",
       "      <td>0</td>\n",
       "      <td>1</td>\n",
       "      <td>1.000000</td>\n",
       "      <td>0.000000</td>\n",
       "      <td>0.000000</td>\n",
       "      <td>0.000000</td>\n",
       "    </tr>\n",
       "    <tr>\n",
       "      <th>005</th>\n",
       "      <td>1</td>\n",
       "      <td>0</td>\n",
       "      <td>0</td>\n",
       "      <td>0</td>\n",
       "      <td>1</td>\n",
       "      <td>1.000000</td>\n",
       "      <td>0.000000</td>\n",
       "      <td>0.000000</td>\n",
       "      <td>0.000000</td>\n",
       "    </tr>\n",
       "  </tbody>\n",
       "</table>\n",
       "</div>"
      ],
      "text/plain": [
       "              Python  JavaScript  HTML  Java  all_words  prop_python  \\\n",
       "&#9;              29           4     3    85        121     0.239669   \n",
       "&#9;&#9;           0           0     0     1          1     0.000000   \n",
       "&#9;download       1           0     0     0          1     1.000000   \n",
       "00               226           0     0     0        226     1.000000   \n",
       "000                1           0     0     0          1     1.000000   \n",
       "000000             0           5     0     0          5     0.000000   \n",
       "0000dd             0           1     0     0          1     0.000000   \n",
       "0023               1           0     0     0          1     1.000000   \n",
       "003                1           0     0     0          1     1.000000   \n",
       "005                1           0     0     0          1     1.000000   \n",
       "\n",
       "               prop_js  prop_html  prop_java  \n",
       "&#9;          0.033058   0.024793   0.702479  \n",
       "&#9;&#9;      0.000000   0.000000   1.000000  \n",
       "&#9;download  0.000000   0.000000   0.000000  \n",
       "00            0.000000   0.000000   0.000000  \n",
       "000           0.000000   0.000000   0.000000  \n",
       "000000        1.000000   0.000000   0.000000  \n",
       "0000dd        1.000000   0.000000   0.000000  \n",
       "0023          0.000000   0.000000   0.000000  \n",
       "003           0.000000   0.000000   0.000000  \n",
       "005           0.000000   0.000000   0.000000  "
      ]
     },
     "execution_count": 12,
     "metadata": {},
     "output_type": "execute_result"
    }
   ],
   "source": [
    "word_counts.head(10)"
   ]
  },
  {
   "cell_type": "markdown",
   "metadata": {},
   "source": [
    "**Takeaways**\n",
    "\n",
    "- `&#9;` highest frequency is Java, present in others but much lower, might work for feature? or remove for noise?\n",
    "- all instances of '00' are Python\n",
    "- all instances of '000000' are JavaScript\n",
    "\n",
    "not sure that these are good takeaways or features yet\n",
    "\n",
    "\n",
    "For now, though, we will filter out rows with strings that only occur less a certain amount, as they are likely not going to provide much information. Let's first look at the distribution of counts to decide where that cutoff will be."
   ]
  },
  {
   "cell_type": "code",
   "execution_count": 13,
   "metadata": {},
   "outputs": [
    {
     "name": "stdout",
     "output_type": "stream",
     "text": [
      "The number of words that occur n times: \n"
     ]
    },
    {
     "data": {
      "text/plain": [
       "1     6423\n",
       "2     1821\n",
       "3      709\n",
       "4      421\n",
       "5      279\n",
       "6      208\n",
       "7      153\n",
       "8      121\n",
       "9      109\n",
       "11      80\n",
       "10      79\n",
       "12      73\n",
       "13      59\n",
       "14      45\n",
       "16      45\n",
       "15      38\n",
       "19      37\n",
       "22      33\n",
       "17      32\n",
       "20      26\n",
       "Name: all_words, dtype: int64"
      ]
     },
     "execution_count": 13,
     "metadata": {},
     "output_type": "execute_result"
    }
   ],
   "source": [
    "print(\"The number of words that occur n times: \")\n",
    "word_counts['all_words'].value_counts().head(20)"
   ]
  },
  {
   "cell_type": "code",
   "execution_count": 26,
   "metadata": {},
   "outputs": [
    {
     "name": "stdout",
     "output_type": "stream",
     "text": [
      "<class 'pandas.core.frame.DataFrame'>\n",
      "Index: 428 entries, &#9; to zero\n",
      "Data columns (total 9 columns):\n",
      " #   Column       Non-Null Count  Dtype  \n",
      "---  ------       --------------  -----  \n",
      " 0   Python       428 non-null    int64  \n",
      " 1   JavaScript   428 non-null    int64  \n",
      " 2   HTML         428 non-null    int64  \n",
      " 3   Java         428 non-null    int64  \n",
      " 4   all_words    428 non-null    int64  \n",
      " 5   prop_python  428 non-null    float64\n",
      " 6   prop_js      428 non-null    float64\n",
      " 7   prop_html    428 non-null    float64\n",
      " 8   prop_java    428 non-null    float64\n",
      "dtypes: float64(4), int64(5)\n",
      "memory usage: 33.4+ KB\n"
     ]
    }
   ],
   "source": [
    "# filter out all words that occur less than 20 times\n",
    "word_counts = word_counts[word_counts['all_words'] >= 20]\n",
    "word_counts.info()"
   ]
  },
  {
   "cell_type": "markdown",
   "metadata": {},
   "source": [
    "## Feature Selection Words\n",
    "This leaves us with 428 words which seems like a good amount (better than 603 with only 15 as cutoff).\n",
    "\n",
    "We can now use this data set to answer some interesting questions:\n",
    "\n",
    "Are there words that should be added to the stopword list?\n",
    "- added 'file', 'data', 'environmental' to the list\n",
    "- only remaining shared word in Top 5 is 'sensor' and only shared by Python and JavaScript\n",
    "\n",
    "Are there any words that are unique to one language that could be a feature?\n",
    "- Yes, have the variables of these words but unsure how to use them as a feature\n"
   ]
  },
  {
   "cell_type": "code",
   "execution_count": 15,
   "metadata": {},
   "outputs": [],
   "source": [
    "python_feature = word_counts[word_counts.prop_python == 1.0].sort_values(by='Python', ascending=False)\n",
    "# These words occur exclusively in Python readme texts. They might be a good list for a Python feature?\n",
    "python_feature_list = python_feature.index.to_list()"
   ]
  },
  {
   "cell_type": "code",
   "execution_count": 16,
   "metadata": {},
   "outputs": [
    {
     "data": {
      "text/plain": [
       "['00',\n",
       " 'de',\n",
       " 'mycodo',\n",
       " 'classification',\n",
       " 'cnn',\n",
       " 'barque',\n",
       " 'grasp',\n",
       " 'la',\n",
       " 'convolutional',\n",
       " 'outlier',\n",
       " 'outdoor',\n",
       " 'rviz',\n",
       " 'grow',\n",
       " 'mqtt',\n",
       " 'planner',\n",
       " 'tox',\n",
       " 'esc50']"
      ]
     },
     "execution_count": 16,
     "metadata": {},
     "output_type": "execute_result"
    }
   ],
   "source": [
    "python_feature_list"
   ]
  },
  {
   "cell_type": "code",
   "execution_count": 17,
   "metadata": {},
   "outputs": [],
   "source": [
    "# repeat for other languages\n",
    "js_feature = word_counts[word_counts.prop_js == 1.0].sort_values(by='JavaScript', ascending=False)\n",
    "js_feature_list = js_feature.index.to_list()"
   ]
  },
  {
   "cell_type": "code",
   "execution_count": 18,
   "metadata": {},
   "outputs": [
    {
     "data": {
      "text/plain": [
       "['gps', 'epaper', 'waved', 'esdr', 'chip']"
      ]
     },
     "execution_count": 18,
     "metadata": {},
     "output_type": "execute_result"
    }
   ],
   "source": [
    "js_feature_list"
   ]
  },
  {
   "cell_type": "code",
   "execution_count": 19,
   "metadata": {},
   "outputs": [],
   "source": [
    "html_feature = word_counts[word_counts.prop_html == 1.0].sort_values(by='HTML', ascending=False)\n",
    "html_feature_list = html_feature.index.to_list()"
   ]
  },
  {
   "cell_type": "code",
   "execution_count": 20,
   "metadata": {},
   "outputs": [
    {
     "data": {
      "text/plain": [
       "['worcester', 'xnucleoiks01a3', 'libaudioverse']"
      ]
     },
     "execution_count": 20,
     "metadata": {},
     "output_type": "execute_result"
    }
   ],
   "source": [
    "html_feature_list"
   ]
  },
  {
   "cell_type": "code",
   "execution_count": 21,
   "metadata": {},
   "outputs": [],
   "source": [
    "java_feature = word_counts[word_counts.prop_html == 1.0].sort_values(by='Java', ascending=False)\n",
    "java_feature_list = java_feature.index.to_list()"
   ]
  },
  {
   "cell_type": "code",
   "execution_count": 22,
   "metadata": {},
   "outputs": [
    {
     "data": {
      "text/plain": [
       "['libaudioverse', 'worcester', 'xnucleoiks01a3']"
      ]
     },
     "execution_count": 22,
     "metadata": {},
     "output_type": "execute_result"
    }
   ],
   "source": [
    "java_feature_list"
   ]
  },
  {
   "cell_type": "markdown",
   "metadata": {},
   "source": [
    "## Visualize"
   ]
  },
  {
   "cell_type": "code",
   "execution_count": 30,
   "metadata": {},
   "outputs": [
    {
     "data": {
      "text/plain": [
       "<Figure size 864x576 with 0 Axes>"
      ]
     },
     "metadata": {},
     "output_type": "display_data"
    },
    {
     "data": {
      "image/png": "[encoded data removed]",
      "text/plain": [
       "<Figure size 432x288 with 1 Axes>"
      ]
     },
     "metadata": {
      "needs_background": "light"
     },
     "output_type": "display_data"
    }
   ],
   "source": [
    "# visualize the % of the term in each language\n",
    "plt.figure(figsize=(12,8))\n",
    "(word_counts\n",
    " .assign(p_python=word_counts.Python / word_counts['all_words'],\n",
    "         p_js=word_counts.JavaScript / word_counts['all_words'],\n",
    "        p_html=word_counts.HTML / word_counts['all_words'],\n",
    "        p_java=word_counts.Java / word_counts['all_words']\n",
    "        )\n",
    " .sort_values(by='all_words')\n",
    " [['p_python', 'p_js', 'p_html', 'p_java']]\n",
    " .tail(20)\n",
    " .sort_values('p_python')\n",
    " .plot.barh(stacked=True))\n",
    "\n",
    "plt.legend(bbox_to_anchor=(1.05, 1))\n",
    "plt.title('Proportion of language for the 20 most common words')\n",
    "plt.show()"
   ]
  },
  {
   "cell_type": "markdown",
   "metadata": {},
   "source": [
    "## Bigrams"
   ]
  },
  {
   "cell_type": "code",
   "execution_count": 44,
   "metadata": {},
   "outputs": [],
   "source": [
    "# create bygrams by category\n",
    "python_bigrams = pd.Series(list(nltk.ngrams(python_words.split(), 2))).value_counts().head(20)\n",
    "js_bigrams = pd.Series(list(nltk.ngrams(js_words.split(), 2))).value_counts().head(20)\n",
    "html_bigrams = pd.Series(list(nltk.ngrams(html_words.split(), 2))).value_counts().head(20)\n",
    "java_bigrams = pd.Series(list(nltk.ngrams(java_words.split(), 2))).value_counts().head(20)\n"
   ]
  },
  {
   "cell_type": "code",
   "execution_count": 25,
   "metadata": {},
   "outputs": [
    {
     "data": {
      "image/png": "[encoded data removed]",
      "text/plain": [
       "<Figure size 720x720 with 4 Axes>"
      ]
     },
     "metadata": {
      "needs_background": "light"
     },
     "output_type": "display_data"
    }
   ],
   "source": [
    "# plot bigrams\n",
    "plt.subplot(2,2,1)\n",
    "python_bigrams.plot.barh(color='red', width=.9, figsize=(10,10))\n",
    "plt.title(\"20 most frequent Python bigrams\")\n",
    "plt.ylabel(\"Bigram\")\n",
    "plt.xlabel(\"Frequency\")\n",
    "\n",
    "plt.subplot(2,2,2)\n",
    "js_bigrams.plot.barh(color='orange', width=.9, figsize=(10,10))\n",
    "plt.title(\"20 most frequent JavaScript bigrams\")\n",
    "plt.ylabel(\"Bigram\")\n",
    "plt.xlabel(\"Frequency\")\n",
    "\n",
    "plt.subplot(2,2,3)\n",
    "html_bigrams.plot.barh(color='blue', width=.9, figsize=(10,10))\n",
    "plt.title(\"20 most frequent HTML bigrams\")\n",
    "plt.ylabel(\"Bigram\")\n",
    "plt.xlabel(\"Frequency\")\n",
    "\n",
    "plt.subplot(2,2,4)\n",
    "java_bigrams.plot.barh(color='green', width=.9, figsize=(10,10))\n",
    "plt.title(\"20 most frequent Java bigrams\")\n",
    "plt.ylabel(\"Bigram\")\n",
    "plt.xlabel(\"Frequency\")\n",
    "\n",
    "plt.tight_layout()\n",
    "plt.show()"
   ]
  },
  {
   "cell_type": "markdown",
   "metadata": {},
   "source": [
    "## Statistical Testing\n",
    "\n",
    "- Is the average word count significantly different from the population mean for each language?\n",
    "- Using a one sample, 2 tail t-test determine if the mean word count (doc_length) for each language is significantly different from the population (overall mean)\n",
    "\n",
    "Ho: There is no significant difference     \n",
    "Ha: There is a significant difference     \n",
    "alpha: .05\n",
    "\n",
    "**Conclusions**\n",
    "- For Python, JavaScript, and Java there is no significant difference in the readme length vs the overall mean length\n",
    "- For HTML there is a significant difference"
   ]
  },
  {
   "cell_type": "code",
   "execution_count": 29,
   "metadata": {},
   "outputs": [
    {
     "data": {
      "image/png": "[encoded data removed]",
      "text/plain": [
       "<Figure size 864x576 with 1 Axes>"
      ]
     },
     "metadata": {
      "needs_background": "light"
     },
     "output_type": "display_data"
    }
   ],
   "source": [
    "# Visualize programming language by readme length\n",
    "plt.figure(figsize=(12,8))\n",
    "sns.boxplot(data=train_exp, x='language', y='doc_length')\n",
    "plt.title('Average Readme length by Language')\n",
    "plt.show()"
   ]
  },
  {
   "cell_type": "code",
   "execution_count": 41,
   "metadata": {},
   "outputs": [],
   "source": [
    "alpha = .05\n",
    "python_sample = train_exp[train_exp.language=='Python'].doc_length\n",
    "js_sample = train_exp[train_exp.language=='JavaScript'].doc_length\n",
    "html_sample = train_exp[train_exp.language=='HTML'].doc_length\n",
    "java_sample = train_exp[train_exp.language=='Java'].doc_length\n",
    "overall_mean = train_exp.doc_length.mean()"
   ]
  },
  {
   "cell_type": "code",
   "execution_count": 34,
   "metadata": {},
   "outputs": [
    {
     "data": {
      "text/plain": [
       "(1.3646833174208424, 0.1760858155624954)"
      ]
     },
     "execution_count": 34,
     "metadata": {},
     "output_type": "execute_result"
    }
   ],
   "source": [
    "# Python vs. overall mean\n",
    "t, p = stats.ttest_1samp(python_sample, overall_mean)\n",
    "t, p"
   ]
  },
  {
   "cell_type": "code",
   "execution_count": 35,
   "metadata": {},
   "outputs": [
    {
     "data": {
      "text/plain": [
       "False"
      ]
     },
     "execution_count": 35,
     "metadata": {},
     "output_type": "execute_result"
    }
   ],
   "source": [
    "p < alpha\n",
    "# We fail to reject the null hypothesis and conclude there is no significant difference."
   ]
  },
  {
   "cell_type": "code",
   "execution_count": 36,
   "metadata": {},
   "outputs": [
    {
     "data": {
      "text/plain": [
       "(0.39910939021510883, 0.6912064458483929)"
      ]
     },
     "execution_count": 36,
     "metadata": {},
     "output_type": "execute_result"
    }
   ],
   "source": [
    "# JavaScript vs. overall mean\n",
    "t, p = stats.ttest_1samp(js_sample, overall_mean)\n",
    "t, p"
   ]
  },
  {
   "cell_type": "code",
   "execution_count": 37,
   "metadata": {},
   "outputs": [
    {
     "data": {
      "text/plain": [
       "False"
      ]
     },
     "execution_count": 37,
     "metadata": {},
     "output_type": "execute_result"
    }
   ],
   "source": [
    "p < alpha\n",
    "# We fail to reject the null hypothesis and conclude there is no significant difference."
   ]
  },
  {
   "cell_type": "code",
   "execution_count": 38,
   "metadata": {},
   "outputs": [
    {
     "data": {
      "text/plain": [
       "(-2.12158663408183, 0.03906197489424692)"
      ]
     },
     "execution_count": 38,
     "metadata": {},
     "output_type": "execute_result"
    }
   ],
   "source": [
    "# HTML vs. overall mean\n",
    "t, p = stats.ttest_1samp(html_sample, overall_mean)\n",
    "t, p"
   ]
  },
  {
   "cell_type": "code",
   "execution_count": 39,
   "metadata": {},
   "outputs": [
    {
     "data": {
      "text/plain": [
       "True"
      ]
     },
     "execution_count": 39,
     "metadata": {},
     "output_type": "execute_result"
    }
   ],
   "source": [
    "p < alpha\n",
    "# We reject the null hypothesis and conclude there is a significant difference for HTML readme files."
   ]
  },
  {
   "cell_type": "code",
   "execution_count": 42,
   "metadata": {},
   "outputs": [
    {
     "data": {
      "text/plain": [
       "(-1.8057327766409508, 0.07868308420925468)"
      ]
     },
     "execution_count": 42,
     "metadata": {},
     "output_type": "execute_result"
    }
   ],
   "source": [
    "# Java vs. overall mean\n",
    "t, p = stats.ttest_1samp(java_sample, overall_mean)\n",
    "t, p"
   ]
  },
  {
   "cell_type": "code",
   "execution_count": 43,
   "metadata": {},
   "outputs": [
    {
     "data": {
      "text/plain": [
       "False"
      ]
     },
     "execution_count": 43,
     "metadata": {},
     "output_type": "execute_result"
    }
   ],
   "source": [
    "p < alpha\n",
    "# We fail to reject the null hypothesis and conclude there is no significant difference."
   ]
  },
  {
   "cell_type": "markdown",
   "metadata": {},
   "source": [
    "# Model the Data\n",
    "\n",
    "*Describe the algorithms that you are considering. How do they work? Why are they good choices for this data and problem space?*\n",
    "\n",
    "*What nuances in the data will you have to be aware of in order to avoid introducing bias to your model? What steps will you need to take to prevent overfitting? What risks are there for data leakage?*\n",
    "\n",
    "### Train Validation Test Split\n",
    "- Data split already\n",
    "- Data has been cleaned\n"
   ]
  },
  {
   "cell_type": "markdown",
   "metadata": {},
   "source": [
    "### Preprocessing\n",
    "- Open Question: How to use unique words lists created as features"
   ]
  },
  {
   "cell_type": "markdown",
   "metadata": {},
   "source": [
    "#### Create Bag of Words for Modeling"
   ]
  },
  {
   "cell_type": "code",
   "execution_count": null,
   "metadata": {},
   "outputs": [],
   "source": []
  },
  {
   "cell_type": "markdown",
   "metadata": {},
   "source": [
    "#### Create TF-IDF for Modeling"
   ]
  },
  {
   "cell_type": "code",
   "execution_count": null,
   "metadata": {},
   "outputs": [],
   "source": []
  },
  {
   "cell_type": "markdown",
   "metadata": {},
   "source": [
    "### Build and Train Model\n",
    "\n",
    "*Write down any thoughts you may have about working with these algorithms on this data. What looks to have been the most successful design choices? What pain points are you running into? What other ideas do you want to try out as you iterate on this pipeline?*"
   ]
  },
  {
   "cell_type": "code",
   "execution_count": null,
   "metadata": {},
   "outputs": [],
   "source": []
  },
  {
   "cell_type": "markdown",
   "metadata": {},
   "source": [
    "### Predict and Score\n",
    "\n",
    "Important: Stick to the metrics you chose to test before you trained and evaluated your model! Remember that this is the standard you selected before your analysis as the one that you would find most convincing that the model works."
   ]
  },
  {
   "cell_type": "code",
   "execution_count": null,
   "metadata": {},
   "outputs": [],
   "source": []
  },
  {
   "cell_type": "markdown",
   "metadata": {},
   "source": [
    "# Interpret the Model\n",
    "\n",
    "Write up the things you learned, and how well your model performed. Be sure address the model's strengths and weaknesses. What types of data does it handle well? What types of observations tend to give it a hard time? What future work would you or someone reading this might want to do, building on the lessons learned and tools developed in this project?"
   ]
  },
  {
   "cell_type": "code",
   "execution_count": null,
   "metadata": {},
   "outputs": [],
   "source": []
  },
  {
   "cell_type": "markdown",
   "metadata": {},
   "source": [
    "#### Report Metrics in Context\n",
    "How did the model perform on the key metrics you chose to demonstrate its usefulness? What counts as good or bad performance? How well do humans perform on this task? How well would you expect to do with random dice rolls? What are the costs associated with missed predictions?"
   ]
  },
  {
   "cell_type": "code",
   "execution_count": null,
   "metadata": {},
   "outputs": [],
   "source": []
  },
  {
   "cell_type": "markdown",
   "metadata": {},
   "source": [
    "#### Inspect Errors\n",
    "\n",
    "Look at some of the observations with missed predictions. (Do this in your validation set, never look at individual records in your test set!) Are there common patterns among the observations with bad results? Do you have data that you can include in your model that will capture these patterns or is this a task that will need another research project to solve?\n",
    "\n",
    "This is your last step in the iteration cycle; if you can't find anything else you can work on here with your present data, project scope, and deadlines, then it's time to wrap things up."
   ]
  },
  {
   "cell_type": "code",
   "execution_count": null,
   "metadata": {},
   "outputs": [],
   "source": []
  },
  {
   "cell_type": "markdown",
   "metadata": {},
   "source": [
    "#### Strengths and Weaknesses\n",
    "\n",
    "Once you've gone through your iteration cycles and are finished with this version of the model, or this particular project, provide an assessment of what types of observations are handled well by your model, and what circumstances seem to give it trouble. This will point you and others towards more questions for future projects."
   ]
  },
  {
   "cell_type": "code",
   "execution_count": null,
   "metadata": {},
   "outputs": [],
   "source": []
  },
  {
   "cell_type": "markdown",
   "metadata": {},
   "source": [
    "# Next Steps: What Can We Do Now?\n",
    "\n",
    "Reporting a model's results is good, and is the main objective of any data science project. But a project is one thing, a career is another. A question is one thing, but science is another. If you've carried out your research with a mindset of curiosity and creativity, then by now you should have plenty more, and much better informed, questions about this topic than what you started with.\n",
    "\n",
    "So in addition to reporting on the question you investigated and the answers you found, think of the needs of your team, your users, and your peers in the industry, and make some recommendations that answer these two questions:\n",
    "\n",
    "What are some unanswered questions in my project where more information (additional data sources, deeper understanding, other models or tools) might help improve these results?\n",
    "What are other needs or problems where my model or my approach may be useful?"
   ]
  },
  {
   "cell_type": "code",
   "execution_count": null,
   "metadata": {},
   "outputs": [],
   "source": []
  }
 ],
 "metadata": {
  "kernelspec": {
   "display_name": "Python 3",
   "language": "python",
   "name": "python3"
  },
  "language_info": {
   "codemirror_mode": {
    "name": "ipython",
    "version": 3
   },
   "file_extension": ".py",
   "mimetype": "text/x-python",
   "name": "python",
   "nbconvert_exporter": "python",
   "pygments_lexer": "ipython3",
   "version": "3.7.9"
  },
  "toc": {
   "base_numbering": 1,
   "nav_menu": {},
   "number_sections": true,
   "sideBar": true,
   "skip_h1_title": false,
   "title_cell": "Table of Contents",
   "title_sidebar": "Contents",
   "toc_cell": false,
   "toc_position": {
    "height": "calc(100% - 180px)",
    "left": "10px",
    "top": "150px",
    "width": "280.188px"
   },
   "toc_section_display": true,
   "toc_window_display": true
  }
 },
 "nbformat": 4,
 "nbformat_minor": 4
}
