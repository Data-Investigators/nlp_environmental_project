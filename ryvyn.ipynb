{
 "cells": [
  {
   "cell_type": "code",
   "execution_count": 1,
   "metadata": {},
   "outputs": [],
   "source": [
    "import acquire\n",
    "import prepare\n",
    "import scrape\n",
    "\n",
    "import pandas as pd\n",
    "import matplotlib as plt\n",
    "import numpy as np\n",
    "\n"
   ]
  },
  {
   "cell_type": "code",
   "execution_count": 24,
   "metadata": {},
   "outputs": [],
   "source": [
    "def github_urls():\n",
    "    '''\n",
    "    This function scrapes all of the evironmental urls from\n",
    "    the github search page and returns a list of urls.\n",
    "    '''\n",
    "    # The base url for the main Codeup blog page\n",
    "    url = 'https://github.com/search?o=desc&p=1&q=environmental&s=&type=Repositories'\n",
    "    \n",
    "    # Make request and soup object using helper\n",
    "    soup = acquire.make_soup(url)\n",
    "    \n",
    "    # Create a list of the anchor elements that hold the urls.\n",
    "    urls_list = soup.find_all('a', class_='v-align-middle')\n",
    "    # for each url in the find all list get just the 'href' link\n",
    "    urls = {link.get('href') for link in urls_list}\n",
    "    # make a list of these urls\n",
    "    urls = list(urls)\n",
    "    return urls\n",
    "# this gets 1st 10 urls, will need to get next 10 pages\n"
   ]
  },
  {
   "cell_type": "code",
   "execution_count": 25,
   "metadata": {},
   "outputs": [
    {
     "data": {
      "text/plain": [
       "['/publiclab/leaflet-environmental-layers',\n",
       " '/rbray89/EnvironmentalVisualEnhancements',\n",
       " '/emoncms/emoncms',\n",
       " '/sqlcollaborative/dbachecks',\n",
       " '/ejgertz/EMWA',\n",
       " '/karolpiczak/ESC-50',\n",
       " '/kizniche/Mycodo',\n",
       " '/karolpiczak/EARS',\n",
       " '/Genetic-Malware/Ebowla',\n",
       " '/rockita/Environmental_Intelligence']"
      ]
     },
     "execution_count": 25,
     "metadata": {},
     "output_type": "execute_result"
    }
   ],
   "source": [
    "url_list = github_urls()\n",
    "url_list"
   ]
  },
  {
   "cell_type": "code",
   "execution_count": 26,
   "metadata": {},
   "outputs": [],
   "source": [
    "def get_github(url_list, cached=False):\n",
    "    '''\n",
    "    This function with default cached == False does a fresh scrape of inshort pages with topics \n",
    "    business, sports, technology, and entertainment and writes the returned df to a json file.\n",
    "    cached == True returns a df read in from a json file.\n",
    "    '''\n",
    "    # option to read in a json file instead of scrape for df\n",
    "    if cached == True:\n",
    "        df = pd.read_json('readmes.json')\n",
    "        \n",
    "    # cached == False completes a fresh scrape for df    \n",
    "    else:\n",
    "    \n",
    "        # Set base_url that will be used in get request\n",
    "        base_url = 'https://github.com'\n",
    "        \n",
    "        # List of full url needed to get readme info\n",
    "        readme_url_list = []\n",
    "        for url in url_list:\n",
    "            full_url = base_url + url\n",
    "            readme_url_list.append(full_url)\n",
    "        \n",
    "        # Create an empty list, readmes, to hold our dictionaries\n",
    "        readmes = []\n",
    "\n",
    "        for readme_url in readme_url_list:\n",
    "            # Make request and soup object using helper\n",
    "            soup = make_soup(readme_url)\n",
    "\n",
    "            # Save the text in each readme to variable text\n",
    "            content = soup.find(xxxx).text\n",
    "\n",
    "            # Save the first language in each readme to variable text\n",
    "            language = soup.find(xxxx).text\n",
    "\n",
    "            # anything else useful on the page?\n",
    "            \n",
    "            # Create a dictionary holding the title and content for each blog\n",
    "            readme = {'language': language, 'content': content}\n",
    "\n",
    "            # Add each dictionary to the articles list of dictionaries\n",
    "            readmes.append(readme)\n",
    "            \n",
    "        # convert our list of dictionaries to a df\n",
    "        df = pd.DataFrame(readmes)\n",
    "\n",
    "        # Write df to a json file for faster access\n",
    "        df.to_json('readmes.json')\n",
    "\n",
    "    \n",
    "    return df"
   ]
  },
  {
   "cell_type": "code",
   "execution_count": 27,
   "metadata": {},
   "outputs": [
    {
     "data": {
      "text/plain": [
       "['https://github.com/publiclab/leaflet-environmental-layers',\n",
       " 'https://github.com/rbray89/EnvironmentalVisualEnhancements',\n",
       " 'https://github.com/emoncms/emoncms',\n",
       " 'https://github.com/sqlcollaborative/dbachecks',\n",
       " 'https://github.com/ejgertz/EMWA',\n",
       " 'https://github.com/karolpiczak/ESC-50',\n",
       " 'https://github.com/kizniche/Mycodo',\n",
       " 'https://github.com/karolpiczak/EARS',\n",
       " 'https://github.com/Genetic-Malware/Ebowla',\n",
       " 'https://github.com/rockita/Environmental_Intelligence']"
      ]
     },
     "execution_count": 27,
     "metadata": {},
     "output_type": "execute_result"
    }
   ],
   "source": [
    "readme_test = get_github(url_list, cached=False)\n",
    "readme_test"
   ]
  },
  {
   "cell_type": "code",
   "execution_count": null,
   "metadata": {},
   "outputs": [],
   "source": []
  },
  {
   "cell_type": "code",
   "execution_count": null,
   "metadata": {},
   "outputs": [],
   "source": []
  },
  {
   "cell_type": "code",
   "execution_count": null,
   "metadata": {},
   "outputs": [],
   "source": []
  }
 ],
 "metadata": {
  "kernelspec": {
   "display_name": "Python 3",
   "language": "python",
   "name": "python3"
  },
  "language_info": {
   "codemirror_mode": {
    "name": "ipython",
    "version": 3
   },
   "file_extension": ".py",
   "mimetype": "text/x-python",
   "name": "python",
   "nbconvert_exporter": "python",
   "pygments_lexer": "ipython3",
   "version": "3.7.9"
  },
  "toc": {
   "base_numbering": 1,
   "nav_menu": {},
   "number_sections": true,
   "sideBar": true,
   "skip_h1_title": false,
   "title_cell": "Table of Contents",
   "title_sidebar": "Contents",
   "toc_cell": false,
   "toc_position": {},
   "toc_section_display": true,
   "toc_window_display": false
  }
 },
 "nbformat": 4,
 "nbformat_minor": 4
}
