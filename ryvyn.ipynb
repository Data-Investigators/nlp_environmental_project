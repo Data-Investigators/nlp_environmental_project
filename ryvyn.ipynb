{
 "cells": [
  {
   "cell_type": "code",
   "execution_count": 1,
   "metadata": {},
   "outputs": [],
   "source": [
    "import acquire\n",
    "import acquire_ry\n",
    "import prepare\n",
    "import scrape\n",
    "\n",
    "import pandas as pd\n",
    "import matplotlib as plt\n",
    "import numpy as np\n",
    "import time\n"
   ]
  },
  {
   "cell_type": "code",
   "execution_count": 2,
   "metadata": {},
   "outputs": [],
   "source": [
    "prepdf = acquire_ry.get_github(cached=False)"
   ]
  },
  {
   "cell_type": "code",
   "execution_count": 3,
   "metadata": {},
   "outputs": [
    {
     "name": "stdout",
     "output_type": "stream",
     "text": [
      "<class 'pandas.core.frame.DataFrame'>\n",
      "RangeIndex: 214 entries, 0 to 213\n",
      "Data columns (total 2 columns):\n",
      " #   Column    Non-Null Count  Dtype \n",
      "---  ------    --------------  ----- \n",
      " 0   language  214 non-null    object\n",
      " 1   content   214 non-null    object\n",
      "dtypes: object(2)\n",
      "memory usage: 3.5+ KB\n"
     ]
    }
   ],
   "source": [
    "prepdf.info()"
   ]
  },
  {
   "cell_type": "code",
   "execution_count": 4,
   "metadata": {},
   "outputs": [],
   "source": [
    "check_cache = acquire_ry.get_github(cached=True)"
   ]
  },
  {
   "cell_type": "code",
   "execution_count": 5,
   "metadata": {},
   "outputs": [
    {
     "name": "stdout",
     "output_type": "stream",
     "text": [
      "<class 'pandas.core.frame.DataFrame'>\n",
      "Int64Index: 214 entries, 0 to 213\n",
      "Data columns (total 2 columns):\n",
      " #   Column    Non-Null Count  Dtype \n",
      "---  ------    --------------  ----- \n",
      " 0   language  214 non-null    object\n",
      " 1   content   214 non-null    object\n",
      "dtypes: object(2)\n",
      "memory usage: 5.0+ KB\n"
     ]
    }
   ],
   "source": [
    "check_cache.info()"
   ]
  },
  {
   "cell_type": "code",
   "execution_count": null,
   "metadata": {},
   "outputs": [],
   "source": [
    "first_ten = acquire_ry.get_github(cached=True)\n",
    "first_ten"
   ]
  },
  {
   "cell_type": "code",
   "execution_count": null,
   "metadata": {},
   "outputs": [],
   "source": [
    "base_url = 'https://github.com'\n",
    "readme_url_list = []\n",
    "for url in url_list:\n",
    "    full_url = base_url + url\n",
    "    readme_url_list.append(full_url)\n",
    "    \n",
    "readme_url_list"
   ]
  },
  {
   "cell_type": "code",
   "execution_count": null,
   "metadata": {},
   "outputs": [],
   "source": [
    "soup = acquire.make_soup('https://github.com/emoncms/emoncms')"
   ]
  },
  {
   "cell_type": "code",
   "execution_count": null,
   "metadata": {},
   "outputs": [],
   "source": [
    "content = soup.find('div', class_=\"Box-body px-5 pb-5\")"
   ]
  },
  {
   "cell_type": "code",
   "execution_count": null,
   "metadata": {},
   "outputs": [],
   "source": [
    "content"
   ]
  },
  {
   "cell_type": "code",
   "execution_count": null,
   "metadata": {},
   "outputs": [],
   "source": []
  },
  {
   "cell_type": "code",
   "execution_count": null,
   "metadata": {},
   "outputs": [],
   "source": [
    "language = soup.find('span', class_=\"text-gray-dark text-bold mr-1\").text"
   ]
  },
  {
   "cell_type": "code",
   "execution_count": null,
   "metadata": {},
   "outputs": [],
   "source": [
    "language"
   ]
  },
  {
   "cell_type": "code",
   "execution_count": null,
   "metadata": {},
   "outputs": [],
   "source": []
  },
  {
   "cell_type": "code",
   "execution_count": null,
   "metadata": {},
   "outputs": [],
   "source": [
    "df = acquire_ry.get_github(cached=True)\n",
    "df"
   ]
  },
  {
   "cell_type": "code",
   "execution_count": null,
   "metadata": {},
   "outputs": [],
   "source": []
  },
  {
   "cell_type": "code",
   "execution_count": null,
   "metadata": {},
   "outputs": [],
   "source": [
    "print(range(1, 11)) \n"
   ]
  },
  {
   "cell_type": "code",
   "execution_count": null,
   "metadata": {},
   "outputs": [],
   "source": [
    "def github_urls():\n",
    "    '''\n",
    "    This function scrapes all of the evironmental urls from\n",
    "    the github search page and returns a list of urls.\n",
    "    '''\n",
    "    # get the first 15 pages to allow for those that don't have readme or language\n",
    "    pages = range(51, 100)\n",
    "    urls = []\n",
    "    \n",
    "    for p in pages:\n",
    "        \n",
    "        # format string of the base url for the main github search page we are using to update with page number\n",
    "        url = f'https://github.com/search?o=desc&p={p}&q=environmental&s=&type=Repositories'\n",
    "\n",
    "        # Make request and soup object using helper\n",
    "        soup = acquire_ry.make_soup(url)\n",
    "\n",
    "        # Create a list of the anchor elements that hold the urls on this search page\n",
    "        page_urls_list = soup.find_all('a', class_='v-align-middle')\n",
    "        # for each url in the find all list get just the 'href' link\n",
    "        page_urls = {link.get('href') for link in page_urls_list}\n",
    "        # make a list of these urls\n",
    "        page_urls = list(page_urls)\n",
    "        # append the list from the page to the full list to return\n",
    "        urls.append(page_urls)\n",
    "        time.sleep(3)\n",
    "        \n",
    "    # flatten the urls list\n",
    "    urls = [y for x in urls for y in x]\n",
    "    return urls\n",
    "# this produces a flattened list of lists"
   ]
  },
  {
   "cell_type": "code",
   "execution_count": null,
   "metadata": {},
   "outputs": [],
   "source": [
    "urltest = github_urls()\n",
    "len(urltest)"
   ]
  },
  {
   "cell_type": "code",
   "execution_count": null,
   "metadata": {},
   "outputs": [],
   "source": [
    "urltest"
   ]
  },
  {
   "cell_type": "code",
   "execution_count": null,
   "metadata": {},
   "outputs": [],
   "source": [
    "urltest2 = github_urls()\n",
    "len(urltest2)"
   ]
  },
  {
   "cell_type": "code",
   "execution_count": null,
   "metadata": {},
   "outputs": [],
   "source": [
    "urltest2"
   ]
  },
  {
   "cell_type": "code",
   "execution_count": null,
   "metadata": {},
   "outputs": [],
   "source": [
    "flattened_list"
   ]
  },
  {
   "cell_type": "code",
   "execution_count": null,
   "metadata": {},
   "outputs": [],
   "source": []
  },
  {
   "cell_type": "code",
   "execution_count": null,
   "metadata": {},
   "outputs": [],
   "source": [
    "def get_github(url_list, cached=False):\n",
    "    '''\n",
    "    This function with default cached == False does a fresh scrape of github pages returned from\n",
    "    search of 'environmental' and writes the returned df to a json file.\n",
    "    cached == True returns a df read in from a json file.\n",
    "    '''\n",
    "    # option to read in a json file instead of scrape for df\n",
    "    if cached == True:\n",
    "        df = pd.read_json('readmes.json')\n",
    "        \n",
    "    # cached == False completes a fresh scrape for df    \n",
    "    else:\n",
    "#         # get url list\n",
    "#         url_list = github_urls()\n",
    "\n",
    "        # Set base_url that will be used in get request\n",
    "        base_url = 'https://github.com'\n",
    "        \n",
    "        # List of full url needed to get readme info\n",
    "        readme_url_list = []\n",
    "        for url in url_list:\n",
    "            full_url = base_url + url\n",
    "            readme_url_list.append(full_url)\n",
    "        \n",
    "        # Create an empty list, readmes, to hold our dictionaries\n",
    "        readmes = []\n",
    "\n",
    "        for readme_url in readme_url_list:\n",
    "            # Make request and soup object using helper\n",
    "            soup = acquire_ry.make_soup(readme_url)\n",
    "\n",
    "            if soup.find('article', class_=\"markdown-body entry-content container-lg\") != None:            \n",
    "                # Save the text in each readme to variable text\n",
    "                content = soup.find('article', class_=\"markdown-body entry-content container-lg\").text\n",
    "            \n",
    "            if soup.find('span', class_=\"text-gray-dark text-bold mr-1\") != None:\n",
    "            # Save the first language in each readme to variable text\n",
    "                # NOTE: this is the majority language, not all of the languages used\n",
    "                language = soup.find('span', class_=\"text-gray-dark text-bold mr-1\").text\n",
    "\n",
    "                # anything else useful on the page?\n",
    "\n",
    "                # Create a dictionary holding the title and content for each blog\n",
    "                readme = {'language': language, 'content': content}\n",
    "\n",
    "                # Add each dictionary to the articles list of dictionaries\n",
    "                readmes.append(readme)\n",
    "            \n",
    "        # convert our list of dictionaries to a df\n",
    "        df = pd.DataFrame(readmes)\n",
    "\n",
    "        # Write df to a json file for faster access\n",
    "        df.to_json('readmes.json')\n",
    "\n",
    "    \n",
    "    return df"
   ]
  },
  {
   "cell_type": "code",
   "execution_count": null,
   "metadata": {},
   "outputs": [],
   "source": [
    "testdf = get_github(urltest, cached=False)"
   ]
  },
  {
   "cell_type": "code",
   "execution_count": null,
   "metadata": {},
   "outputs": [],
   "source": [
    "testdf.info()"
   ]
  },
  {
   "cell_type": "code",
   "execution_count": null,
   "metadata": {},
   "outputs": [],
   "source": [
    "traindf = get_github(urltest2, cached=False)"
   ]
  },
  {
   "cell_type": "code",
   "execution_count": null,
   "metadata": {},
   "outputs": [],
   "source": [
    "traindf.info()"
   ]
  },
  {
   "cell_type": "code",
   "execution_count": null,
   "metadata": {},
   "outputs": [],
   "source": [
    "checkdf = pd.read_json('readmes.json')\n",
    "checkdf.info()"
   ]
  },
  {
   "cell_type": "code",
   "execution_count": null,
   "metadata": {},
   "outputs": [],
   "source": [
    "checkdf.head()"
   ]
  },
  {
   "cell_type": "code",
   "execution_count": null,
   "metadata": {},
   "outputs": [],
   "source": []
  }
 ],
 "metadata": {
  "kernelspec": {
   "display_name": "Python 3",
   "language": "python",
   "name": "python3"
  },
  "language_info": {
   "codemirror_mode": {
    "name": "ipython",
    "version": 3
   },
   "file_extension": ".py",
   "mimetype": "text/x-python",
   "name": "python",
   "nbconvert_exporter": "python",
   "pygments_lexer": "ipython3",
   "version": "3.7.9"
  },
  "toc": {
   "base_numbering": 1,
   "nav_menu": {},
   "number_sections": true,
   "sideBar": true,
   "skip_h1_title": false,
   "title_cell": "Table of Contents",
   "title_sidebar": "Contents",
   "toc_cell": false,
   "toc_position": {},
   "toc_section_display": true,
   "toc_window_display": false
  }
 },
 "nbformat": 4,
 "nbformat_minor": 4
}
