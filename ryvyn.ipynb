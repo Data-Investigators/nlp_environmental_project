{
 "cells": [
  {
   "cell_type": "code",
   "execution_count": 2,
   "metadata": {},
   "outputs": [],
   "source": [
    "import acquire\n",
    "import acquire_ry\n",
    "import prepare\n",
    "import scrape\n",
    "\n",
    "import pandas as pd\n",
    "import matplotlib as plt\n",
    "import numpy as np\n",
    "\n"
   ]
  },
  {
   "cell_type": "code",
   "execution_count": null,
   "metadata": {},
   "outputs": [],
   "source": [
    "def github_urls():\n",
    "    '''\n",
    "    This function scrapes all of the evironmental urls from\n",
    "    the github search page and returns a list of urls.\n",
    "    '''\n",
    "    # The base url for the main Codeup blog page\n",
    "    url = 'https://github.com/search?o=desc&p=1&q=environmental&s=&type=Repositories'\n",
    "    \n",
    "    # Make request and soup object using helper\n",
    "    soup = acquire.make_soup(url)\n",
    "    \n",
    "    # Create a list of the anchor elements that hold the urls.\n",
    "    urls_list = soup.find_all('a', class_='v-align-middle')\n",
    "    # for each url in the find all list get just the 'href' link\n",
    "    urls = {link.get('href') for link in urls_list}\n",
    "    # make a list of these urls\n",
    "    urls = list(urls)\n",
    "    return urls\n",
    "# this gets 1st 10 urls, will need to get next 10 pages\n"
   ]
  },
  {
   "cell_type": "code",
   "execution_count": null,
   "metadata": {},
   "outputs": [],
   "source": [
    "url_list = github_urls()\n",
    "url_list"
   ]
  },
  {
   "cell_type": "code",
   "execution_count": null,
   "metadata": {},
   "outputs": [],
   "source": [
    "def get_github(url_list, cached=False):\n",
    "    '''\n",
    "    This function with default cached == False does a fresh scrape of github pages returned from\n",
    "    search of 'environmental' and writes the returned df to a json file.\n",
    "    cached == True returns a df read in from a json file.\n",
    "    '''\n",
    "    # option to read in a json file instead of scrape for df\n",
    "    if cached == True:\n",
    "        df = pd.read_json('readmes.json')\n",
    "        \n",
    "    # cached == False completes a fresh scrape for df    \n",
    "    else:\n",
    "    \n",
    "        # Set base_url that will be used in get request\n",
    "        base_url = 'https://github.com'\n",
    "        \n",
    "        # List of full url needed to get readme info\n",
    "        readme_url_list = []\n",
    "        for url in url_list:\n",
    "            full_url = base_url + url\n",
    "            readme_url_list.append(full_url)\n",
    "        \n",
    "        # Create an empty list, readmes, to hold our dictionaries\n",
    "        readmes = []\n",
    "\n",
    "        for readme_url in readme_url_list:\n",
    "            # Make request and soup object using helper\n",
    "            soup = acquire.make_soup(readme_url)\n",
    "\n",
    "            if soup.find('article', class_=\"markdown-body entry-content container-lg\") != None:            \n",
    "                # Save the text in each readme to variable text\n",
    "                content = soup.find('article', class_=\"markdown-body entry-content container-lg\").text\n",
    "            \n",
    "            if soup.find('span', class_=\"text-gray-dark text-bold mr-1\") != None:\n",
    "            # Save the first language in each readme to variable text\n",
    "                # NOTE: this is the majority language, not all of the languages used\n",
    "                language = soup.find('span', class_=\"text-gray-dark text-bold mr-1\").text\n",
    "\n",
    "            # anything else useful on the page?\n",
    "\n",
    "            # Create a dictionary holding the title and content for each blog\n",
    "            readme = {'language': language, 'content': content}\n",
    "\n",
    "            # Add each dictionary to the articles list of dictionaries\n",
    "            readmes.append(readme)\n",
    "            \n",
    "        # convert our list of dictionaries to a df\n",
    "        df = pd.DataFrame(readmes)\n",
    "\n",
    "        # Write df to a json file for faster access\n",
    "        df.to_json('readmes.json')\n",
    "\n",
    "    \n",
    "    return df"
   ]
  },
  {
   "cell_type": "code",
   "execution_count": null,
   "metadata": {},
   "outputs": [],
   "source": [
    "first_ten = get_github(url_list, cached=False)\n",
    "first_ten"
   ]
  },
  {
   "cell_type": "code",
   "execution_count": null,
   "metadata": {},
   "outputs": [],
   "source": [
    "base_url = 'https://github.com'\n",
    "readme_url_list = []\n",
    "for url in url_list:\n",
    "    full_url = base_url + url\n",
    "    readme_url_list.append(full_url)\n",
    "    \n",
    "readme_url_list"
   ]
  },
  {
   "cell_type": "code",
   "execution_count": null,
   "metadata": {},
   "outputs": [],
   "source": [
    "soup = acquire.make_soup('https://github.com/emoncms/emoncms')"
   ]
  },
  {
   "cell_type": "code",
   "execution_count": null,
   "metadata": {},
   "outputs": [],
   "source": [
    "content = soup.find('div', class_=\"Box-body px-5 pb-5\")"
   ]
  },
  {
   "cell_type": "code",
   "execution_count": null,
   "metadata": {},
   "outputs": [],
   "source": [
    "content"
   ]
  },
  {
   "cell_type": "code",
   "execution_count": null,
   "metadata": {},
   "outputs": [],
   "source": []
  },
  {
   "cell_type": "code",
   "execution_count": null,
   "metadata": {},
   "outputs": [],
   "source": [
    "language = soup.find('span', class_=\"text-gray-dark text-bold mr-1\").text"
   ]
  },
  {
   "cell_type": "code",
   "execution_count": null,
   "metadata": {},
   "outputs": [],
   "source": [
    "language"
   ]
  },
  {
   "cell_type": "code",
   "execution_count": null,
   "metadata": {},
   "outputs": [],
   "source": []
  },
  {
   "cell_type": "code",
   "execution_count": 3,
   "metadata": {},
   "outputs": [
    {
     "data": {
      "text/html": [
       "<div>\n",
       "<style scoped>\n",
       "    .dataframe tbody tr th:only-of-type {\n",
       "        vertical-align: middle;\n",
       "    }\n",
       "\n",
       "    .dataframe tbody tr th {\n",
       "        vertical-align: top;\n",
       "    }\n",
       "\n",
       "    .dataframe thead th {\n",
       "        text-align: right;\n",
       "    }\n",
       "</style>\n",
       "<table border=\"1\" class=\"dataframe\">\n",
       "  <thead>\n",
       "    <tr style=\"text-align: right;\">\n",
       "      <th></th>\n",
       "      <th>language</th>\n",
       "      <th>content</th>\n",
       "    </tr>\n",
       "  </thead>\n",
       "  <tbody>\n",
       "    <tr>\n",
       "      <th>0</th>\n",
       "      <td>JavaScript</td>\n",
       "      <td>Leaflet Environmental Layers (LEL)\\n\\n \\n\\n\\n\\...</td>\n",
       "    </tr>\n",
       "    <tr>\n",
       "      <th>1</th>\n",
       "      <td>PHP</td>\n",
       "      <td>Emoncms\\n\\n\\nEmoncms is an open-source web app...</td>\n",
       "    </tr>\n",
       "    <tr>\n",
       "      <th>2</th>\n",
       "      <td>Python</td>\n",
       "      <td>NO LONGER SUPPORTED\\nEBOWLA\\nUSAGE: ./ebowla.p...</td>\n",
       "    </tr>\n",
       "    <tr>\n",
       "      <th>3</th>\n",
       "      <td>PowerShell</td>\n",
       "      <td>dbachecks\\n\\ndbachecks is a framework created ...</td>\n",
       "    </tr>\n",
       "    <tr>\n",
       "      <th>4</th>\n",
       "      <td>Python</td>\n",
       "      <td>\\n\\nEARS: Environmental Audio Recognition Syst...</td>\n",
       "    </tr>\n",
       "    <tr>\n",
       "      <th>5</th>\n",
       "      <td>Python</td>\n",
       "      <td>Mycodo\\nEnvironmental Regulation System\\nLates...</td>\n",
       "    </tr>\n",
       "    <tr>\n",
       "      <th>6</th>\n",
       "      <td>GLSL</td>\n",
       "      <td>EnvironmentalVisualEnhancements\\nVisual enhanc...</td>\n",
       "    </tr>\n",
       "    <tr>\n",
       "      <th>7</th>\n",
       "      <td>Python</td>\n",
       "      <td>ESC-50: Dataset for Environmental Sound Classi...</td>\n",
       "    </tr>\n",
       "  </tbody>\n",
       "</table>\n",
       "</div>"
      ],
      "text/plain": [
       "     language                                            content\n",
       "0  JavaScript  Leaflet Environmental Layers (LEL)\\n\\n \\n\\n\\n\\...\n",
       "1         PHP  Emoncms\\n\\n\\nEmoncms is an open-source web app...\n",
       "2      Python  NO LONGER SUPPORTED\\nEBOWLA\\nUSAGE: ./ebowla.p...\n",
       "3  PowerShell  dbachecks\\n\\ndbachecks is a framework created ...\n",
       "4      Python  \\n\\nEARS: Environmental Audio Recognition Syst...\n",
       "5      Python  Mycodo\\nEnvironmental Regulation System\\nLates...\n",
       "6        GLSL  EnvironmentalVisualEnhancements\\nVisual enhanc...\n",
       "7      Python  ESC-50: Dataset for Environmental Sound Classi..."
      ]
     },
     "execution_count": 3,
     "metadata": {},
     "output_type": "execute_result"
    }
   ],
   "source": [
    "df = acquire_ry.get_github(cached=True)\n",
    "df"
   ]
  },
  {
   "cell_type": "code",
   "execution_count": null,
   "metadata": {},
   "outputs": [],
   "source": []
  },
  {
   "cell_type": "code",
   "execution_count": null,
   "metadata": {},
   "outputs": [],
   "source": []
  }
 ],
 "metadata": {
  "kernelspec": {
   "display_name": "Python 3",
   "language": "python",
   "name": "python3"
  },
  "language_info": {
   "codemirror_mode": {
    "name": "ipython",
    "version": 3
   },
   "file_extension": ".py",
   "mimetype": "text/x-python",
   "name": "python",
   "nbconvert_exporter": "python",
   "pygments_lexer": "ipython3",
   "version": "3.7.9"
  },
  "toc": {
   "base_numbering": 1,
   "nav_menu": {},
   "number_sections": true,
   "sideBar": true,
   "skip_h1_title": false,
   "title_cell": "Table of Contents",
   "title_sidebar": "Contents",
   "toc_cell": false,
   "toc_position": {},
   "toc_section_display": true,
   "toc_window_display": false
  }
 },
 "nbformat": 4,
 "nbformat_minor": 4
}
