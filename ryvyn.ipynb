{
 "cells": [
  {
   "cell_type": "code",
   "execution_count": 1,
   "metadata": {},
   "outputs": [],
   "source": [
    "import acquire\n",
    "import acquire_ry\n",
    "import ry_prepare\n",
    "import ry_wrangle\n",
    "import prepare\n",
    "import scrape\n",
    "\n",
    "import pandas as pd\n",
    "import matplotlib as plt\n",
    "import numpy as np\n",
    "import time\n",
    "\n",
    "\n",
    "import unicodedata\n",
    "import re\n",
    "import nltk\n",
    "from nltk.tokenize.toktok import ToktokTokenizer\n",
    "from nltk.corpus import stopwords"
   ]
  },
  {
   "cell_type": "code",
   "execution_count": 2,
   "metadata": {},
   "outputs": [
    {
     "name": "stdout",
     "output_type": "stream",
     "text": [
      "acquiring data\n",
      "preparing data\n",
      "splitting data\n",
      "complete\n",
      "X-train shape (234, 6) X_validate shape (79, 6) X_test shape (79, 6)\n"
     ]
    }
   ],
   "source": [
    "# full wrangle test\n",
    "train_exp, X_train, y_train, X_validate, y_validate, X_test, y_test = ry_wrangle.wrangle_github(cached=True)"
   ]
  },
  {
   "cell_type": "code",
   "execution_count": 5,
   "metadata": {},
   "outputs": [],
   "source": [
    "check = pd.read_json('readmes2.json')"
   ]
  },
  {
   "cell_type": "code",
   "execution_count": 6,
   "metadata": {},
   "outputs": [
    {
     "name": "stdout",
     "output_type": "stream",
     "text": [
      "<class 'pandas.core.frame.DataFrame'>\n",
      "Int64Index: 827 entries, 0 to 826\n",
      "Data columns (total 2 columns):\n",
      " #   Column    Non-Null Count  Dtype \n",
      "---  ------    --------------  ----- \n",
      " 0   language  827 non-null    object\n",
      " 1   content   827 non-null    object\n",
      "dtypes: object(2)\n",
      "memory usage: 19.4+ KB\n"
     ]
    }
   ],
   "source": [
    "check.info()"
   ]
  },
  {
   "cell_type": "code",
   "execution_count": 3,
   "metadata": {},
   "outputs": [
    {
     "data": {
      "text/html": [
       "<div>\n",
       "<style scoped>\n",
       "    .dataframe tbody tr th:only-of-type {\n",
       "        vertical-align: middle;\n",
       "    }\n",
       "\n",
       "    .dataframe tbody tr th {\n",
       "        vertical-align: top;\n",
       "    }\n",
       "\n",
       "    .dataframe thead th {\n",
       "        text-align: right;\n",
       "    }\n",
       "</style>\n",
       "<table border=\"1\" class=\"dataframe\">\n",
       "  <thead>\n",
       "    <tr style=\"text-align: right;\">\n",
       "      <th></th>\n",
       "      <th>language</th>\n",
       "      <th>content</th>\n",
       "      <th>clean</th>\n",
       "      <th>stemmed</th>\n",
       "      <th>lemmatized</th>\n",
       "      <th>words</th>\n",
       "      <th>doc_length</th>\n",
       "    </tr>\n",
       "  </thead>\n",
       "  <tbody>\n",
       "    <tr>\n",
       "      <th>26</th>\n",
       "      <td>HTML</td>\n",
       "      <td>Environmental_Data_Analytics\\nData analytics c...</td>\n",
       "      <td>environmentaldataanalytics data analytics cour...</td>\n",
       "      <td>environmentaldataanalyt data analyt cours duke...</td>\n",
       "      <td>environmentaldataanalytics data analytics cour...</td>\n",
       "      <td>[environmentaldataanalytics, data, analytics, ...</td>\n",
       "      <td>74</td>\n",
       "    </tr>\n",
       "    <tr>\n",
       "      <th>36</th>\n",
       "      <td>Java</td>\n",
       "      <td>MinCED - Mining CRISPRs in Environmental Datas...</td>\n",
       "      <td>minced mining crisprs environmental datasets m...</td>\n",
       "      <td>minc mine crispr environment dataset minc prog...</td>\n",
       "      <td>minced mining crisprs environmental datasets m...</td>\n",
       "      <td>[minced, mining, crisprs, environmental, datas...</td>\n",
       "      <td>219</td>\n",
       "    </tr>\n",
       "    <tr>\n",
       "      <th>35</th>\n",
       "      <td>Python</td>\n",
       "      <td>Open Simulation Interface (OSI)\\n\\nThe Open Si...</td>\n",
       "      <td>open simulation interface osi open simulation ...</td>\n",
       "      <td>open simul interfac osi open simul interfac 1 ...</td>\n",
       "      <td>open simulation interface osi open simulation ...</td>\n",
       "      <td>[open, simulation, interface, osi, open, simul...</td>\n",
       "      <td>259</td>\n",
       "    </tr>\n",
       "    <tr>\n",
       "      <th>156</th>\n",
       "      <td>Python</td>\n",
       "      <td>Community Water Model (CWatM)\\nIIASA\\n13rd Oct...</td>\n",
       "      <td>community water model cwatm iiasa 13rd october...</td>\n",
       "      <td>commun water model cwatm iiasa 13rd octob 2020...</td>\n",
       "      <td>community water model cwatm iiasa 13rd october...</td>\n",
       "      <td>[community, water, model, cwatm, iiasa, 13rd, ...</td>\n",
       "      <td>245</td>\n",
       "    </tr>\n",
       "    <tr>\n",
       "      <th>546</th>\n",
       "      <td>HTML</td>\n",
       "      <td>EnvironmentalGame\\nThis game was developed for...</td>\n",
       "      <td>environmentalgame game developed ' environment...</td>\n",
       "      <td>environmentalgam game develop ' environ scienc...</td>\n",
       "      <td>environmentalgame game developed ' environment...</td>\n",
       "      <td>[environmentalgame, game, developedenvironment...</td>\n",
       "      <td>9</td>\n",
       "    </tr>\n",
       "  </tbody>\n",
       "</table>\n",
       "</div>"
      ],
      "text/plain": [
       "    language                                            content  \\\n",
       "26      HTML  Environmental_Data_Analytics\\nData analytics c...   \n",
       "36      Java  MinCED - Mining CRISPRs in Environmental Datas...   \n",
       "35    Python  Open Simulation Interface (OSI)\\n\\nThe Open Si...   \n",
       "156   Python  Community Water Model (CWatM)\\nIIASA\\n13rd Oct...   \n",
       "546     HTML  EnvironmentalGame\\nThis game was developed for...   \n",
       "\n",
       "                                                 clean  \\\n",
       "26   environmentaldataanalytics data analytics cour...   \n",
       "36   minced mining crisprs environmental datasets m...   \n",
       "35   open simulation interface osi open simulation ...   \n",
       "156  community water model cwatm iiasa 13rd october...   \n",
       "546  environmentalgame game developed ' environment...   \n",
       "\n",
       "                                               stemmed  \\\n",
       "26   environmentaldataanalyt data analyt cours duke...   \n",
       "36   minc mine crispr environment dataset minc prog...   \n",
       "35   open simul interfac osi open simul interfac 1 ...   \n",
       "156  commun water model cwatm iiasa 13rd octob 2020...   \n",
       "546  environmentalgam game develop ' environ scienc...   \n",
       "\n",
       "                                            lemmatized  \\\n",
       "26   environmentaldataanalytics data analytics cour...   \n",
       "36   minced mining crisprs environmental datasets m...   \n",
       "35   open simulation interface osi open simulation ...   \n",
       "156  community water model cwatm iiasa 13rd october...   \n",
       "546  environmentalgame game developed ' environment...   \n",
       "\n",
       "                                                 words  doc_length  \n",
       "26   [environmentaldataanalytics, data, analytics, ...          74  \n",
       "36   [minced, mining, crisprs, environmental, datas...         219  \n",
       "35   [open, simulation, interface, osi, open, simul...         259  \n",
       "156  [community, water, model, cwatm, iiasa, 13rd, ...         245  \n",
       "546  [environmentalgame, game, developedenvironment...           9  "
      ]
     },
     "execution_count": 3,
     "metadata": {},
     "output_type": "execute_result"
    }
   ],
   "source": [
    "train_exp.head()"
   ]
  },
  {
   "cell_type": "code",
   "execution_count": 4,
   "metadata": {},
   "outputs": [
    {
     "data": {
      "text/html": [
       "<div>\n",
       "<style scoped>\n",
       "    .dataframe tbody tr th:only-of-type {\n",
       "        vertical-align: middle;\n",
       "    }\n",
       "\n",
       "    .dataframe tbody tr th {\n",
       "        vertical-align: top;\n",
       "    }\n",
       "\n",
       "    .dataframe thead th {\n",
       "        text-align: right;\n",
       "    }\n",
       "</style>\n",
       "<table border=\"1\" class=\"dataframe\">\n",
       "  <thead>\n",
       "    <tr style=\"text-align: right;\">\n",
       "      <th></th>\n",
       "      <th>n</th>\n",
       "      <th>percent</th>\n",
       "    </tr>\n",
       "  </thead>\n",
       "  <tbody>\n",
       "    <tr>\n",
       "      <th>Python</th>\n",
       "      <td>83</td>\n",
       "      <td>0.354701</td>\n",
       "    </tr>\n",
       "    <tr>\n",
       "      <th>JavaScript</th>\n",
       "      <td>62</td>\n",
       "      <td>0.264957</td>\n",
       "    </tr>\n",
       "    <tr>\n",
       "      <th>HTML</th>\n",
       "      <td>49</td>\n",
       "      <td>0.209402</td>\n",
       "    </tr>\n",
       "    <tr>\n",
       "      <th>Java</th>\n",
       "      <td>40</td>\n",
       "      <td>0.170940</td>\n",
       "    </tr>\n",
       "  </tbody>\n",
       "</table>\n",
       "</div>"
      ],
      "text/plain": [
       "             n   percent\n",
       "Python      83  0.354701\n",
       "JavaScript  62  0.264957\n",
       "HTML        49  0.209402\n",
       "Java        40  0.170940"
      ]
     },
     "execution_count": 4,
     "metadata": {},
     "output_type": "execute_result"
    }
   ],
   "source": [
    "# check balance of dataset for under/over sampling\n",
    "labels = pd.concat([train_exp.language.value_counts(), # get total counts of languages\n",
    "                    train_exp.language.value_counts(normalize=True)], axis=1) # getting the prop of languages\n",
    "labels.columns = ['n', 'percent']\n",
    "labels"
   ]
  },
  {
   "cell_type": "code",
   "execution_count": null,
   "metadata": {},
   "outputs": [],
   "source": [
    "python_words = ' '.join(train.exp[df.label=='ham'].text_filtered)\n",
    "spam_words = ' '.join(df[df.label=='spam'].text_filtered)\n",
    "\n",
    "ham_words = re.sub(r'\\s.\\s', '', ham_words)\n",
    "spam_words = re.sub(r'\\s.\\s', '', spam_words)\n",
    "\n",
    "spam_words"
   ]
  },
  {
   "cell_type": "code",
   "execution_count": null,
   "metadata": {},
   "outputs": [],
   "source": [
    "ham_freq = pd.Series(ham_words.split()).value_counts()\n",
    "spam_freq = pd.Series(spam_words.split()).value_counts()\n",
    "\n",
    "spam_freq.head()"
   ]
  }
 ],
 "metadata": {
  "kernelspec": {
   "display_name": "Python 3",
   "language": "python",
   "name": "python3"
  },
  "language_info": {
   "codemirror_mode": {
    "name": "ipython",
    "version": 3
   },
   "file_extension": ".py",
   "mimetype": "text/x-python",
   "name": "python",
   "nbconvert_exporter": "python",
   "pygments_lexer": "ipython3",
   "version": "3.7.9"
  },
  "toc": {
   "base_numbering": 1,
   "nav_menu": {},
   "number_sections": true,
   "sideBar": true,
   "skip_h1_title": false,
   "title_cell": "Table of Contents",
   "title_sidebar": "Contents",
   "toc_cell": false,
   "toc_position": {},
   "toc_section_display": true,
   "toc_window_display": false
  }
 },
 "nbformat": 4,
 "nbformat_minor": 4
}
