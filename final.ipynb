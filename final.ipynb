{
 "cells": [
  {
   "cell_type": "markdown",
   "metadata": {},
   "source": [
    "# NLP Project - Predicting Programming Language"
   ]
  },
  {
   "cell_type": "markdown",
   "metadata": {},
   "source": [
    "## Summary\n",
    "\n",
    "Can the primary programming language of the repository be determine through Natural Language Processing analysis of the readme text?\n",
    "\n",
    "For this project, we will be scraping data from GitHub repository README files. The goal will be to build a model that can predict what programming language a repository is, given the text of the README file.\n",
    "\n",
    "* Who are our customers?\n",
    "    - general audience\n",
    "* What is the problem?\n",
    "    - want to predict program language from words in readme content\n",
    "* What solution do you propose?\n",
    "    - Explore readme content for common words and phrases to identify features \n",
    "    - Model on Bag or Words and TF-IDF \n",
    "* How will you know if your work is good?\n",
    "    - model accuracy will be better than baseline"
   ]
  },
  {
   "cell_type": "markdown",
   "metadata": {},
   "source": [
    "### Work Plan\n",
    "\n",
    "**Assignment**\n",
    "- For this project, you will be scraping data from GitHub repository README files. The goal will be to build a model that can predict what programming language a repository is, given the text of the README file.\n",
    "\n",
    "**Approach**\n",
    "- Using webscraping collect readme text and programming language from a minimum of 100 GitHub repositories\n",
    "- Explore the collected information to determine features for modeling\n",
    "- Verify dataset is not imbalanced, correct with over/under sampling if needed\n",
    "- Create a Baseline Model using most frequent language in dataset as prediction\n",
    "- Use BOW (Bag of Words) and TF-IDF machine learning algorithms to improve prediction accuracy/F1 score/precision/recall\n",
    "- Identify conclusions and next steps\n"
   ]
  },
  {
   "cell_type": "markdown",
   "metadata": {},
   "source": [
    "## Imports\n"
   ]
  },
  {
   "cell_type": "code",
   "execution_count": 1,
   "metadata": {},
   "outputs": [],
   "source": [
    "import acquire_ry\n",
    "import ry_prepare\n",
    "import ry_wrangle\n",
    "import explore\n",
    "import model as m\n",
    "import pandas as pd\n",
    "explore.set_plotting_defaults()\n",
    "\n",
    "from sklearn.feature_extraction.text import CountVectorizer\n",
    "from sklearn.feature_extraction.text import TfidfVectorizer\n"
   ]
  },
  {
   "cell_type": "markdown",
   "metadata": {},
   "source": [
    "# Acquire the Data\n",
    "\n",
    "- Decided to search for repos with the word \"environmental\" to see if there was a language that was in more frequent use for these repos\n",
    "- Created function to fetch all urls from the first search page and return them as a list\n",
    "    - Discovered each search page contained links to 10 repos\n",
    "- With that list of urls then inspected the repo for the HTML needed to get the readme text and primary(first listed) programming language\n",
    "- Updated url function to iterate through search pages and return flattened list of urls\n",
    "    - had to only fetch info from repos with needed text (exclude empty or repos with text not in container)\n",
    "    - this returned 827 observations for 100 search pages (or 1,000 repos) scrapped\n",
    "- cached .json file for further use as function run time is very high\n",
    "- all functions stored in acquire.py file for future replication\n"
   ]
  },
  {
   "cell_type": "markdown",
   "metadata": {},
   "source": [
    "# Prepare the Data\n",
    "\n",
    "- load data from cached file\n",
    "- noted that over 10 different languages are present in the dataset\n",
    "    - decided to focus on the top 4 in our dataset = Python, JavaScript, HTML, Java\n",
    "    - added words column and doc_length column in preparation for Explore\n",
    "- cleaned data\n",
    "    - change all to lowercase, remove special characters by converting to ascii then returning to UTF-8, and replace anything that is not a letter, number, whitespace or a single quote\n",
    "    - Use NLTK TlktokTokenizer to separate/tokenize text\n",
    "    - Remove stopwords from text with function that allows for additional words to exclude, or words to not exclude\n",
    "        - NOTE: during Exploration noticed words 'data', 'file', and 'environmental' appear in the top 5 words for all categories\n",
    "        - Added these words to the stopwords list to reduce noise\n",
    "     - Create column of stemmed text and separate column of lemmatized text for Exploration and Modeling\n",
    "- Split the dataset into train, validate, and test datasets and defined X and y sets for modeling, also return a separate set train_exp for Exploration"
   ]
  },
  {
   "cell_type": "code",
   "execution_count": 2,
   "metadata": {},
   "outputs": [
    {
     "name": "stdout",
     "output_type": "stream",
     "text": [
      "acquiring data\n",
      "preparing data\n",
      "splitting data\n",
      "complete\n",
      "X-train shape (234, 6) X_validate shape (79, 6) X_test shape (79, 6)\n"
     ]
    }
   ],
   "source": [
    "# get datasets\n",
    "train_exp, X_train, y_train, X_validate, y_validate, X_test, y_test = ry_wrangle.wrangle_github(cached=True)"
   ]
  },
  {
   "cell_type": "markdown",
   "metadata": {},
   "source": [
    "# Explore the Data\n",
    "\n",
    "- Check for imbalance in the dataset\n",
    "    - Balance looks ok, do not need to over/under sample\n",
    "- create list of words by language category\n",
    "- noticed words 'data', 'file', and 'environmental' appear in the top 5 words for all categories\n",
    "    - these words have been removed to reduce noise\n"
   ]
  },
  {
   "cell_type": "code",
   "execution_count": 3,
   "metadata": {},
   "outputs": [
    {
     "data": {
      "text/html": [
       "<div>\n",
       "<style scoped>\n",
       "    .dataframe tbody tr th:only-of-type {\n",
       "        vertical-align: middle;\n",
       "    }\n",
       "\n",
       "    .dataframe tbody tr th {\n",
       "        vertical-align: top;\n",
       "    }\n",
       "\n",
       "    .dataframe thead th {\n",
       "        text-align: right;\n",
       "    }\n",
       "</style>\n",
       "<table border=\"1\" class=\"dataframe\">\n",
       "  <thead>\n",
       "    <tr style=\"text-align: right;\">\n",
       "      <th></th>\n",
       "      <th>n</th>\n",
       "      <th>percent</th>\n",
       "    </tr>\n",
       "  </thead>\n",
       "  <tbody>\n",
       "    <tr>\n",
       "      <th>Python</th>\n",
       "      <td>83</td>\n",
       "      <td>0.354701</td>\n",
       "    </tr>\n",
       "    <tr>\n",
       "      <th>JavaScript</th>\n",
       "      <td>62</td>\n",
       "      <td>0.264957</td>\n",
       "    </tr>\n",
       "    <tr>\n",
       "      <th>HTML</th>\n",
       "      <td>49</td>\n",
       "      <td>0.209402</td>\n",
       "    </tr>\n",
       "    <tr>\n",
       "      <th>Java</th>\n",
       "      <td>40</td>\n",
       "      <td>0.170940</td>\n",
       "    </tr>\n",
       "  </tbody>\n",
       "</table>\n",
       "</div>"
      ],
      "text/plain": [
       "             n   percent\n",
       "Python      83  0.354701\n",
       "JavaScript  62  0.264957\n",
       "HTML        49  0.209402\n",
       "Java        40  0.170940"
      ]
     },
     "execution_count": 3,
     "metadata": {},
     "output_type": "execute_result"
    }
   ],
   "source": [
    "# check balance of dataset for under/over sampling\n",
    "explore.check_proportion(train_exp)\n",
    "# balance is not bad, will not need to over/under sample"
   ]
  },
  {
   "cell_type": "code",
   "execution_count": 4,
   "metadata": {},
   "outputs": [],
   "source": [
    "# create a list of words for each language category and remove single letter words\n",
    "python_words, js_words, html_words, java_words = explore.create_lang_word_list(train_exp)\n",
    "# get the count of words by category\n",
    "python_freq, js_freq, html_freq, java_freq = explore.get_count_word_freq(python_words, js_words, html_words, java_words)"
   ]
  },
  {
   "cell_type": "code",
   "execution_count": 5,
   "metadata": {},
   "outputs": [
    {
     "data": {
      "text/plain": [
       "00           226\n",
       "using        121\n",
       "install      104\n",
       "sensor       100\n",
       "database      97\n",
       "            ... \n",
       "leavework      1\n",
       "loosely        1\n",
       "advanced       1\n",
       "cold           1\n",
       "identical      1\n",
       "Length: 6976, dtype: int64"
      ]
     },
     "execution_count": 5,
     "metadata": {},
     "output_type": "execute_result"
    }
   ],
   "source": [
    "python_freq\n",
    "# note: 4 most common = '00', 'file', 'data', 'environmental'\n",
    "# results after reduced noise"
   ]
  },
  {
   "cell_type": "code",
   "execution_count": 6,
   "metadata": {},
   "outputs": [
    {
     "data": {
      "text/plain": [
       "system          81\n",
       "project         77\n",
       "device          75\n",
       "sensor          75\n",
       "install         74\n",
       "                ..\n",
       "123456789123     1\n",
       "colorize         1\n",
       "mysqlurl         1\n",
       "metal            1\n",
       "sponsor          1\n",
       "Length: 4331, dtype: int64"
      ]
     },
     "execution_count": 6,
     "metadata": {},
     "output_type": "execute_result"
    }
   ],
   "source": [
    "js_freq\n",
    "# note: 'data', 'file', 'environmental' are in top 5 words\n",
    "# results after reduced noise"
   ]
  },
  {
   "cell_type": "code",
   "execution_count": 7,
   "metadata": {},
   "outputs": [
    {
     "data": {
      "text/plain": [
       "worcester          47\n",
       "nd                 46\n",
       "retrieved          42\n",
       "source             41\n",
       "description        41\n",
       "                   ..\n",
       "inform              1\n",
       "libglmdev           1\n",
       "functional          1\n",
       "filename1985roy     1\n",
       "excel               1\n",
       "Length: 2495, dtype: int64"
      ]
     },
     "execution_count": 7,
     "metadata": {},
     "output_type": "execute_result"
    }
   ],
   "source": [
    "html_freq\n",
    "# note: 'data', 'file', 'environmental' are top 3 words\n",
    "# results after reduced noise"
   ]
  },
  {
   "cell_type": "code",
   "execution_count": 8,
   "metadata": {},
   "outputs": [
    {
     "data": {
      "text/plain": [
       "property                          103\n",
       "&#9;                               85\n",
       "new                                42\n",
       "environment                        37\n",
       "configuration                      32\n",
       "                                 ... \n",
       "play                                1\n",
       "staging                             1\n",
       "raise                               1\n",
       "settrimmingpropertyvaluesfalse      1\n",
       "filefa                              1\n",
       "Length: 1806, dtype: int64"
      ]
     },
     "execution_count": 8,
     "metadata": {},
     "output_type": "execute_result"
    }
   ],
   "source": [
    "java_freq\n",
    "# note: 'data', 'file', 'environmental' are in top 5 words\n",
    "# results after reduced noise"
   ]
  },
  {
   "cell_type": "code",
   "execution_count": 9,
   "metadata": {},
   "outputs": [
    {
     "data": {
      "text/html": [
       "<div>\n",
       "<style scoped>\n",
       "    .dataframe tbody tr th:only-of-type {\n",
       "        vertical-align: middle;\n",
       "    }\n",
       "\n",
       "    .dataframe tbody tr th {\n",
       "        vertical-align: top;\n",
       "    }\n",
       "\n",
       "    .dataframe thead th {\n",
       "        text-align: right;\n",
       "    }\n",
       "</style>\n",
       "<table border=\"1\" class=\"dataframe\">\n",
       "  <thead>\n",
       "    <tr style=\"text-align: right;\">\n",
       "      <th></th>\n",
       "      <th>Python</th>\n",
       "      <th>JavaScript</th>\n",
       "      <th>HTML</th>\n",
       "      <th>Java</th>\n",
       "      <th>all_words</th>\n",
       "    </tr>\n",
       "  </thead>\n",
       "  <tbody>\n",
       "    <tr>\n",
       "      <th>&amp;#9;</th>\n",
       "      <td>29</td>\n",
       "      <td>4</td>\n",
       "      <td>3</td>\n",
       "      <td>85</td>\n",
       "      <td>121</td>\n",
       "    </tr>\n",
       "    <tr>\n",
       "      <th>&amp;#9;&amp;#9;</th>\n",
       "      <td>0</td>\n",
       "      <td>0</td>\n",
       "      <td>0</td>\n",
       "      <td>1</td>\n",
       "      <td>1</td>\n",
       "    </tr>\n",
       "    <tr>\n",
       "      <th>&amp;#9;download</th>\n",
       "      <td>1</td>\n",
       "      <td>0</td>\n",
       "      <td>0</td>\n",
       "      <td>0</td>\n",
       "      <td>1</td>\n",
       "    </tr>\n",
       "    <tr>\n",
       "      <th>00</th>\n",
       "      <td>226</td>\n",
       "      <td>0</td>\n",
       "      <td>0</td>\n",
       "      <td>0</td>\n",
       "      <td>226</td>\n",
       "    </tr>\n",
       "    <tr>\n",
       "      <th>000</th>\n",
       "      <td>1</td>\n",
       "      <td>0</td>\n",
       "      <td>0</td>\n",
       "      <td>0</td>\n",
       "      <td>1</td>\n",
       "    </tr>\n",
       "  </tbody>\n",
       "</table>\n",
       "</div>"
      ],
      "text/plain": [
       "              Python  JavaScript  HTML  Java  all_words\n",
       "&#9;              29           4     3    85        121\n",
       "&#9;&#9;           0           0     0     1          1\n",
       "&#9;download       1           0     0     0          1\n",
       "00               226           0     0     0        226\n",
       "000                1           0     0     0          1"
      ]
     },
     "execution_count": 9,
     "metadata": {},
     "output_type": "execute_result"
    }
   ],
   "source": [
    "# combine list of word counts into df for further exploration\n",
    "word_counts = explore.create_df_word_counts(python_freq, js_freq, html_freq, java_freq)\n",
    "word_counts.head()"
   ]
  },
  {
   "cell_type": "markdown",
   "metadata": {},
   "source": [
    "Next, compute proportion of each string that for each language.    \n",
    "Because the languages are relatively balanced, we should see about the same proportion as the distibution in the dataset. If we see significantly higher or lower proportion, then that word might be a good feature in predicting that language.    \n",
    "A chi-square test could confirm or deny significance if needed.\n",
    "\n"
   ]
  },
  {
   "cell_type": "code",
   "execution_count": 10,
   "metadata": {},
   "outputs": [
    {
     "data": {
      "text/html": [
       "<div>\n",
       "<style scoped>\n",
       "    .dataframe tbody tr th:only-of-type {\n",
       "        vertical-align: middle;\n",
       "    }\n",
       "\n",
       "    .dataframe tbody tr th {\n",
       "        vertical-align: top;\n",
       "    }\n",
       "\n",
       "    .dataframe thead th {\n",
       "        text-align: right;\n",
       "    }\n",
       "</style>\n",
       "<table border=\"1\" class=\"dataframe\">\n",
       "  <thead>\n",
       "    <tr style=\"text-align: right;\">\n",
       "      <th></th>\n",
       "      <th>Python</th>\n",
       "      <th>JavaScript</th>\n",
       "      <th>HTML</th>\n",
       "      <th>Java</th>\n",
       "      <th>all_words</th>\n",
       "      <th>prop_python</th>\n",
       "      <th>prop_js</th>\n",
       "      <th>prop_html</th>\n",
       "      <th>prop_java</th>\n",
       "    </tr>\n",
       "  </thead>\n",
       "  <tbody>\n",
       "    <tr>\n",
       "      <th>&amp;#9;</th>\n",
       "      <td>29</td>\n",
       "      <td>4</td>\n",
       "      <td>3</td>\n",
       "      <td>85</td>\n",
       "      <td>121</td>\n",
       "      <td>0.239669</td>\n",
       "      <td>0.033058</td>\n",
       "      <td>0.024793</td>\n",
       "      <td>0.702479</td>\n",
       "    </tr>\n",
       "    <tr>\n",
       "      <th>&amp;#9;&amp;#9;</th>\n",
       "      <td>0</td>\n",
       "      <td>0</td>\n",
       "      <td>0</td>\n",
       "      <td>1</td>\n",
       "      <td>1</td>\n",
       "      <td>0.000000</td>\n",
       "      <td>0.000000</td>\n",
       "      <td>0.000000</td>\n",
       "      <td>1.000000</td>\n",
       "    </tr>\n",
       "    <tr>\n",
       "      <th>&amp;#9;download</th>\n",
       "      <td>1</td>\n",
       "      <td>0</td>\n",
       "      <td>0</td>\n",
       "      <td>0</td>\n",
       "      <td>1</td>\n",
       "      <td>1.000000</td>\n",
       "      <td>0.000000</td>\n",
       "      <td>0.000000</td>\n",
       "      <td>0.000000</td>\n",
       "    </tr>\n",
       "    <tr>\n",
       "      <th>00</th>\n",
       "      <td>226</td>\n",
       "      <td>0</td>\n",
       "      <td>0</td>\n",
       "      <td>0</td>\n",
       "      <td>226</td>\n",
       "      <td>1.000000</td>\n",
       "      <td>0.000000</td>\n",
       "      <td>0.000000</td>\n",
       "      <td>0.000000</td>\n",
       "    </tr>\n",
       "    <tr>\n",
       "      <th>000</th>\n",
       "      <td>1</td>\n",
       "      <td>0</td>\n",
       "      <td>0</td>\n",
       "      <td>0</td>\n",
       "      <td>1</td>\n",
       "      <td>1.000000</td>\n",
       "      <td>0.000000</td>\n",
       "      <td>0.000000</td>\n",
       "      <td>0.000000</td>\n",
       "    </tr>\n",
       "    <tr>\n",
       "      <th>000000</th>\n",
       "      <td>0</td>\n",
       "      <td>5</td>\n",
       "      <td>0</td>\n",
       "      <td>0</td>\n",
       "      <td>5</td>\n",
       "      <td>0.000000</td>\n",
       "      <td>1.000000</td>\n",
       "      <td>0.000000</td>\n",
       "      <td>0.000000</td>\n",
       "    </tr>\n",
       "    <tr>\n",
       "      <th>0000dd</th>\n",
       "      <td>0</td>\n",
       "      <td>1</td>\n",
       "      <td>0</td>\n",
       "      <td>0</td>\n",
       "      <td>1</td>\n",
       "      <td>0.000000</td>\n",
       "      <td>1.000000</td>\n",
       "      <td>0.000000</td>\n",
       "      <td>0.000000</td>\n",
       "    </tr>\n",
       "    <tr>\n",
       "      <th>0023</th>\n",
       "      <td>1</td>\n",
       "      <td>0</td>\n",
       "      <td>0</td>\n",
       "      <td>0</td>\n",
       "      <td>1</td>\n",
       "      <td>1.000000</td>\n",
       "      <td>0.000000</td>\n",
       "      <td>0.000000</td>\n",
       "      <td>0.000000</td>\n",
       "    </tr>\n",
       "    <tr>\n",
       "      <th>003</th>\n",
       "      <td>1</td>\n",
       "      <td>0</td>\n",
       "      <td>0</td>\n",
       "      <td>0</td>\n",
       "      <td>1</td>\n",
       "      <td>1.000000</td>\n",
       "      <td>0.000000</td>\n",
       "      <td>0.000000</td>\n",
       "      <td>0.000000</td>\n",
       "    </tr>\n",
       "    <tr>\n",
       "      <th>005</th>\n",
       "      <td>1</td>\n",
       "      <td>0</td>\n",
       "      <td>0</td>\n",
       "      <td>0</td>\n",
       "      <td>1</td>\n",
       "      <td>1.000000</td>\n",
       "      <td>0.000000</td>\n",
       "      <td>0.000000</td>\n",
       "      <td>0.000000</td>\n",
       "    </tr>\n",
       "  </tbody>\n",
       "</table>\n",
       "</div>"
      ],
      "text/plain": [
       "              Python  JavaScript  HTML  Java  all_words  prop_python  \\\n",
       "&#9;              29           4     3    85        121     0.239669   \n",
       "&#9;&#9;           0           0     0     1          1     0.000000   \n",
       "&#9;download       1           0     0     0          1     1.000000   \n",
       "00               226           0     0     0        226     1.000000   \n",
       "000                1           0     0     0          1     1.000000   \n",
       "000000             0           5     0     0          5     0.000000   \n",
       "0000dd             0           1     0     0          1     0.000000   \n",
       "0023               1           0     0     0          1     1.000000   \n",
       "003                1           0     0     0          1     1.000000   \n",
       "005                1           0     0     0          1     1.000000   \n",
       "\n",
       "               prop_js  prop_html  prop_java  \n",
       "&#9;          0.033058   0.024793   0.702479  \n",
       "&#9;&#9;      0.000000   0.000000   1.000000  \n",
       "&#9;download  0.000000   0.000000   0.000000  \n",
       "00            0.000000   0.000000   0.000000  \n",
       "000           0.000000   0.000000   0.000000  \n",
       "000000        1.000000   0.000000   0.000000  \n",
       "0000dd        1.000000   0.000000   0.000000  \n",
       "0023          0.000000   0.000000   0.000000  \n",
       "003           0.000000   0.000000   0.000000  \n",
       "005           0.000000   0.000000   0.000000  "
      ]
     },
     "execution_count": 10,
     "metadata": {},
     "output_type": "execute_result"
    }
   ],
   "source": [
    "word_counts = explore.word_counts_proportion(word_counts)\n",
    "word_counts.head(10)"
   ]
  },
  {
   "cell_type": "markdown",
   "metadata": {},
   "source": [
    "**Takeaways**\n",
    "\n",
    "- `&#9;` highest frequency is Java, present in others but much lower, might work for feature? or remove for noise?\n",
    "- all instances of '00' are Python\n",
    "- all instances of '000000' are JavaScript\n",
    "\n",
    "not sure that these are good takeaways or features yet\n",
    "\n",
    "\n",
    "For now, though, we will filter out rows with strings that only occur less a certain amount, as they are likely not going to provide much information. Let's first look at the distribution of counts to decide where that cutoff will be."
   ]
  },
  {
   "cell_type": "code",
   "execution_count": 11,
   "metadata": {},
   "outputs": [
    {
     "name": "stdout",
     "output_type": "stream",
     "text": [
      "The number of words that occur n times: \n"
     ]
    },
    {
     "data": {
      "text/plain": [
       "1     6423\n",
       "2     1821\n",
       "3      709\n",
       "4      421\n",
       "5      279\n",
       "6      208\n",
       "7      153\n",
       "8      121\n",
       "9      109\n",
       "11      80\n",
       "10      79\n",
       "12      73\n",
       "13      59\n",
       "14      45\n",
       "16      45\n",
       "15      38\n",
       "19      37\n",
       "22      33\n",
       "17      32\n",
       "20      26\n",
       "Name: all_words, dtype: int64"
      ]
     },
     "execution_count": 11,
     "metadata": {},
     "output_type": "execute_result"
    }
   ],
   "source": [
    "print(\"The number of words that occur n times: \")\n",
    "word_counts['all_words'].value_counts().head(20)"
   ]
  },
  {
   "cell_type": "code",
   "execution_count": 12,
   "metadata": {},
   "outputs": [
    {
     "name": "stdout",
     "output_type": "stream",
     "text": [
      "<class 'pandas.core.frame.DataFrame'>\n",
      "Index: 428 entries, &#9; to zero\n",
      "Data columns (total 9 columns):\n",
      " #   Column       Non-Null Count  Dtype  \n",
      "---  ------       --------------  -----  \n",
      " 0   Python       428 non-null    int64  \n",
      " 1   JavaScript   428 non-null    int64  \n",
      " 2   HTML         428 non-null    int64  \n",
      " 3   Java         428 non-null    int64  \n",
      " 4   all_words    428 non-null    int64  \n",
      " 5   prop_python  428 non-null    float64\n",
      " 6   prop_js      428 non-null    float64\n",
      " 7   prop_html    428 non-null    float64\n",
      " 8   prop_java    428 non-null    float64\n",
      "dtypes: float64(4), int64(5)\n",
      "memory usage: 33.4+ KB\n"
     ]
    }
   ],
   "source": [
    "# filter out all words that occur less than 20 times\n",
    "word_counts = word_counts[word_counts['all_words'] >= 20]\n",
    "word_counts.info()"
   ]
  },
  {
   "cell_type": "markdown",
   "metadata": {},
   "source": [
    "## Feature Selection Words\n",
    "This leaves us with 428 words which seems like a good amount (better than 603 with only 15 as cutoff).\n",
    "\n",
    "We can now use this data set to answer some interesting questions:\n",
    "\n",
    "Are there words that should be added to the stopword list?\n",
    "- added 'file', 'data', 'environmental' to the list\n",
    "- only remaining shared word in Top 5 is 'sensor' and only shared by Python and JavaScript\n",
    "\n",
    "Are there any words that are unique to one language that could be a feature?\n",
    "- Yes, have the variables of these words but unsure how to use them as a feature\n"
   ]
  },
  {
   "cell_type": "code",
   "execution_count": 13,
   "metadata": {},
   "outputs": [],
   "source": [
    "python_feature = word_counts[word_counts.prop_python == 1.0].sort_values(by='Python', ascending=False)\n",
    "# These words occur exclusively in Python readme texts. They might be a good list for a Python feature?\n",
    "python_feature_list = python_feature.index.to_list()"
   ]
  },
  {
   "cell_type": "code",
   "execution_count": 14,
   "metadata": {},
   "outputs": [
    {
     "data": {
      "text/plain": [
       "['00',\n",
       " 'de',\n",
       " 'mycodo',\n",
       " 'classification',\n",
       " 'cnn',\n",
       " 'barque',\n",
       " 'grasp',\n",
       " 'la',\n",
       " 'convolutional',\n",
       " 'outlier']"
      ]
     },
     "execution_count": 14,
     "metadata": {},
     "output_type": "execute_result"
    }
   ],
   "source": [
    "python_feature_list"
   ]
  },
  {
   "cell_type": "code",
   "execution_count": 15,
   "metadata": {},
   "outputs": [],
   "source": [
    "# repeat for other languages\n",
    "js_feature = word_counts[word_counts.prop_js == 1.0].sort_values(by='JavaScript', ascending=False)\n",
    "js_feature_list = js_feature.index.to_list()"
   ]
  },
  {
   "cell_type": "code",
   "execution_count": 16,
   "metadata": {},
   "outputs": [
    {
     "data": {
      "text/plain": [
       "['gps', 'epaper', 'waved']"
      ]
     },
     "execution_count": 16,
     "metadata": {},
     "output_type": "execute_result"
    }
   ],
   "source": [
    "js_feature_list"
   ]
  },
  {
   "cell_type": "code",
   "execution_count": 17,
   "metadata": {},
   "outputs": [],
   "source": [
    "html_feature = word_counts[word_counts.prop_html == 1.0].sort_values(by='HTML', ascending=False)\n",
    "html_feature_list = html_feature.index.to_list()"
   ]
  },
  {
   "cell_type": "code",
   "execution_count": 18,
   "metadata": {},
   "outputs": [
    {
     "data": {
      "text/plain": [
       "['worcester']"
      ]
     },
     "execution_count": 18,
     "metadata": {},
     "output_type": "execute_result"
    }
   ],
   "source": [
    "html_feature_list"
   ]
  },
  {
   "cell_type": "code",
   "execution_count": 19,
   "metadata": {},
   "outputs": [],
   "source": [
    "java_feature = word_counts[word_counts.prop_java == 1.0].sort_values(by='Java', ascending=False)\n",
    "java_feature_list = java_feature.index.to_list()"
   ]
  },
  {
   "cell_type": "code",
   "execution_count": 20,
   "metadata": {},
   "outputs": [
    {
     "data": {
      "text/plain": [
       "['propertiesmergerbuilder',\n",
       " 'bean',\n",
       " 'environmentspecificpropertiesmergerbuilder',\n",
       " 'mergerbuilder']"
      ]
     },
     "execution_count": 20,
     "metadata": {},
     "output_type": "execute_result"
    }
   ],
   "source": [
    "java_feature_list"
   ]
  },
  {
   "cell_type": "markdown",
   "metadata": {},
   "source": [
    "## Visualize"
   ]
  },
  {
   "cell_type": "code",
   "execution_count": 21,
   "metadata": {},
   "outputs": [
    {
     "data": {
      "text/plain": [
       "<Figure size 864x576 with 0 Axes>"
      ]
     },
     "metadata": {},
     "output_type": "display_data"
    },
    {
     "data": {
      "image/png": "[encoded data removed]",
      "text/plain": [
       "<Figure size 936x504 with 1 Axes>"
      ]
     },
     "metadata": {},
     "output_type": "display_data"
    }
   ],
   "source": [
    "# visualize the % of the term in each language\n",
    "explore.proportion_visualization(word_counts)"
   ]
  },
  {
   "cell_type": "markdown",
   "metadata": {},
   "source": [
    "## Bigrams"
   ]
  },
  {
   "cell_type": "code",
   "execution_count": 22,
   "metadata": {},
   "outputs": [
    {
     "data": {
      "image/png": "[encoded data removed]",
      "text/plain": [
       "<Figure size 720x720 with 4 Axes>"
      ]
     },
     "metadata": {},
     "output_type": "display_data"
    }
   ],
   "source": [
    "python_bigrams, js_bigrams, html_bigrams, java_bigrams = explore.create_bigrams(python_words, js_words, html_words, java_words)\n",
    "explore.plot_bigrams(python_bigrams, js_bigrams, html_bigrams, java_bigrams)"
   ]
  },
  {
   "cell_type": "markdown",
   "metadata": {},
   "source": [
    "## Statistical Testing\n",
    "\n",
    "- Is the average word count significantly different from the population mean for each language?\n",
    "- Using a one sample, 2 tail t-test determine if the mean word count (doc_length) for each language is significantly different from the population (overall mean)\n",
    "\n",
    "Ho: There is no significant difference     \n",
    "Ha: There is a significant difference     \n",
    "alpha: .05\n",
    "\n",
    "**Conclusions**\n",
    "- For Python, JavaScript, and Java there is no significant difference in the readme length vs the overall mean length\n",
    "- For HTML there is a significant difference"
   ]
  },
  {
   "cell_type": "code",
   "execution_count": 23,
   "metadata": {},
   "outputs": [
    {
     "data": {
      "image/png": "[encoded data removed]",
      "text/plain": [
       "<Figure size 936x504 with 1 Axes>"
      ]
     },
     "metadata": {},
     "output_type": "display_data"
    }
   ],
   "source": [
    "# Visualize programming language by readme length\n",
    "explore.sns_boxplot(train_exp)"
   ]
  },
  {
   "cell_type": "code",
   "execution_count": 24,
   "metadata": {},
   "outputs": [],
   "source": [
    "# create sample variables for stats test\n",
    "python_sample = train_exp[train_exp.language=='Python'].doc_length\n",
    "js_sample = train_exp[train_exp.language=='JavaScript'].doc_length\n",
    "html_sample = train_exp[train_exp.language=='HTML'].doc_length\n",
    "java_sample = train_exp[train_exp.language=='Java'].doc_length\n",
    "overall_mean = train_exp.doc_length.mean()"
   ]
  },
  {
   "cell_type": "code",
   "execution_count": 25,
   "metadata": {},
   "outputs": [
    {
     "name": "stdout",
     "output_type": "stream",
     "text": [
      "False\n"
     ]
    },
    {
     "data": {
      "text/plain": [
       "(1.3646833174208424, 0.1760858155624954)"
      ]
     },
     "execution_count": 25,
     "metadata": {},
     "output_type": "execute_result"
    }
   ],
   "source": [
    "# Python vs. overall mean\n",
    "explore.ttest_1samp(python_sample, overall_mean)\n",
    "# We fail to reject the null hypothesis and conclude there is no significant difference."
   ]
  },
  {
   "cell_type": "code",
   "execution_count": 26,
   "metadata": {},
   "outputs": [
    {
     "name": "stdout",
     "output_type": "stream",
     "text": [
      "False\n"
     ]
    },
    {
     "data": {
      "text/plain": [
       "(0.39910939021510883, 0.6912064458483929)"
      ]
     },
     "execution_count": 26,
     "metadata": {},
     "output_type": "execute_result"
    }
   ],
   "source": [
    "# JavaScript vs. overall mean\n",
    "explore.ttest_1samp(js_sample, overall_mean)\n",
    "# We fail to reject the null hypothesis and conclude there is no significant difference."
   ]
  },
  {
   "cell_type": "code",
   "execution_count": 27,
   "metadata": {},
   "outputs": [
    {
     "name": "stdout",
     "output_type": "stream",
     "text": [
      "True\n"
     ]
    },
    {
     "data": {
      "text/plain": [
       "(-2.12158663408183, 0.03906197489424692)"
      ]
     },
     "execution_count": 27,
     "metadata": {},
     "output_type": "execute_result"
    }
   ],
   "source": [
    "# HTML vs. overall mean\n",
    "explore.ttest_1samp(html_sample, overall_mean)\n",
    "# We reject the null hypothesis and conclude there is a significant difference for HTML readme files."
   ]
  },
  {
   "cell_type": "code",
   "execution_count": 28,
   "metadata": {},
   "outputs": [
    {
     "name": "stdout",
     "output_type": "stream",
     "text": [
      "False\n"
     ]
    },
    {
     "data": {
      "text/plain": [
       "(-1.8057327766409508, 0.07868308420925468)"
      ]
     },
     "execution_count": 28,
     "metadata": {},
     "output_type": "execute_result"
    }
   ],
   "source": [
    "# Java vs. overall mean\n",
    "explore.ttest_1samp(java_sample, overall_mean)\n",
    "# We fail to reject the null hypothesis and conclude there is no significant difference."
   ]
  },
  {
   "cell_type": "markdown",
   "metadata": {},
   "source": [
    "# Model the Data\n",
    "\n",
    "### Feature Extraction\n",
    "**Bag of Words**\n",
    "Create CountVectorizer, which create bag-of-words model. We call vectorization the general process of turning a collection of text documents into numerical feature vectors. This specific strategy (tokenization, counting and normalization) is called the Bag of Words or “Bag of n-grams” representation. Documents are described by word occurrences while completely ignoring the relative position information of the words in the document. https://scikit-learn.org/stable/modules/feature_extraction.html\n",
    "\n",
    "**TF-IDF**\n",
    "A word that has a high frequency in a document will have a high TF. If it appears in many other documents, than the information the word provides, or uniqueness of that word, is lowered. This is done mathematically by multiplying by the IDF, which will approach 0 and the number of documents with the word increases. Using TfidfVectorizer converts a collection of raw documents to a matrix of TF-IDF features.\n",
    "\n",
    "### Train Validation Test Split\n",
    "- Data split already\n",
    "- Data has been cleaned\n",
    "\n",
    "**Open Question**\n",
    "How would you use unique word lists as features for model instead of extracting features?"
   ]
  },
  {
   "cell_type": "markdown",
   "metadata": {},
   "source": [
    "## Create Bag of Words for Modeling"
   ]
  },
  {
   "cell_type": "code",
   "execution_count": 29,
   "metadata": {},
   "outputs": [],
   "source": [
    "# Create CountVectorizer, which create bag-of-words model.\n",
    "# stop_words : Specify language to remove stopwords. \n",
    "# min_df: ignore terms that have a document frequency strictly \n",
    "# lower than the given threshold. This value is also called cut-off in the literature. \n",
    "# If float, the parameter represents a proportion of documents, integer absolute counts. \n",
    "# ngram_range: the lower and upper boundary of the range of n-values for \n",
    "# different word n-grams or char n-grams to be extracted. \n",
    "\n",
    "vectorizer = CountVectorizer(stop_words='english', \n",
    "                             min_df=20, \n",
    "                             ngram_range=(1,2), \n",
    "                             binary=True)\n",
    "\n",
    "# Learn vocabulary in sentences. \n",
    "vectorizer.fit(X_train.clean)\n",
    "\n",
    "# Get dictionary. \n",
    "vectorizer.get_feature_names()\n",
    "\n",
    "# Transform each sentences in vector space.\n",
    "bow = vectorizer.transform(X_train.clean)\n",
    "X_bow = bow"
   ]
  },
  {
   "cell_type": "markdown",
   "metadata": {},
   "source": [
    "## Create TF-IDF for Modeling"
   ]
  },
  {
   "cell_type": "code",
   "execution_count": 30,
   "metadata": {},
   "outputs": [],
   "source": [
    "tfidf = TfidfVectorizer(stop_words='english', min_df=20, \n",
    "                             ngram_range=(1,2), \n",
    "                             binary=True)\n",
    "\n",
    "tfidf_sparse_matrix = tfidf.fit_transform(X_train.clean)\n",
    "tfidf_sparse_matrix\n",
    "\n",
    "# Transform to document-term matrix\n",
    "vector_spaces = tfidf.transform(X_train.clean)\n",
    "vector_spaces.toarray()\n",
    "\n",
    "X_tfidf = tfidf_sparse_matrix"
   ]
  },
  {
   "cell_type": "markdown",
   "metadata": {},
   "source": [
    "## Establish Baseline"
   ]
  },
  {
   "cell_type": "code",
   "execution_count": 31,
   "metadata": {},
   "outputs": [
    {
     "data": {
      "text/plain": [
       "0.35"
      ]
     },
     "execution_count": 31,
     "metadata": {},
     "output_type": "execute_result"
    }
   ],
   "source": [
    "# Getting baseline\n",
    "baseline = len(train_exp[train_exp.language == 'Python']) / len(train_exp)\n",
    "round(baseline,2)"
   ]
  },
  {
   "cell_type": "markdown",
   "metadata": {},
   "source": [
    "## Build and Train Model\n",
    "\n",
    "Will use both BOW and TF-IDF methods for the following models:\n",
    "- Logistic Regression\n",
    "- Decision Tree\n",
    "- Random Forest\n",
    "- K Nearest Neighbors\n",
    "\n",
    "For Naive Bayes will use the TF-IDF vectorization only. But will try both Multinomial and Complement models. Naive Bayes is recommended for text classification, but the ComplementNB is recommended for imbalanced datasets."
   ]
  },
  {
   "cell_type": "code",
   "execution_count": 32,
   "metadata": {},
   "outputs": [
    {
     "name": "stdout",
     "output_type": "stream",
     "text": [
      "X_bow Accuracy: 82%\n",
      "\n",
      "-----------------------\n",
      "X_bow Confusion Matrix: \n",
      "\n",
      " predicted   HTML  Java  JavaScript  Python\n",
      "language                                  \n",
      "HTML          29    14           5       1\n",
      "Java           0    38           0       2\n",
      "JavaScript     3     6          50       3\n",
      "Python         2     5           2      74\n",
      "\n",
      "-----------------------\n",
      "X_bow Logistic Regression Classification Report:\n",
      "               precision    recall  f1-score   support\n",
      "\n",
      "        HTML       0.85      0.59      0.70        49\n",
      "        Java       0.60      0.95      0.74        40\n",
      "  JavaScript       0.88      0.81      0.84        62\n",
      "      Python       0.93      0.89      0.91        83\n",
      "\n",
      "    accuracy                           0.82       234\n",
      "   macro avg       0.81      0.81      0.80       234\n",
      "weighted avg       0.84      0.82      0.82       234\n",
      "\n",
      "-----------------------\n",
      "TF-IDF Accuracy: 67%\n",
      "\n",
      "-----------------------\n",
      "TF-IDF Confusion Matrix: \n",
      "\n",
      " pred_tfidf  HTML  Java  JavaScript  Python\n",
      "language                                  \n",
      "HTML          31     1           4      13\n",
      "Java          16    11           3      10\n",
      "JavaScript     7     1          41      13\n",
      "Python         7     0           2      74\n",
      "\n",
      "-----------------------\n",
      "TF-IDF Logistic Regression Classification Report:\n",
      "               precision    recall  f1-score   support\n",
      "\n",
      "        HTML       0.51      0.63      0.56        49\n",
      "        Java       0.85      0.28      0.42        40\n",
      "  JavaScript       0.82      0.66      0.73        62\n",
      "      Python       0.67      0.89      0.77        83\n",
      "\n",
      "    accuracy                           0.67       234\n",
      "   macro avg       0.71      0.62      0.62       234\n",
      "weighted avg       0.71      0.67      0.65       234\n",
      "\n"
     ]
    }
   ],
   "source": [
    "# Logistic Regression\n",
    "lm_bow, lm_tfidf = m.logistic_regression(X_train, y_train, X_bow = bow, X_tfidf = tfidf_sparse_matrix)"
   ]
  },
  {
   "cell_type": "code",
   "execution_count": 33,
   "metadata": {},
   "outputs": [
    {
     "name": "stdout",
     "output_type": "stream",
     "text": [
      "X_bow Accuracy: 56%\n",
      "\n",
      "-----------------------\n",
      "X_bow Confusion Matrix: \n",
      "\n",
      " predicted   HTML  Java  JavaScript  Python\n",
      "language                                  \n",
      "HTML          16    30           3       0\n",
      "Java           2    36           1       1\n",
      "JavaScript     5    24          29       4\n",
      "Python         7    22           4      50\n",
      "\n",
      "-----------------------\n",
      "X_bow Decesion Tree Classification Report:\n",
      "               precision    recall  f1-score   support\n",
      "\n",
      "        HTML       0.53      0.33      0.41        49\n",
      "        Java       0.32      0.90      0.47        40\n",
      "  JavaScript       0.78      0.47      0.59        62\n",
      "      Python       0.91      0.60      0.72        83\n",
      "\n",
      "    accuracy                           0.56       234\n",
      "   macro avg       0.64      0.57      0.55       234\n",
      "weighted avg       0.70      0.56      0.58       234\n",
      "\n",
      "-----------------------\n",
      "TF-IDF Accuracy: 58%\n",
      "\n",
      "-----------------------\n",
      "TF-IDF Confusion Matrix: \n",
      "\n",
      " pred_tfidf  HTML  Java  JavaScript  Python\n",
      "language                                  \n",
      "HTML          49     0           0       0\n",
      "Java          34     6           0       0\n",
      "JavaScript    35     0          24       3\n",
      "Python        25     0           1      57\n",
      "\n",
      "-----------------------\n",
      "TF-IDF Decesion Tree Classification Report:\n",
      "               precision    recall  f1-score   support\n",
      "\n",
      "        HTML       0.34      1.00      0.51        49\n",
      "        Java       1.00      0.15      0.26        40\n",
      "  JavaScript       0.96      0.39      0.55        62\n",
      "      Python       0.95      0.69      0.80        83\n",
      "\n",
      "    accuracy                           0.58       234\n",
      "   macro avg       0.81      0.56      0.53       234\n",
      "weighted avg       0.83      0.58      0.58       234\n",
      "\n"
     ]
    }
   ],
   "source": [
    "# Decision Tree\n",
    "m.decesion_tree(X_train, y_train, X_bow, X_tfidf, k=5)"
   ]
  },
  {
   "cell_type": "code",
   "execution_count": 34,
   "metadata": {},
   "outputs": [
    {
     "name": "stdout",
     "output_type": "stream",
     "text": [
      "X_bow Accuracy: 79%\n",
      "\n",
      "-----------------------\n",
      "X_bow Confusion Matrix: \n",
      "\n",
      " predicted   HTML  Java  JavaScript  Python\n",
      "language                                  \n",
      "HTML          42     0           4       3\n",
      "Java          16    18           1       5\n",
      "JavaScript     9     0          49       4\n",
      "Python         6     0           2      75\n",
      "\n",
      "-----------------------\n",
      "X_bow Random Forest Classification Report:\n",
      "               precision    recall  f1-score   support\n",
      "\n",
      "        HTML       0.58      0.86      0.69        49\n",
      "        Java       1.00      0.45      0.62        40\n",
      "  JavaScript       0.88      0.79      0.83        62\n",
      "      Python       0.86      0.90      0.88        83\n",
      "\n",
      "    accuracy                           0.79       234\n",
      "   macro avg       0.83      0.75      0.76       234\n",
      "weighted avg       0.83      0.79      0.78       234\n",
      "\n",
      "-----------------------\n",
      "TF-IDF Accuracy: 82%\n",
      "\n",
      "-----------------------\n",
      "TF-IDF Confusion Matrix: \n",
      "\n",
      " pred_tfidf  HTML  Java  JavaScript  Python\n",
      "language                                  \n",
      "HTML          42     0           5       2\n",
      "Java          15    20           1       4\n",
      "JavaScript     5     0          53       4\n",
      "Python         6     0           1      76\n",
      "\n",
      "-----------------------\n",
      "TF-IDF Random Forest Classification Report:\n",
      "               precision    recall  f1-score   support\n",
      "\n",
      "        HTML       0.62      0.86      0.72        49\n",
      "        Java       1.00      0.50      0.67        40\n",
      "  JavaScript       0.88      0.85      0.87        62\n",
      "      Python       0.88      0.92      0.90        83\n",
      "\n",
      "    accuracy                           0.82       234\n",
      "   macro avg       0.85      0.78      0.79       234\n",
      "weighted avg       0.85      0.82      0.81       234\n",
      "\n"
     ]
    }
   ],
   "source": [
    "# Random Forest\n",
    "rf_bow, rf_tfidf = m.random_forest(X_train, y_train, X_bow, X_tfidf, k=6)"
   ]
  },
  {
   "cell_type": "code",
   "execution_count": 35,
   "metadata": {},
   "outputs": [
    {
     "name": "stdout",
     "output_type": "stream",
     "text": [
      "X_bow Accuracy: 44%\n",
      "\n",
      "-----------------------\n",
      "X_bow Confusion Matrix: \n",
      "\n",
      " predicted   HTML  Java  JavaScript  Python\n",
      "language                                  \n",
      "HTML          31     6           9       3\n",
      "Java          20    15           5       0\n",
      "JavaScript    18    14          26       4\n",
      "Python        15    22          15      31\n",
      "\n",
      "-----------------------\n",
      "X_bow KNN Classification Report:\n",
      "               precision    recall  f1-score   support\n",
      "\n",
      "        HTML       0.37      0.63      0.47        49\n",
      "        Java       0.26      0.38      0.31        40\n",
      "  JavaScript       0.47      0.42      0.44        62\n",
      "      Python       0.82      0.37      0.51        83\n",
      "\n",
      "    accuracy                           0.44       234\n",
      "   macro avg       0.48      0.45      0.43       234\n",
      "weighted avg       0.54      0.44      0.45       234\n",
      "\n",
      "-----------------------\n",
      "TF-IDF Accuracy: 30%\n",
      "\n",
      "-----------------------\n",
      "TF-IDF Confusion Matrix: \n",
      "\n",
      " pred_tfidf  HTML  Java  JavaScript  Python\n",
      "language                                  \n",
      "HTML          32    15           1       1\n",
      "Java          16    22           2       0\n",
      "JavaScript    20    35           3       4\n",
      "Python        26    39           4      14\n",
      "\n",
      "-----------------------\n",
      "TF-IDF KNN Classification Report:\n",
      "               precision    recall  f1-score   support\n",
      "\n",
      "        HTML       0.34      0.65      0.45        49\n",
      "        Java       0.20      0.55      0.29        40\n",
      "  JavaScript       0.30      0.05      0.08        62\n",
      "      Python       0.74      0.17      0.27        83\n",
      "\n",
      "    accuracy                           0.30       234\n",
      "   macro avg       0.39      0.36      0.27       234\n",
      "weighted avg       0.45      0.30      0.26       234\n",
      "\n"
     ]
    }
   ],
   "source": [
    "# KNN\n",
    "m.knn(X_train, y_train, X_bow, X_tfidf, k=5)"
   ]
  },
  {
   "cell_type": "code",
   "execution_count": 36,
   "metadata": {},
   "outputs": [
    {
     "name": "stdout",
     "output_type": "stream",
     "text": [
      "TF-IDF Accuracy: 57%\n",
      "\n",
      "-----------------------\n",
      "TF-IDF Confusion Matrix: \n",
      "\n",
      " pred_tfidf  HTML  Java  JavaScript  Python\n",
      "language                                  \n",
      "HTML          11     0           3      35\n",
      "Java           2     5           4      29\n",
      "JavaScript     1     0          35      26\n",
      "Python         0     0           0      83\n",
      "\n",
      "-----------------------\n",
      "TF-IDF Multinomial Niave Bayes Classification Report:\n",
      "               precision    recall  f1-score   support\n",
      "\n",
      "        HTML       0.79      0.22      0.35        49\n",
      "        Java       1.00      0.12      0.22        40\n",
      "  JavaScript       0.83      0.56      0.67        62\n",
      "      Python       0.48      1.00      0.65        83\n",
      "\n",
      "    accuracy                           0.57       234\n",
      "   macro avg       0.77      0.48      0.47       234\n",
      "weighted avg       0.73      0.57      0.52       234\n",
      "\n"
     ]
    }
   ],
   "source": [
    "# MultinomialNB\n",
    "m.multinomial_naive_bayes(X_train, y_train, X_tfidf)"
   ]
  },
  {
   "cell_type": "code",
   "execution_count": 37,
   "metadata": {},
   "outputs": [
    {
     "name": "stdout",
     "output_type": "stream",
     "text": [
      "TF-IDF Accuracy: 68%\n",
      "\n",
      "-----------------------\n",
      "TF-IDF Confusion Matrix: \n",
      "\n",
      " pred_tfidf  HTML  Java  JavaScript  Python\n",
      "language                                  \n",
      "HTML          38     2           5       4\n",
      "Java          17    19           1       3\n",
      "JavaScript    10     1          42       9\n",
      "Python        14     3           5      61\n",
      "\n",
      "-----------------------\n",
      "TF-IDF Complement Niave Bayes Classification Report:\n",
      "               precision    recall  f1-score   support\n",
      "\n",
      "        HTML       0.48      0.78      0.59        49\n",
      "        Java       0.76      0.47      0.58        40\n",
      "  JavaScript       0.79      0.68      0.73        62\n",
      "      Python       0.79      0.73      0.76        83\n",
      "\n",
      "    accuracy                           0.68       234\n",
      "   macro avg       0.71      0.67      0.67       234\n",
      "weighted avg       0.72      0.68      0.69       234\n",
      "\n"
     ]
    }
   ],
   "source": [
    "# ComplementNB \n",
    "cnb_tfidf = m.complement_naive_bayes(X_train, y_train, X_tfidf)"
   ]
  },
  {
   "cell_type": "markdown",
   "metadata": {},
   "source": [
    "## Validate\n",
    "\n",
    "The 3 top performing algorithms were moved on to the validate dataset to test on unseen data.\n",
    "- Logistic Regression (BOW and TF-IDF)\n",
    "- Random Forest (BOW and TF-IDF)\n",
    "- Complement Naive Bayes (TF-IDF)\n"
   ]
  },
  {
   "cell_type": "code",
   "execution_count": 38,
   "metadata": {},
   "outputs": [],
   "source": [
    "#vectorizer = CountVectorizer(stop_words='english', \n",
    "#                              min_df=20, \n",
    "#                              ngram_range=(1,2), \n",
    "#                              binary=True)\n",
    "\n",
    "# Learn vocabulary in sentences. \n",
    "#vectorizer.fit(X_validate.clean)\n",
    "\n",
    "# Get dictionary. \n",
    "#vectorizer.get_feature_names()\n",
    "\n",
    "# Transform each sentences in vector space.\n",
    "V_bow = vectorizer.transform(X_validate.clean)"
   ]
  },
  {
   "cell_type": "code",
   "execution_count": 39,
   "metadata": {},
   "outputs": [],
   "source": [
    "#tfidf = TfidfVectorizer(stop_words='english', min_df=20, \n",
    "#                              ngram_range=(1,2), \n",
    "#                              binary=True)\n",
    "\n",
    "tfidf_sparse_matrix = tfidf.transform(X_validate.clean)\n",
    "tfidf_sparse_matrix\n",
    "\n",
    "V_tfidf = tfidf_sparse_matrix"
   ]
  },
  {
   "cell_type": "code",
   "execution_count": 40,
   "metadata": {},
   "outputs": [
    {
     "name": "stdout",
     "output_type": "stream",
     "text": [
      "X_bow Accuracy: 49%\n",
      "\n",
      "-----------------------\n",
      "X_bow Confusion Matrix: \n",
      "\n",
      " predicted   HTML  JavaScript  Python\n",
      "language                            \n",
      "HTML           7           4       5\n",
      "Java           7           3       4\n",
      "JavaScript     2          10       9\n",
      "Python         1           5      22\n",
      "\n",
      "-----------------------\n",
      "X_bow Logistic Regression Classification Report:\n",
      "               precision    recall  f1-score   support\n",
      "\n",
      "        HTML       0.41      0.44      0.42        16\n",
      "        Java       0.00      0.00      0.00        14\n",
      "  JavaScript       0.45      0.48      0.47        21\n",
      "      Python       0.55      0.79      0.65        28\n",
      "\n",
      "    accuracy                           0.49        79\n",
      "   macro avg       0.35      0.42      0.38        79\n",
      "weighted avg       0.40      0.49      0.44        79\n",
      "\n",
      "-----------------------\n",
      "TF-IDF Accuracy: 51%\n",
      "\n",
      "-----------------------\n",
      "TF-IDF Confusion Matrix: \n",
      "\n",
      " pred_tfidf  HTML  JavaScript  Python\n",
      "language                            \n",
      "HTML           9           2       5\n",
      "Java           7           3       4\n",
      "JavaScript     2          10       9\n",
      "Python         2           5      21\n",
      "\n",
      "-----------------------\n",
      "TF-IDF Logistic Regression Classification Report:\n",
      "               precision    recall  f1-score   support\n",
      "\n",
      "        HTML       0.45      0.56      0.50        16\n",
      "        Java       0.00      0.00      0.00        14\n",
      "  JavaScript       0.50      0.48      0.49        21\n",
      "      Python       0.54      0.75      0.63        28\n",
      "\n",
      "    accuracy                           0.51        79\n",
      "   macro avg       0.37      0.45      0.40        79\n",
      "weighted avg       0.41      0.51      0.45        79\n",
      "\n"
     ]
    }
   ],
   "source": [
    "# Logistic Regression\n",
    "m.validate_logistic_regression(X_validate, y_validate, V_bow, V_tfidf, lm_bow, lm_tfidf)"
   ]
  },
  {
   "cell_type": "code",
   "execution_count": 41,
   "metadata": {},
   "outputs": [
    {
     "name": "stdout",
     "output_type": "stream",
     "text": [
      "X_bow Accuracy: 42%\n",
      "\n",
      "-----------------------\n",
      "X_bow Confusion Matrix: \n",
      "\n",
      " predicted   HTML  Java  JavaScript  Python\n",
      "language                                  \n",
      "HTML           6     0           3       7\n",
      "Java           7     1           2       4\n",
      "JavaScript     3     0           4      14\n",
      "Python         2     0           4      22\n",
      "\n",
      "-----------------------\n",
      "X_bow Random Forest Classification Report:\n",
      "               precision    recall  f1-score   support\n",
      "\n",
      "        HTML       0.33      0.38      0.35        16\n",
      "        Java       1.00      0.07      0.13        14\n",
      "  JavaScript       0.31      0.19      0.24        21\n",
      "      Python       0.47      0.79      0.59        28\n",
      "\n",
      "    accuracy                           0.42        79\n",
      "   macro avg       0.53      0.36      0.33        79\n",
      "weighted avg       0.49      0.42      0.37        79\n",
      "\n",
      "-----------------------\n",
      "TF-IDF Accuracy: 48%\n",
      "\n",
      "-----------------------\n",
      "TF-IDF Confusion Matrix: \n",
      "\n",
      " pred_tfidf  HTML  Java  JavaScript  Python\n",
      "language                                  \n",
      "HTML           6     0           4       6\n",
      "Java           7     1           3       3\n",
      "JavaScript     2     0           7      12\n",
      "Python         0     0           4      24\n",
      "\n",
      "-----------------------\n",
      "TF-IDF Random Forest Classification Report:\n",
      "               precision    recall  f1-score   support\n",
      "\n",
      "        HTML       0.40      0.38      0.39        16\n",
      "        Java       1.00      0.07      0.13        14\n",
      "  JavaScript       0.39      0.33      0.36        21\n",
      "      Python       0.53      0.86      0.66        28\n",
      "\n",
      "    accuracy                           0.48        79\n",
      "   macro avg       0.58      0.41      0.38        79\n",
      "weighted avg       0.55      0.48      0.43        79\n",
      "\n"
     ]
    }
   ],
   "source": [
    "# Random Forest\n",
    "k=6\n",
    "m.validate_random_forest(X_validate, y_validate, V_bow, V_tfidf, k, rf_bow, rf_tfidf)"
   ]
  },
  {
   "cell_type": "code",
   "execution_count": 42,
   "metadata": {},
   "outputs": [
    {
     "name": "stdout",
     "output_type": "stream",
     "text": [
      "TF-IDF Accuracy: 46%\n",
      "\n",
      "-----------------------\n",
      "TF-IDF Confusion Matrix: \n",
      "\n",
      " pred_tfidf  HTML  Java  JavaScript  Python\n",
      "language                                  \n",
      "HTML           8     0           2       6\n",
      "Java           8     2           4       0\n",
      "JavaScript     5     2           9       5\n",
      "Python         4     1           6      17\n",
      "\n",
      "-----------------------\n",
      "TF-IDF Complement Niave Bayes Classification Report:\n",
      "               precision    recall  f1-score   support\n",
      "\n",
      "        HTML       0.32      0.50      0.39        16\n",
      "        Java       0.40      0.14      0.21        14\n",
      "  JavaScript       0.43      0.43      0.43        21\n",
      "      Python       0.61      0.61      0.61        28\n",
      "\n",
      "    accuracy                           0.46        79\n",
      "   macro avg       0.44      0.42      0.41        79\n",
      "weighted avg       0.46      0.46      0.45        79\n",
      "\n"
     ]
    }
   ],
   "source": [
    "# ComplementNB\n",
    "m.validate_complement_naive_bayes(X_validate, y_validate, V_tfidf, cnb_tfidf)"
   ]
  },
  {
   "cell_type": "markdown",
   "metadata": {},
   "source": [
    "## Test\n",
    "\n",
    "The Top performing model was moved on to the test dataset.\n",
    "- Random Forest (TF-IDF)"
   ]
  },
  {
   "cell_type": "code",
   "execution_count": 43,
   "metadata": {},
   "outputs": [],
   "source": [
    "T_bow = vectorizer.transform(X_test.clean)\n",
    "# tfidf = TfidfVectorizer(stop_words='english', min_df=20, \n",
    "#                              ngram_range=(1,2), \n",
    "#                              binary=True)\n",
    "\n",
    "tfidf_sparse_matrix = tfidf.transform(X_test.clean)\n",
    "tfidf_sparse_matrix\n",
    "T_tfidf = tfidf_sparse_matrix"
   ]
  },
  {
   "cell_type": "code",
   "execution_count": 44,
   "metadata": {},
   "outputs": [
    {
     "name": "stdout",
     "output_type": "stream",
     "text": [
      "TF-IDF Accuracy: 41%\n",
      "\n",
      "-----------------------\n",
      "TF-IDF Confusion Matrix: \n",
      "\n",
      " pred_tfidf  HTML  JavaScript  Python\n",
      "language                            \n",
      "HTML           2           4      10\n",
      "Java           3           5       6\n",
      "JavaScript     2           6      13\n",
      "Python         3           1      24\n",
      "\n",
      "-----------------------\n",
      "TF-IDF Random Forest Classification Report:\n",
      "               precision    recall  f1-score   support\n",
      "\n",
      "        HTML       0.20      0.12      0.15        16\n",
      "        Java       0.00      0.00      0.00        14\n",
      "  JavaScript       0.38      0.29      0.32        21\n",
      "      Python       0.45      0.86      0.59        28\n",
      "\n",
      "    accuracy                           0.41        79\n",
      "   macro avg       0.26      0.32      0.27        79\n",
      "weighted avg       0.30      0.41      0.33        79\n",
      "\n"
     ]
    }
   ],
   "source": [
    "# Random Forest\n",
    "k=6\n",
    "m.test_random_forest(X_test, y_test, T_tfidf, k, rf_tfidf)"
   ]
  },
  {
   "cell_type": "code",
   "execution_count": 45,
   "metadata": {},
   "outputs": [
    {
     "name": "stdout",
     "output_type": "stream",
     "text": [
      "X_bow Accuracy: 42%\n",
      "\n",
      "-----------------------\n",
      "X_bow Confusion Matrix: \n",
      "\n",
      " predicted   HTML  Java  JavaScript  Python\n",
      "language                                  \n",
      "HTML           2     1           4       9\n",
      "Java           2     0           6       6\n",
      "JavaScript     3     1           9       8\n",
      "Python         3     0           3      22\n",
      "\n",
      "-----------------------\n",
      "X_bow Logistic Regression Classification Report:\n",
      "               precision    recall  f1-score   support\n",
      "\n",
      "        HTML       0.20      0.12      0.15        16\n",
      "        Java       0.00      0.00      0.00        14\n",
      "  JavaScript       0.41      0.43      0.42        21\n",
      "      Python       0.49      0.79      0.60        28\n",
      "\n",
      "    accuracy                           0.42        79\n",
      "   macro avg       0.27      0.33      0.29        79\n",
      "weighted avg       0.32      0.42      0.36        79\n",
      "\n",
      "-----------------------\n",
      "TF-IDF Accuracy: 43%\n",
      "\n",
      "-----------------------\n",
      "TF-IDF Confusion Matrix: \n",
      "\n",
      " pred_tfidf  HTML  Java  JavaScript  Python\n",
      "language                                  \n",
      "HTML           2     1           4       9\n",
      "Java           2     1           6       5\n",
      "JavaScript     3     1           9       8\n",
      "Python         3     1           2      22\n",
      "\n",
      "-----------------------\n",
      "TF-IDF Logistic Regression Classification Report:\n",
      "               precision    recall  f1-score   support\n",
      "\n",
      "        HTML       0.20      0.12      0.15        16\n",
      "        Java       0.25      0.07      0.11        14\n",
      "  JavaScript       0.43      0.43      0.43        21\n",
      "      Python       0.50      0.79      0.61        28\n",
      "\n",
      "    accuracy                           0.43        79\n",
      "   macro avg       0.34      0.35      0.33        79\n",
      "weighted avg       0.38      0.43      0.38        79\n",
      "\n"
     ]
    }
   ],
   "source": [
    "# Logistic Regression Test\n",
    "m.test_logistic_regression(X_test, y_test, T_bow, T_tfidf, lm_bow, lm_tfidf)"
   ]
  },
  {
   "cell_type": "markdown",
   "metadata": {},
   "source": [
    "# Interpret the Model\n",
    "\n",
    "**Best Performing Model**\n",
    "Our best performing model uses a Logistic Regression algorithm and TF-IDF to vectroize the text.\n",
    "This model increased the prediction accuracy from a baseline of 35% to an average of 47% on unseen data.\n",
    "\n",
    "The initial models performed well on the train dataset, however, when used on unseen data the accuracy was significantly reduced. This indicates that the models are overfit. Increasing the size of the dataset may help improve future models.\n"
   ]
  },
  {
   "cell_type": "markdown",
   "metadata": {},
   "source": [
    "# Next Steps: What Can We Do Now?\n",
    "\n",
    "The current clean and prepare methods eliminate text symbols not in English as noise. Would recommend either obtaining new dataset of only English repos or otherwise adjusting for non-English text.     \n",
    "\n",
    "We identified lists of specific words that were unique to each language, but were unable to incorporate those lists into features.\n",
    "\n",
    "Additionally, increasing the size of the dataset may help improve future models."
   ]
  },
  {
   "cell_type": "markdown",
   "metadata": {},
   "source": [
    "# Function\n",
    "\n",
    "Build a function that will take in the text of a README file, and tries to predict the programming language."
   ]
  },
  {
   "cell_type": "code",
   "execution_count": 46,
   "metadata": {},
   "outputs": [],
   "source": [
    "from sklearn.metrics import accuracy_score, precision_score, recall_score, confusion_matrix, classification_report\n",
    "def predict_language(url, tfidf, lm_tfidf):\n",
    "    '''\n",
    "    Given text for the README page this function will try to predict the programming language\n",
    "    '''\n",
    "    # get readme text and language from url\n",
    "    soup = acquire_ry.make_soup(url)\n",
    "    \n",
    "    if soup.find('article', class_=\"markdown-body entry-content container-lg\") != None:            \n",
    "        # Save the text in each readme to variable text\n",
    "        content = soup.find('article', class_=\"markdown-body entry-content container-lg\").text\n",
    "\n",
    "    if soup.find('span', class_=\"text-gray-dark text-bold mr-1\") != None:\n",
    "    # Save the first language in each readme to variable text\n",
    "        # NOTE: this is the majority language, not all of the languages used\n",
    "        language = soup.find('span', class_=\"text-gray-dark text-bold mr-1\").text\n",
    "\n",
    "        # anything else useful on the page?\n",
    "\n",
    "        # Create a dictionary holding the title and content for each blog\n",
    "        readme = [{'language': language, 'content': content}]\n",
    "\n",
    "        # convert dictionary to a df\n",
    "        df = pd.DataFrame(readme)\n",
    "    # vectorize text\n",
    "    tfidf_single = tfidf.transform(df.content)\n",
    "    # predict language\n",
    "    df['pred_tfidf'] = lm_tfidf.predict(tfidf_single)\n",
    "    # print results\n",
    "    print('TF-IDF Accuracy: {:.0%}\\n'.format(accuracy_score(df.language, df.pred_tfidf)))\n",
    "    print(\"TF-IDF Logistic Regression Classification Report:\\n\", classification_report(df.language, df.pred_tfidf))\n",
    "    return df\n"
   ]
  },
  {
   "cell_type": "code",
   "execution_count": 47,
   "metadata": {},
   "outputs": [
    {
     "name": "stdout",
     "output_type": "stream",
     "text": [
      "TF-IDF Accuracy: 100%\n",
      "\n",
      "TF-IDF Logistic Regression Classification Report:\n",
      "               precision    recall  f1-score   support\n",
      "\n",
      "      Python       1.00      1.00      1.00         1\n",
      "\n",
      "    accuracy                           1.00         1\n",
      "   macro avg       1.00      1.00      1.00         1\n",
      "weighted avg       1.00      1.00      1.00         1\n",
      "\n"
     ]
    },
    {
     "data": {
      "text/html": [
       "<div>\n",
       "<style scoped>\n",
       "    .dataframe tbody tr th:only-of-type {\n",
       "        vertical-align: middle;\n",
       "    }\n",
       "\n",
       "    .dataframe tbody tr th {\n",
       "        vertical-align: top;\n",
       "    }\n",
       "\n",
       "    .dataframe thead th {\n",
       "        text-align: right;\n",
       "    }\n",
       "</style>\n",
       "<table border=\"1\" class=\"dataframe\">\n",
       "  <thead>\n",
       "    <tr style=\"text-align: right;\">\n",
       "      <th></th>\n",
       "      <th>language</th>\n",
       "      <th>content</th>\n",
       "      <th>pred_tfidf</th>\n",
       "    </tr>\n",
       "  </thead>\n",
       "  <tbody>\n",
       "    <tr>\n",
       "      <th>0</th>\n",
       "      <td>Python</td>\n",
       "      <td>Harry-potter-Invisible-Cloak\\nHello World, we ...</td>\n",
       "      <td>Python</td>\n",
       "    </tr>\n",
       "  </tbody>\n",
       "</table>\n",
       "</div>"
      ],
      "text/plain": [
       "  language                                            content pred_tfidf\n",
       "0   Python  Harry-potter-Invisible-Cloak\\nHello World, we ...     Python"
      ]
     },
     "execution_count": 47,
     "metadata": {},
     "output_type": "execute_result"
    }
   ],
   "source": [
    "url = 'https://github.com/Gaurav-chatterjee/Harry-potter-Invisible-Cloak'\n",
    "df = predict_language(url, tfidf, lm_tfidf)\n",
    "df"
   ]
  },
  {
   "cell_type": "code",
   "execution_count": null,
   "metadata": {},
   "outputs": [],
   "source": []
  },
  {
   "cell_type": "markdown",
   "metadata": {},
   "source": []
  }
 ],
 "metadata": {
  "kernelspec": {
   "display_name": "Python 3",
   "language": "python",
   "name": "python3"
  },
  "language_info": {
   "codemirror_mode": {
    "name": "ipython",
    "version": 3
   },
   "file_extension": ".py",
   "mimetype": "text/x-python",
   "name": "python",
   "nbconvert_exporter": "python",
   "pygments_lexer": "ipython3",
   "version": "3.7.9"
  },
  "toc": {
   "base_numbering": 1,
   "nav_menu": {},
   "number_sections": true,
   "sideBar": true,
   "skip_h1_title": false,
   "title_cell": "Table of Contents",
   "title_sidebar": "Contents",
   "toc_cell": false,
   "toc_position": {
    "height": "calc(100% - 180px)",
    "left": "10px",
    "top": "150px",
    "width": "280.188px"
   },
   "toc_section_display": true,
   "toc_window_display": true
  }
 },
 "nbformat": 4,
 "nbformat_minor": 4
}
